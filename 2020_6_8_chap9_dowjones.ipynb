{
  "nbformat": 4,
  "nbformat_minor": 0,
  "metadata": {
    "colab": {
      "name": "2020_6_8_chap9_dowjones.ipynb",
      "provenance": [],
      "collapsed_sections": [],
      "include_colab_link": true
    },
    "kernelspec": {
      "name": "python3",
      "display_name": "Python 3"
    }
  },
  "cells": [
    {
      "cell_type": "markdown",
      "metadata": {
        "id": "view-in-github",
        "colab_type": "text"
      },
      "source": [
        "<a href=\"https://colab.research.google.com/github/xiaoyi-yuxiao/python-code-for-FinancialAnalysis-book/blob/master/2020_6_8_chap9_dowjones.ipynb\" target=\"_parent\"><img src=\"https://colab.research.google.com/assets/colab-badge.svg\" alt=\"Open In Colab\"/></a>"
      ]
    },
    {
      "cell_type": "code",
      "metadata": {
        "id": "-wXN70TOiChZ",
        "colab_type": "code",
        "colab": {}
      },
      "source": [
        "pip install requests_html"
      ],
      "execution_count": null,
      "outputs": []
    },
    {
      "cell_type": "code",
      "metadata": {
        "id": "18mHio_1dqPJ",
        "colab_type": "code",
        "colab": {}
      },
      "source": [
        "pip install yahoo_fin"
      ],
      "execution_count": null,
      "outputs": []
    },
    {
      "cell_type": "code",
      "metadata": {
        "id": "SVRmoAZWZxPv",
        "colab_type": "code",
        "colab": {}
      },
      "source": [
        "pip install bs4"
      ],
      "execution_count": null,
      "outputs": []
    },
    {
      "cell_type": "code",
      "metadata": {
        "id": "zMqk1o69ZyoO",
        "colab_type": "code",
        "colab": {}
      },
      "source": [
        "pip install requests"
      ],
      "execution_count": null,
      "outputs": []
    },
    {
      "cell_type": "code",
      "metadata": {
        "id": "ODbMV4YShPs3",
        "colab_type": "code",
        "colab": {}
      },
      "source": [
        "from yahoo_fin.stock_info import *\n",
        "import pandas as pd\n",
        "from tabulate import tabulate\n",
        "import datetime as dt#get current date\n",
        "from google.colab import files\n",
        "import requests\n",
        "from bs4 import BeautifulSoup\n",
        "import numpy as np"
      ],
      "execution_count": null,
      "outputs": []
    },
    {
      "cell_type": "code",
      "metadata": {
        "id": "AW1tFAVuZozG",
        "colab_type": "code",
        "colab": {}
      },
      "source": [
        "def html_beautifulsoup(url):\n",
        "    response = requests.get(url)\n",
        "    html = response.content\n",
        "\n",
        "    #beautifulsoup html will not look like soure\n",
        "    #review beautifulsoup html to use find and findall\n",
        "    soup = BeautifulSoup(html,\"lxml\")\n",
        "    return soup\n",
        "\n",
        "#soup_html: soup html is not same as source html\n",
        "def yahoo_description(soup_html):\n",
        "    element = soup_html.find('h1',class_='D(ib) Fz(16px) Lh(18px)')\n",
        "    return element.text  "
      ],
      "execution_count": null,
      "outputs": []
    },
    {
      "cell_type": "code",
      "metadata": {
        "id": "RtQXEWACsSGz",
        "colab_type": "code",
        "colab": {
          "base_uri": "https://localhost:8080/",
          "height": 71
        },
        "outputId": "c824b8e2-7a74-42b6-da44-0cad609d7399"
      },
      "source": [
        "previousday = dt.date.today()-dt.timedelta(days=1)# get the date of previous day\n",
        "Default_end = previousday.strftime(\"%Y-%m-%d\") # change the format of the default datetime \n",
        "years_ago = dt.date.today()-dt.timedelta(days=5 * 365)\n",
        "Default_start = years_ago.strftime(\"%Y-%m-%d\")\n",
        "\n",
        "# request user input\n",
        "print(\"Calculate the 4 statistical moments of the rate of returns of the Dow 30 stocks.\")\n",
        "Start = input('Enter start date(' + 'Default = 5 Years ago, ' + Default_start + ')-->') or Default_start\n",
        "T_interval = input('Enter date interval(1d,1wk,1mo Default = 1mo)-->') or '1mo'"
      ],
      "execution_count": null,
      "outputs": [
        {
          "output_type": "stream",
          "text": [
            "Calculate the 4 statistical moments of the rate of returns of the Dow 30 stocks.\n",
            "Enter start date(Default = 5 Years ago, 2015-06-25)-->2015-06-25\n",
            "Enter date interval(1d,1wk,1mo Default = 1mo)-->1mo\n"
          ],
          "name": "stdout"
        }
      ]
    },
    {
      "cell_type": "markdown",
      "metadata": {
        "id": "fMZIy1eeWOO6",
        "colab_type": "text"
      },
      "source": [
        "Display price"
      ]
    },
    {
      "cell_type": "code",
      "metadata": {
        "id": "Z2oz8-VAk4BG",
        "colab_type": "code",
        "colab": {
          "base_uri": "https://localhost:8080/",
          "height": 553
        },
        "outputId": "ea695c63-6605-450f-9bd3-b5d24d1a90bf"
      },
      "source": [
        "pd.set_option('display.max_rows', None)\n",
        "pd.set_option('display.max_columns', None)\n",
        "tickers = tickers_dow() # procedure from yahoo_fin\n",
        "Data = []\n",
        "Url = []\n",
        "\n",
        "#retrieving stock description from Yahoo!Finance\n",
        "i = 1\n",
        "for ticker in range(len(tickers)):\n",
        "  Data.append(get_data(tickers[ticker], start_date = Start,index_as_date = True, interval = T_interval)['adjclose'])\n",
        "  soup_html = html_beautifulsoup(\"https://finance.yahoo.com/quote/\"  + tickers[ticker])\n",
        "  stock_name = yahoo_description(soup_html)\n",
        "  Url.append('https://finance.yahoo.com/quote/'+tickers[ticker])\n",
        "  tickers[ticker] = stock_name\n",
        "  print(str(i) + ' of 30   Getting ' + stock_name + ' data ...')\n",
        "  i=i+1\n",
        "\n",
        "Data = pd.concat(Data,axis=1)\n",
        "Data.columns = tickers"
      ],
      "execution_count": null,
      "outputs": [
        {
          "output_type": "stream",
          "text": [
            "1 of 30   Getting AAPL - Apple Inc. data ...\n",
            "2 of 30   Getting AXP - American Express Company data ...\n",
            "3 of 30   Getting BA - The Boeing Company data ...\n",
            "4 of 30   Getting CAT - Caterpillar Inc. data ...\n",
            "5 of 30   Getting CSCO - Cisco Systems, Inc. data ...\n",
            "6 of 30   Getting CVX - Chevron Corporation data ...\n",
            "7 of 30   Getting DIS - The Walt Disney Company data ...\n",
            "8 of 30   Getting DOW - Dow Inc. data ...\n",
            "9 of 30   Getting GS - The Goldman Sachs Group, Inc. data ...\n",
            "10 of 30   Getting HD - The Home Depot, Inc. data ...\n",
            "11 of 30   Getting IBM - International Business Machines Corporation data ...\n",
            "12 of 30   Getting INTC - Intel Corporation data ...\n",
            "13 of 30   Getting JNJ - Johnson & Johnson data ...\n",
            "14 of 30   Getting JPM - JPMorgan Chase & Co. data ...\n",
            "15 of 30   Getting KO - The Coca-Cola Company data ...\n",
            "16 of 30   Getting MCD - McDonald's Corporation data ...\n",
            "17 of 30   Getting MMM - 3M Company data ...\n",
            "18 of 30   Getting MRK - Merck & Co., Inc. data ...\n",
            "19 of 30   Getting MSFT - Microsoft Corporation data ...\n",
            "20 of 30   Getting NKE - NIKE, Inc. data ...\n",
            "21 of 30   Getting PFE - Pfizer Inc. data ...\n",
            "22 of 30   Getting PG - The Procter & Gamble Company data ...\n",
            "23 of 30   Getting RTX - Raytheon Technologies Corporation data ...\n",
            "24 of 30   Getting TRV - The Travelers Companies, Inc. data ...\n",
            "25 of 30   Getting UNH - UnitedHealth Group Incorporated data ...\n",
            "26 of 30   Getting V - Visa Inc. data ...\n",
            "27 of 30   Getting VZ - Verizon Communications Inc. data ...\n",
            "28 of 30   Getting WBA - Walgreens Boots Alliance, Inc. data ...\n",
            "29 of 30   Getting WMT - Walmart Inc. data ...\n",
            "30 of 30   Getting XOM - Exxon Mobil Corporation data ...\n"
          ],
          "name": "stdout"
        }
      ]
    },
    {
      "cell_type": "code",
      "metadata": {
        "id": "WqC_wITGq4DN",
        "colab_type": "code",
        "colab": {
          "base_uri": "https://localhost:8080/",
          "height": 714
        },
        "outputId": "eb217da1-d172-46ae-83ce-d375e38a29a6"
      },
      "source": [
        "#print DOW 30  First 4 Statistical Moments\n",
        "Ret = Data.pct_change()\n",
        "summury = pd.concat([Ret.mean(),Ret.std(),Ret.skew(),Ret.kurtosis(),np.divide(Ret.std(),Ret.mean())],axis=1)\n",
        "summury.columns = ['Mean','standard deviation','skewness','kurtosis','coefficient of variation']\n",
        "summury.insert(0, \"Ticker&stock description\", tickers, True) \n",
        "summury.insert(6, \"Url\", Url, True) \n",
        "\n",
        "print(\"\")\n",
        "print(\"                                                                                First Four Moments of Rates of Returns\")\n",
        "print(\"                                                                                    Dow Jones Industrial 30 Firms\")\n",
        "print (\"                                                                                       \" + Start + ' to ' + Default_end            )\n",
        "print(\"\")\n",
        "print(tabulate(summury,headers=summury.columns,tablefmt=\"github\",showindex=False))\n",
        "print(\"\")\n",
        "print(\"Dow 30 List Source: https://finance.yahoo.com/quote/^DJI/components\")"
      ],
      "execution_count": null,
      "outputs": [
        {
          "output_type": "stream",
          "text": [
            "\n",
            "                                                                                First Four Moments of Rates of Returns\n",
            "                                                                                    Dow Jones Industrial 30 Firms\n",
            "                                                                                       2015-06-25 to 2020-06-22\n",
            "\n",
            "| Ticker&stock description                          |         Mean |   standard deviation |   skewness |   kurtosis |   coefficient of variation | Url                                  |\n",
            "|---------------------------------------------------|--------------|----------------------|------------|------------|----------------------------|--------------------------------------|\n",
            "| AAPL - Apple Inc.                                 |  0.0231772   |            0.080734  | -0.36072   | -0.214222  |                    3.48333 | https://finance.yahoo.com/quote/AAPL |\n",
            "| AXP - American Express Company                    |  0.00814628  |            0.0665038 | -1.76397   |  4.29124   |                    8.16371 | https://finance.yahoo.com/quote/AXP  |\n",
            "| BA - The Boeing Company                           |  0.0126615   |            0.107484  | -1.00761   |  5.54906   |                    8.489   | https://finance.yahoo.com/quote/BA   |\n",
            "| CAT - Caterpillar Inc.                            |  0.013701    |            0.0766653 | -0.444344  | -0.0437585 |                    5.59561 | https://finance.yahoo.com/quote/CAT  |\n",
            "| CSCO - Cisco Systems, Inc.                        |  0.0126871   |            0.0650341 | -0.248121  | -0.168891  |                    5.126   | https://finance.yahoo.com/quote/CSCO |\n",
            "| CVX - Chevron Corporation                         |  0.00686037  |            0.0731423 |  0.389801  |  3.02088   |                   10.6616  | https://finance.yahoo.com/quote/CVX  |\n",
            "| DIS - The Walt Disney Company                     |  0.00290955  |            0.0680176 |  0.369903  |  2.42842   |                   23.3774  | https://finance.yahoo.com/quote/DIS  |\n",
            "| DOW - Dow Inc.                                    |  0.000672196 |            0.135395  | -0.30761   | -0.225543  |                  201.423   | https://finance.yahoo.com/quote/DOW  |\n",
            "| GS - The Goldman Sachs Group, Inc.                |  0.00482251  |            0.0839921 |  0.0207986 |  0.722008  |                   17.4167  | https://finance.yahoo.com/quote/GS   |\n",
            "| HD - The Home Depot, Inc.                         |  0.0165723   |            0.0593428 | -0.262142  |  1.28914   |                    3.58083 | https://finance.yahoo.com/quote/HD   |\n",
            "| IBM - International Business Machines Corporation |  0.00136072  |            0.0710696 | -0.271431  |  1.66929   |                   52.2294  | https://finance.yahoo.com/quote/IBM  |\n",
            "| INTC - Intel Corporation                          |  0.0165385   |            0.0643372 | -0.0599566 |  0.36439   |                    3.89014 | https://finance.yahoo.com/quote/INTC |\n",
            "| JNJ - Johnson & Johnson                           |  0.00936518  |            0.0465299 | -0.0743372 |  1.01483   |                    4.9684  | https://finance.yahoo.com/quote/JNJ  |\n",
            "| JPM - JPMorgan Chase & Co.                        |  0.0106008   |            0.0664265 | -0.650766  |  1.8619    |                    6.26615 | https://finance.yahoo.com/quote/JPM  |\n",
            "| KO - The Coca-Cola Company                        |  0.00565084  |            0.0430598 | -1.42564   |  4.04635   |                    7.62007 | https://finance.yahoo.com/quote/KO   |\n",
            "| MCD - McDonald's Corporation                      |  0.0140889   |            0.0500209 | -0.328468  |  1.46464   |                    3.55037 | https://finance.yahoo.com/quote/MCD  |\n",
            "| MMM - 3M Company                                  |  0.0046543   |            0.0582243 | -0.499175  |  0.0632643 |                   12.5098  | https://finance.yahoo.com/quote/MMM  |\n",
            "| MRK - Merck & Co., Inc.                           |  0.00859435  |            0.0509637 | -0.458345  |  0.263983  |                    5.9299  | https://finance.yahoo.com/quote/MRK  |\n",
            "| MSFT - Microsoft Corporation                      |  0.0279022   |            0.0548538 |  0.142252  |  0.681308  |                    1.96593 | https://finance.yahoo.com/quote/MSFT |\n",
            "| NKE - NIKE, Inc.                                  |  0.0124146   |            0.0608467 | -0.0738745 | -0.492547  |                    4.90122 | https://finance.yahoo.com/quote/NKE  |\n",
            "| PFE - Pfizer Inc.                                 |  0.00303382  |            0.0545055 |  0.296586  |  0.863278  |                   17.966   | https://finance.yahoo.com/quote/PFE  |\n",
            "| PG - The Procter & Gamble Company                 |  0.0107624   |            0.0411382 | -0.61813   | -0.0415866 |                    3.8224  | https://finance.yahoo.com/quote/PG   |\n",
            "| RTX - Raytheon Technologies Corporation           |  0.0048038   |            0.0673537 | -1.4083    |  3.98977   |                   14.0209  | https://finance.yahoo.com/quote/RTX  |\n",
            "| TRV - The Travelers Companies, Inc.               |  0.00507599  |            0.0550889 | -0.372325  |  1.11055   |                   10.8528  | https://finance.yahoo.com/quote/TRV  |\n",
            "| UNH - UnitedHealth Group Incorporated             |  0.0179592   |            0.0587722 |  0.260673  |  0.523582  |                    3.27255 | https://finance.yahoo.com/quote/UNH  |\n",
            "| V - Visa Inc.                                     |  0.0180429   |            0.0488229 | -0.483905  |  0.164534  |                    2.70594 | https://finance.yahoo.com/quote/V    |\n",
            "| VZ - Verizon Communications Inc.                  |  0.00783034  |            0.0488209 | -0.211226  | -0.716702  |                    6.23483 | https://finance.yahoo.com/quote/VZ   |\n",
            "| WBA - Walgreens Boots Alliance, Inc.              | -0.0090457   |            0.0677981 | -0.321228  |  0.0870396 |                   -7.49506 | https://finance.yahoo.com/quote/WBA  |\n",
            "| WMT - Walmart Inc.                                |  0.0124172   |            0.0523776 | -0.599475  |  1.2415    |                    4.21815 | https://finance.yahoo.com/quote/WMT  |\n",
            "| XOM - Exxon Mobil Corporation                     | -0.00248171  |            0.0724736 | -0.524639  |  2.81103   |                  -29.2031  | https://finance.yahoo.com/quote/XOM  |\n",
            "\n",
            "Dow 30 List Source: https://finance.yahoo.com/quote/^DJI/components\n"
          ],
          "name": "stdout"
        }
      ]
    },
    {
      "cell_type": "code",
      "metadata": {
        "id": "ACwyddqUrr4d",
        "colab_type": "code",
        "colab": {
          "base_uri": "https://localhost:8080/",
          "height": 53
        },
        "outputId": "10c6cdf0-d487-4102-ff3f-5d311bdd7a5d"
      },
      "source": [
        "#Save dow 30 report to download folder\n",
        "summury.to_csv('Dow30FourMoments.csv')\n",
        "print(\"Saving Dow 30 report to 'Download' folder\") \n",
        "files.download('Dow30FourMoments.csv')\n",
        "print(\"Finish saving Dow 30 report to 'Download' folder\")"
      ],
      "execution_count": null,
      "outputs": [
        {
          "output_type": "stream",
          "text": [
            "Saving Dow 30 report to 'Download' folder\n"
          ],
          "name": "stdout"
        },
        {
          "output_type": "display_data",
          "data": {
            "application/javascript": [
              "\n",
              "    async function download(id, filename, size) {\n",
              "      if (!google.colab.kernel.accessAllowed) {\n",
              "        return;\n",
              "      }\n",
              "      const div = document.createElement('div');\n",
              "      const label = document.createElement('label');\n",
              "      label.textContent = `Downloading \"${filename}\": `;\n",
              "      div.appendChild(label);\n",
              "      const progress = document.createElement('progress');\n",
              "      progress.max = size;\n",
              "      div.appendChild(progress);\n",
              "      document.body.appendChild(div);\n",
              "\n",
              "      const buffers = [];\n",
              "      let downloaded = 0;\n",
              "\n",
              "      const channel = await google.colab.kernel.comms.open(id);\n",
              "      // Send a message to notify the kernel that we're ready.\n",
              "      channel.send({})\n",
              "\n",
              "      for await (const message of channel.messages) {\n",
              "        // Send a message to notify the kernel that we're ready.\n",
              "        channel.send({})\n",
              "        if (message.buffers) {\n",
              "          for (const buffer of message.buffers) {\n",
              "            buffers.push(buffer);\n",
              "            downloaded += buffer.byteLength;\n",
              "            progress.value = downloaded;\n",
              "          }\n",
              "        }\n",
              "      }\n",
              "      const blob = new Blob(buffers, {type: 'application/binary'});\n",
              "      const a = document.createElement('a');\n",
              "      a.href = window.URL.createObjectURL(blob);\n",
              "      a.download = filename;\n",
              "      div.appendChild(a);\n",
              "      a.click();\n",
              "      div.remove();\n",
              "    }\n",
              "  "
            ],
            "text/plain": [
              "<IPython.core.display.Javascript object>"
            ]
          },
          "metadata": {
            "tags": []
          }
        },
        {
          "output_type": "display_data",
          "data": {
            "application/javascript": [
              "download(\"download_a074ff92-ee1c-4e62-a5b1-89c2c00ee81c\", \"Dow30FourMoments.csv\", 5818)"
            ],
            "text/plain": [
              "<IPython.core.display.Javascript object>"
            ]
          },
          "metadata": {
            "tags": []
          }
        },
        {
          "output_type": "stream",
          "text": [
            "Finish saving Dow 30 report to 'Download' folder\n"
          ],
          "name": "stdout"
        }
      ]
    }
  ]
}