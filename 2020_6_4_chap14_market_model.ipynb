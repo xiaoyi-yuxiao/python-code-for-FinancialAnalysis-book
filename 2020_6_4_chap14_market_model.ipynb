{
  "nbformat": 4,
  "nbformat_minor": 0,
  "metadata": {
    "colab": {
      "name": "2020_6_4_chap14_market_model.ipynb",
      "provenance": [],
      "collapsed_sections": [],
      "include_colab_link": true
    },
    "kernelspec": {
      "name": "python3",
      "display_name": "Python 3"
    }
  },
  "cells": [
    {
      "cell_type": "markdown",
      "metadata": {
        "id": "view-in-github",
        "colab_type": "text"
      },
      "source": [
        "<a href=\"https://colab.research.google.com/github/xiaoyi-yuxiao/python-code-for-FinancialAnalysis-book/blob/master/2020_6_4_chap14_market_model.ipynb\" target=\"_parent\"><img src=\"https://colab.research.google.com/assets/colab-badge.svg\" alt=\"Open In Colab\"/></a>"
      ]
    },
    {
      "cell_type": "code",
      "metadata": {
        "id": "iO2-RMyIW6bB",
        "colab_type": "code",
        "colab": {}
      },
      "source": [
        "pip install requests_html"
      ],
      "execution_count": null,
      "outputs": []
    },
    {
      "cell_type": "code",
      "metadata": {
        "id": "ojKH1zPU8Bja",
        "colab_type": "code",
        "colab": {}
      },
      "source": [
        "pip install yfinance"
      ],
      "execution_count": null,
      "outputs": []
    },
    {
      "cell_type": "code",
      "metadata": {
        "id": "UFEdHAKhWnhy",
        "colab_type": "code",
        "colab": {}
      },
      "source": [
        "pip install yahoo_fin"
      ],
      "execution_count": null,
      "outputs": []
    },
    {
      "cell_type": "code",
      "metadata": {
        "id": "msPwaYWmg9d7",
        "colab_type": "code",
        "colab": {}
      },
      "source": [
        "pip install requests"
      ],
      "execution_count": null,
      "outputs": []
    },
    {
      "cell_type": "code",
      "metadata": {
        "id": "chI4GMJ1hFIU",
        "colab_type": "code",
        "colab": {}
      },
      "source": [
        "pip install bs4"
      ],
      "execution_count": null,
      "outputs": []
    },
    {
      "cell_type": "code",
      "metadata": {
        "id": "_5NKH4BXxi1S",
        "colab_type": "code",
        "colab": {}
      },
      "source": [
        "!pip install -U -q PyDrive"
      ],
      "execution_count": null,
      "outputs": []
    },
    {
      "cell_type": "code",
      "metadata": {
        "id": "sg3ZUJ6yqVwa",
        "colab_type": "code",
        "colab": {}
      },
      "source": [
        "import yfinance as yf\n",
        "import matplotlib.pyplot as plt\n",
        "import numpy as np\n",
        "import pandas as pd\n",
        "from scipy.stats import kurtosis, skew\n",
        "from tabulate import tabulate\n",
        "import datetime as dt#get current date\n",
        "import statsmodels.api as sm\n",
        "from statsmodels.formula.api import ols\n",
        "from statsmodels.stats.anova import anova_lm\n",
        "from yahoo_fin.stock_info import get_quote_table\n",
        "import requests\n",
        "from bs4 import BeautifulSoup\n",
        "import matplotlib.ticker as mtick\n",
        "from google.colab import files\n",
        "from pydrive.auth import GoogleAuth\n",
        "from pydrive.drive import GoogleDrive\n",
        "from google.colab import auth\n",
        "from oauth2client.client import GoogleCredentials"
      ],
      "execution_count": null,
      "outputs": []
    },
    {
      "cell_type": "code",
      "metadata": {
        "id": "LXe3dSm36orQ",
        "colab_type": "code",
        "colab": {}
      },
      "source": [
        "def Usr_input():\n",
        "  previousday = dt.date.today()-dt.timedelta(days=1)# get the date of previous day\n",
        "  Default_end = previousday.strftime(\"%Y-%m-%d\") # change the format of the default datetime \n",
        "  years_ago = dt.date.today()-dt.timedelta(days=(5 * 365) + 30)\n",
        "  Default_start = years_ago.strftime(\"%Y-%m-%d\")\n",
        "  Ticker = input('Please enter ticker(Default = JNJ)-->') or 'JNJ'\n",
        "  Start = input('Enter start date(' + 'Default = 5 Years ago, ' + Default_start + ')-->') or Default_start\n",
        "  End = input('Enter end date(Default = Yesterday, ' + Default_end + ')-->') or Default_end\n",
        "  T_interval = input('Enter date interval(1d,1wk,1mo Default = 1mo)-->') or '1mo'\n",
        "  return Ticker, Start, End, T_interval"
      ],
      "execution_count": null,
      "outputs": []
    },
    {
      "cell_type": "code",
      "metadata": {
        "id": "lZ0YZ--Q6y96",
        "colab_type": "code",
        "colab": {}
      },
      "source": [
        "def calculate_ret(stock_a,stock_M,start,end_t,T_interval):\n",
        "  Stock_price_a = yf.download(stock_a,start=start,end=end_t,interval = T_interval)['Adj Close'].dropna()\n",
        "  Ret_a = Stock_price_a.pct_change()[1:]\n",
        "  Stock_price_M = yf.download(stock_M,start=start,end=end_t,interval = T_interval)['Adj Close'].dropna()\n",
        "  Ret_M = Stock_price_M.pct_change()[1:]\n",
        "  Ret = pd.DataFrame([Ret_a,Ret_M])\n",
        "  Ret = Ret.T\n",
        "  Ret.columns = [stock_a,'SNP']\n",
        "  return Ret"
      ],
      "execution_count": null,
      "outputs": []
    },
    {
      "cell_type": "code",
      "metadata": {
        "id": "zyP4Lufcg1ZR",
        "colab_type": "code",
        "colab": {}
      },
      "source": [
        "def html_beautifulsoup(url):\n",
        "    response = requests.get(url)\n",
        "    html = response.content\n",
        "\n",
        "    #beautifulsoup html will not look like soure\n",
        "    #review beautifulsoup html to use find and findall\n",
        "    soup = BeautifulSoup(html,\"lxml\")\n",
        "    return soup\n",
        "\n",
        "#soup_html: soup html is not same as source html\n",
        "def yahoo_description(soup_html):\n",
        "    element = soup_html.find('h1',class_='D(ib) Fz(16px) Lh(18px)')\n",
        "    return element.text  "
      ],
      "execution_count": null,
      "outputs": []
    },
    {
      "cell_type": "code",
      "metadata": {
        "id": "8MiPtlupgfsR",
        "colab_type": "code",
        "colab": {
          "base_uri": "https://localhost:8080/",
          "height": 92
        },
        "outputId": "416e62de-270a-42c9-99bd-f73b5f641280"
      },
      "source": [
        "(Ticker,macro_start,macro_end,macro_T_interval) = Usr_input()\n",
        "soup_html = html_beautifulsoup(\"https://finance.yahoo.com/quote/\"  +Ticker)\n",
        "Ticker_shortN = yahoo_description(soup_html)"
      ],
      "execution_count": null,
      "outputs": [
        {
          "output_type": "stream",
          "text": [
            "Please enter ticker(Default = JNJ)-->JNJ\n",
            "Enter start date(Default = 5 Years ago, 2015-06-18)-->2015-06-18\n",
            "Enter end date(Default = Yesterday, 2020-07-15)-->2020-07-15\n",
            "Enter date interval(1d,1wk,1mo Default = 1mo)-->1mo\n"
          ],
          "name": "stdout"
        }
      ]
    },
    {
      "cell_type": "code",
      "metadata": {
        "id": "ZQF5Y1hi8eip",
        "colab_type": "code",
        "colab": {
          "base_uri": "https://localhost:8080/",
          "height": 542
        },
        "outputId": "6749f6f7-2ee7-4079-adb7-1d1009c97e2e"
      },
      "source": [
        "ret = calculate_ret(Ticker,'^GSPC',macro_start,macro_end,macro_T_interval)\n",
        "ret_M = ret['SNP']\n",
        "ret_a = ret[Ticker]\n",
        "\n",
        "ret_Mc = sm.add_constant(ret_M)\n",
        "results = sm.OLS(ret_a,ret_Mc).fit()\n",
        "print('                                 Market Model')\n",
        "print(results.summary())"
      ],
      "execution_count": null,
      "outputs": [
        {
          "output_type": "stream",
          "text": [
            "[*********************100%***********************]  1 of 1 completed\n",
            "[*********************100%***********************]  1 of 1 completed\n",
            "                                 Market Model\n",
            "                            OLS Regression Results                            \n",
            "==============================================================================\n",
            "Dep. Variable:                    JNJ   R-squared:                       0.397\n",
            "Model:                            OLS   Adj. R-squared:                  0.387\n",
            "Method:                 Least Squares   F-statistic:                     38.26\n",
            "Date:                Thu, 16 Jul 2020   Prob (F-statistic):           6.72e-08\n",
            "Time:                        15:32:56   Log-Likelihood:                 113.76\n",
            "No. Observations:                  60   AIC:                            -223.5\n",
            "Df Residuals:                      58   BIC:                            -219.3\n",
            "Df Model:                           1                                         \n",
            "Covariance Type:            nonrobust                                         \n",
            "==============================================================================\n",
            "                 coef    std err          t      P>|t|      [0.025      0.975]\n",
            "------------------------------------------------------------------------------\n",
            "const          0.0043      0.005      0.892      0.376      -0.005       0.014\n",
            "SNP            0.6944      0.112      6.186      0.000       0.470       0.919\n",
            "==============================================================================\n",
            "Omnibus:                        0.583   Durbin-Watson:                   1.951\n",
            "Prob(Omnibus):                  0.747   Jarque-Bera (JB):                0.704\n",
            "Skew:                          -0.115   Prob(JB):                        0.703\n",
            "Kurtosis:                       2.522   Cond. No.                         23.5\n",
            "==============================================================================\n",
            "\n",
            "Warnings:\n",
            "[1] Standard Errors assume that the covariance matrix of the errors is correctly specified.\n"
          ],
          "name": "stdout"
        }
      ]
    },
    {
      "cell_type": "code",
      "metadata": {
        "id": "v198PGDrerUJ",
        "colab_type": "code",
        "colab": {
          "base_uri": "https://localhost:8080/",
          "height": 73
        },
        "outputId": "d9caef4f-575d-423c-f738-9ff42d94170b"
      },
      "source": [
        "model = ols(Ticker+' ~ SNP',ret).fit()\n",
        "anova_table = anova_lm(model)\n",
        "print(anova_table)"
      ],
      "execution_count": null,
      "outputs": [
        {
          "output_type": "stream",
          "text": [
            "            df    sum_sq   mean_sq         F        PR(>F)\n",
            "SNP        1.0  0.052256  0.052256  38.26166  6.723429e-08\n",
            "Residual  58.0  0.079213  0.001366       NaN           NaN\n"
          ],
          "name": "stdout"
        }
      ]
    },
    {
      "cell_type": "code",
      "metadata": {
        "id": "y8rhWXKo_gH2",
        "colab_type": "code",
        "colab": {
          "base_uri": "https://localhost:8080/",
          "height": 512
        },
        "outputId": "e8a4e394-b9be-48d5-e7d2-a8f480f94aa1"
      },
      "source": [
        "plt.figure(figsize=(14,7))\n",
        "plt.gca().yaxis.set_major_formatter(mtick.PercentFormatter())\n",
        "plt.gca().xaxis.set_major_formatter(mtick.PercentFormatter())\n",
        "(a,b) = results.params\n",
        "R_sq = results.rsquared\n",
        "predict = a+np.multiply(ret_M,b)\n",
        "plt.scatter(ret_M*100,predict*100)\n",
        "plt.scatter(ret_M*100,ret_a*100)\n",
        "plt.text(7, 6, 'Y={:.4f}+{:.4f}*X'.format(a,b), fontsize=12)\n",
        "plt.text(7, 4, r'$R^2$ = {:.4f}'.format(R_sq), fontsize=12)\n",
        "plt.suptitle(Ticker_shortN+' Market model',fontsize=20)\n",
        "plt.title(macro_start+' to '+macro_end,fontsize = 16)\n",
        "plt.grid(True)\n",
        "plt.xlabel('S&P 500 index',fontweight='bold')\n",
        "plt.ylabel(Ticker_shortN,fontweight='bold')"
      ],
      "execution_count": null,
      "outputs": [
        {
          "output_type": "execute_result",
          "data": {
            "text/plain": [
              "Text(0, 0.5, 'JNJ - Johnson & Johnson')"
            ]
          },
          "metadata": {
            "tags": []
          },
          "execution_count": 14
        },
        {
          "output_type": "display_data",
          "data": {
            "image/png": "[encoded data removed]",
            "text/plain": [
              "<Figure size 1008x504 with 1 Axes>"
            ]
          },
          "metadata": {
            "tags": [],
            "needs_background": "light"
          }
        }
      ]
    },
    {
      "cell_type": "code",
      "metadata": {
        "id": "fHPtnvidWLXX",
        "colab_type": "code",
        "colab": {
          "base_uri": "https://localhost:8080/",
          "height": 355
        },
        "outputId": "990fe930-4b0e-4d74-aa46-d07732621e6b"
      },
      "source": [
        "a=get_quote_table(Ticker , dict_result = True)\n",
        "a = pd.DataFrame(a, index=[0])\n",
        "a = a.T\n",
        "a.columns = ['Value']\n",
        "print(a)"
      ],
      "execution_count": null,
      "outputs": [
        {
          "output_type": "stream",
          "text": [
            "                                    Value\n",
            "1y Target Est                      164.24\n",
            "52 Week Range             109.16 - 157.00\n",
            "Ask                          147.35 x 800\n",
            "Avg. Volume                   7.78186e+06\n",
            "Beta (5Y Monthly)                     0.7\n",
            "Bid                         147.32 x 3100\n",
            "Day's Range               146.68 - 148.90\n",
            "EPS (TTM)                            6.41\n",
            "Earnings Date                Jul 16, 2020\n",
            "Ex-Dividend Date             May 22, 2020\n",
            "Forward Dividend & Yield     4.04 (2.73%)\n",
            "Market Cap                       387.517B\n",
            "Open                               148.68\n",
            "PE Ratio (TTM)                      22.94\n",
            "Previous Close                     148.26\n",
            "Quote Price                           147\n",
            "Volume                        3.39033e+06\n"
          ],
          "name": "stdout"
        }
      ]
    },
    {
      "cell_type": "code",
      "metadata": {
        "id": "xUkFEZiju9Va",
        "colab_type": "code",
        "colab": {
          "base_uri": "https://localhost:8080/",
          "height": 1000
        },
        "outputId": "f786cfac-30b1-4de5-bb9f-1495d5e9a011"
      },
      "source": [
        "#print data set for market model.\n",
        "Ret = ret\n",
        "Ret.columns = [Ticker_shortN,'S&P 500']\n",
        "pd.options.display.float_format = '{:.4f}'.format\n",
        "print(Ret)"
      ],
      "execution_count": null,
      "outputs": [
        {
          "output_type": "stream",
          "text": [
            "            JNJ - Johnson & Johnson  S&P 500\n",
            "Date                                        \n",
            "2015-08-01                  -0.0622  -0.0626\n",
            "2015-09-01                   0.0009  -0.0264\n",
            "2015-10-01                   0.0823   0.0830\n",
            "2015-11-01                   0.0021   0.0005\n",
            "2015-12-01                   0.0221  -0.0175\n",
            "2016-01-01                   0.0167  -0.0507\n",
            "2016-02-01                   0.0074  -0.0041\n",
            "2016-03-01                   0.0359   0.0660\n",
            "2016-04-01                   0.0359   0.0027\n",
            "2016-05-01                   0.0054   0.0153\n",
            "2016-06-01                   0.0841   0.0009\n",
            "2016-07-01                   0.0324   0.0356\n",
            "2016-08-01                  -0.0470  -0.0012\n",
            "2016-09-01                  -0.0035  -0.0012\n",
            "2016-10-01                  -0.0181  -0.0194\n",
            "2016-11-01                  -0.0404   0.0342\n",
            "2016-12-01                   0.0423   0.0182\n",
            "2017-01-01                  -0.0170   0.0179\n",
            "2017-02-01                   0.0791   0.0372\n",
            "2017-03-01                   0.0259  -0.0004\n",
            "2017-04-01                  -0.0087   0.0091\n",
            "2017-05-01                   0.0387   0.0116\n",
            "2017-06-01                   0.0383   0.0048\n",
            "2017-07-01                   0.0033   0.0193\n",
            "2017-08-01                  -0.0026   0.0005\n",
            "2017-09-01                  -0.0116   0.0193\n",
            "2017-10-01                   0.0723   0.0222\n",
            "2017-11-01                  -0.0006   0.0037\n",
            "2017-12-01                   0.0089   0.0343\n",
            "2018-01-01                  -0.0110   0.0562\n",
            "2018-02-01                  -0.0601  -0.0389\n",
            "2018-03-01                  -0.0070  -0.0269\n",
            "2018-04-01                  -0.0130   0.0027\n",
            "2018-05-01                  -0.0543   0.0216\n",
            "2018-06-01                   0.0219   0.0048\n",
            "2018-07-01                   0.0921   0.0360\n",
            "2018-08-01                   0.0164   0.0303\n",
            "2018-09-01                   0.0327   0.0043\n",
            "2018-10-01                   0.0132  -0.0694\n",
            "2018-11-01                   0.0494   0.0179\n",
            "2018-12-01                  -0.1159  -0.0918\n",
            "2019-01-01                   0.0312   0.0787\n",
            "2019-02-01                   0.0268   0.0297\n",
            "2019-03-01                   0.0298   0.0179\n",
            "2019-04-01                   0.0101   0.0393\n",
            "2019-05-01                  -0.0712  -0.0658\n",
            "2019-06-01                   0.0693   0.0689\n",
            "2019-07-01                  -0.0650   0.0131\n",
            "2019-08-01                  -0.0143  -0.0181\n",
            "2019-09-01                   0.0155   0.0172\n",
            "2019-10-01                   0.0206   0.0204\n",
            "2019-11-01                   0.0413   0.0340\n",
            "2019-12-01                   0.0683   0.0286\n",
            "2020-01-01                   0.0206  -0.0016\n",
            "2020-02-01                  -0.0967  -0.0841\n",
            "2020-03-01                  -0.0187  -0.1251\n",
            "2020-04-01                   0.1442   0.1268\n",
            "2020-05-01                  -0.0086   0.0453\n",
            "2020-06-01                  -0.0480   0.0184\n",
            "2020-07-01                   0.0543   0.0407\n"
          ],
          "name": "stdout"
        }
      ]
    },
    {
      "cell_type": "markdown",
      "metadata": {
        "id": "c6sPMnvixrVH",
        "colab_type": "text"
      },
      "source": [
        "Download the file to local"
      ]
    },
    {
      "cell_type": "code",
      "metadata": {
        "id": "1rIw1XQawGPE",
        "colab_type": "code",
        "colab": {
          "base_uri": "https://localhost:8080/",
          "height": 36
        },
        "outputId": "d1b18718-fdc0-4141-98a0-ef57827abec1"
      },
      "source": [
        "# save data set to 'downloads' folder\n",
        "Ret.to_csv('chapter14_Market_model_' + Ticker + '.csv') \n",
        "files.download('chapter14_Market_model_' + Ticker + '.csv')\n",
        "print (\"The chapter14_Market_model_\" + Ticker + \"'.csv' file was downloaded to your 'Downloads' folder.\")"
      ],
      "execution_count": null,
      "outputs": [
        {
          "output_type": "display_data",
          "data": {
            "application/javascript": [
              "\n",
              "    async function download(id, filename, size) {\n",
              "      if (!google.colab.kernel.accessAllowed) {\n",
              "        return;\n",
              "      }\n",
              "      const div = document.createElement('div');\n",
              "      const label = document.createElement('label');\n",
              "      label.textContent = `Downloading \"${filename}\": `;\n",
              "      div.appendChild(label);\n",
              "      const progress = document.createElement('progress');\n",
              "      progress.max = size;\n",
              "      div.appendChild(progress);\n",
              "      document.body.appendChild(div);\n",
              "\n",
              "      const buffers = [];\n",
              "      let downloaded = 0;\n",
              "\n",
              "      const channel = await google.colab.kernel.comms.open(id);\n",
              "      // Send a message to notify the kernel that we're ready.\n",
              "      channel.send({})\n",
              "\n",
              "      for await (const message of channel.messages) {\n",
              "        // Send a message to notify the kernel that we're ready.\n",
              "        channel.send({})\n",
              "        if (message.buffers) {\n",
              "          for (const buffer of message.buffers) {\n",
              "            buffers.push(buffer);\n",
              "            downloaded += buffer.byteLength;\n",
              "            progress.value = downloaded;\n",
              "          }\n",
              "        }\n",
              "      }\n",
              "      const blob = new Blob(buffers, {type: 'application/binary'});\n",
              "      const a = document.createElement('a');\n",
              "      a.href = window.URL.createObjectURL(blob);\n",
              "      a.download = filename;\n",
              "      div.appendChild(a);\n",
              "      a.click();\n",
              "      div.remove();\n",
              "    }\n",
              "  "
            ],
            "text/plain": [
              "<IPython.core.display.Javascript object>"
            ]
          },
          "metadata": {
            "tags": []
          }
        },
        {
          "output_type": "display_data",
          "data": {
            "application/javascript": [
              "download(\"download_8d13845a-9856-4d25-9758-0b51206d7dd3\", \"chapter14_Market_model_JNJ.csv\", 3196)"
            ],
            "text/plain": [
              "<IPython.core.display.Javascript object>"
            ]
          },
          "metadata": {
            "tags": []
          }
        },
        {
          "output_type": "stream",
          "text": [
            "The chapter14_Market_model_JNJ'.csv' file was downloaded to your 'Downloads' folder.\n"
          ],
          "name": "stdout"
        }
      ]
    },
    {
      "cell_type": "markdown",
      "metadata": {
        "id": "W84azIy6yzlj",
        "colab_type": "text"
      },
      "source": [
        "Save file to google Drive"
      ]
    },
    {
      "cell_type": "code",
      "metadata": {
        "id": "deSpefSWxqcX",
        "colab_type": "code",
        "colab": {}
      },
      "source": [
        "auth.authenticate_user()\n",
        "gauth = GoogleAuth()\n",
        "gauth.credentials = GoogleCredentials.get_application_default()\n",
        "drive = GoogleDrive(gauth)\n",
        "#You will need to clink the link below to login to your account and then paste the password on the blank.\n",
        "#The following will print out the current file you have on Drive, pick one folder you want and paste the id below\n",
        "file_list = drive.ListFile({'q': \"'root' in parents and trashed=false\"}).GetList()\n",
        "for file1 in file_list:\n",
        "  print('title: %s, id: %s' % (file1['title'], file1['id']))"
      ],
      "execution_count": null,
      "outputs": []
    },
    {
      "cell_type": "markdown",
      "metadata": {
        "id": "HTBesl6u0QC9",
        "colab_type": "text"
      },
      "source": [
        "The id_ below was setup to be 'Colab Notebooks' "
      ]
    },
    {
      "cell_type": "code",
      "metadata": {
        "id": "yruaDH7EyHtW",
        "colab_type": "code",
        "colab": {}
      },
      "source": [
        "file = drive.CreateFile({'parents':[{u'id': '1hc7tCMBD_kCQFAa-KKkSiF_DyLduSc5e'}]})\n",
        "file.SetContentFile('Market_model.csv')\n",
        "file.Upload()"
      ],
      "execution_count": null,
      "outputs": []
    }
  ]
}