{
  "nbformat": 4,
  "nbformat_minor": 0,
  "metadata": {
    "colab": {
      "name": "2020_6_1_chap4_numeric_summery.ipynb",
      "provenance": [],
      "collapsed_sections": [],
      "include_colab_link": true
    },
    "kernelspec": {
      "name": "python3",
      "display_name": "Python 3"
    }
  },
  "cells": [
    {
      "cell_type": "markdown",
      "metadata": {
        "id": "view-in-github",
        "colab_type": "text"
      },
      "source": [
        "<a href=\"https://colab.research.google.com/github/xiaoyi-yuxiao/python-code-for-FinancialAnalysis-book/blob/master/2020_6_1_chap4_numeric_summery.ipynb\" target=\"_parent\"><img src=\"https://colab.research.google.com/assets/colab-badge.svg\" alt=\"Open In Colab\"/></a>"
      ]
    },
    {
      "cell_type": "code",
      "metadata": {
        "id": "ei96YlQVrHB9",
        "colab_type": "code",
        "colab": {}
      },
      "source": [
        "pip install yfinance"
      ],
      "execution_count": null,
      "outputs": []
    },
    {
      "cell_type": "code",
      "metadata": {
        "id": "tboCyQpTrdFk",
        "colab_type": "code",
        "colab": {}
      },
      "source": [
        "#Date: June 8, 2020\n",
        "import yfinance as yf\n",
        "import matplotlib.pyplot as plt\n",
        "import numpy as np\n",
        "import pandas as pd\n",
        "from scipy.stats import kurtosis, skew\n",
        "from tabulate import tabulate\n",
        "import datetime as dt#get current date\n",
        "from google.colab import files"
      ],
      "execution_count": null,
      "outputs": []
    },
    {
      "cell_type": "code",
      "metadata": {
        "id": "rTvGU5vlrhsQ",
        "colab_type": "code",
        "colab": {}
      },
      "source": [
        "class Analyze_Stock:\n",
        "\n",
        "  def __init__(self, Stock_Name, Start_T, End_T, T_Interval):\n",
        "\n",
        "    self.__Stock_price = yf.download(Stock_Name,start=Start_T,End=End_T,interval = T_Interval)['Adj Close'].dropna()\n",
        "    self.__Ret = self.__Stock_price.pct_change()[1:]\n",
        "\n",
        "    monthly_data = yf.download(Stock_Name,start=Start_T,End=End_T,interval = '1mo')['Adj Close'].dropna()\n",
        "    slice_object = slice(1, len(monthly_data), 12)\n",
        "\n",
        "    self.__Yr_Ret = monthly_data[slice_object].pct_change()[1:]\n",
        "    self.__count = len(self.__Stock_price)\n",
        "    self.stock = Stock_Name\n",
        "    self.start = Start_T\n",
        "    self.end = End_T\n",
        "    self.frequency = T_Interval\n",
        "  def __helper(self,N):\n",
        "    return '{:0.3%}'.format(N)\n",
        "\n",
        "  def __helper_2(self,N):\n",
        "    return '{:0.2f}'.format(N)\n",
        "\n",
        "  def __helper_4(self,N):\n",
        "    return '{:0.4}'.format(N)\n",
        "\n",
        "  def Mean_Ret(self):\n",
        "    mean = np.mean(self.__Ret)\n",
        "    return mean\n",
        "\n",
        "  def Median_Ret(self):\n",
        "    median = np.median(self.__Ret)\n",
        "    return median\n",
        "\n",
        "  def STD_Ret(self):\n",
        "    std = np.std(self.__Ret)\n",
        "    return std\n",
        "\n",
        "  def Var_Ret(self):\n",
        "    Var = np.var(self.__Ret)\n",
        "    return Var\n",
        "\n",
        "  def Annual_Mean_Ret(self):\n",
        "    mean = np.mean(self.__Yr_Ret)\n",
        "    return mean\n",
        "  \n",
        "  def Annual_Median_Ret(self):\n",
        "    median = np.median(self.__Yr_Ret)\n",
        "    return median\n",
        "\n",
        "  def Annual_Std(self):\n",
        "    std = np.std(self.__Yr_Ret)\n",
        "    return std\n",
        "\n",
        "  def Annual_Var(self):\n",
        "    var = np.var(self.__Yr_Ret)\n",
        "    return var\n",
        "\n",
        "  def Min_Ret(self):\n",
        "    Min = min(self.__Yr_Ret)\n",
        "    return Min\n",
        "\n",
        "  def Max_Ret(self):\n",
        "    Max = max(self.__Yr_Ret)\n",
        "    return Max\n",
        "\n",
        "  def Range_Ret(self):\n",
        "    Range = max(self.__Yr_Ret)-min(self.__Yr_Ret)\n",
        "    return Range\n",
        "\n",
        "  def Min_Price(self):\n",
        "    Min = min(self.__Stock_price)\n",
        "    return Min\n",
        "\n",
        "  def Max_Price(self):\n",
        "    Max = max(self.__Stock_price)\n",
        "    return Max\n",
        "\n",
        "  def Range_Price(self):\n",
        "    Range = max(self.__Stock_price)-min(self.__Stock_price)\n",
        "    return Range\n",
        "\n",
        "  def quarter_tile(self):\n",
        "    quarter = np.quantile(self.__Ret,0.25)\n",
        "    return quarter\n",
        "\n",
        "  def half_tile(self):\n",
        "    half = np.quantile(self.__Ret,0.5)\n",
        "    return half\n",
        "\n",
        "  def Tquarter_tile(self):\n",
        "    Tquarter = np.quantile(self.__Ret,0.75)\n",
        "    return Tquarter\n",
        "  \n",
        "  def interquatile(self):\n",
        "    Int_quarter = np.quantile(self.__Ret,0.75)-np.quantile(self.__Ret,0.25)\n",
        "    return Int_quarter\n",
        "  \n",
        "  def kurt(self):\n",
        "    Kurt = kurtosis(self.__Stock_price)\n",
        "    return Kurt\n",
        "\n",
        "  def skewness(self):\n",
        "    Skew = skew(self.__Stock_price)\n",
        "    return Skew\n",
        "\n",
        "  def get_count(self):\n",
        "    return self.__count\n",
        "  \n",
        "  def CoV(self):\n",
        "    cov = np.std(self.__Ret)-np.mean(self.__Ret)\n",
        "    return cov\n",
        "\n",
        "##calculate correlation coefficient\n",
        "  def Market_corr(self):\n",
        "    SNP = yf.download('^GSPC',start=self.start,End=self.end,interval = self.frequency)['Adj Close'].dropna()\n",
        "    corr = np.corrcoef(SNP,self.__Stock_price)\n",
        "    return corr[0,1]\n",
        "\n",
        "  def Get_summary(self):\n",
        "    dict_data = {\n",
        "    'Measures' :['Start Date','End Date','Frequency','Mean Return', 'Median Return', 'Standard deviation', 'Variance',\\\n",
        "                 'Annual Mean Return','Median Annual Return','Annual Standard Deviation', \\\n",
        "                  'Annual Variance','Minimum Return','Maximum Return','Range Return','Minimum Price',\\\n",
        "                 'Maximum Price','Range Price','Quatile 25%','Quatile 50%','Quatile 75%','Interquartile',\\\n",
        "                  'Kurtosis','Skewness','Count','Coefficient of Variation','Market corr with S&P 500'],\n",
        "    self.stock : [self.start, self.end,self.frequency, self.__helper(self.Mean_Ret()),self.__helper(self.Median_Ret()),\\\n",
        "                  self.__helper(self.STD_Ret()),self.__helper(self.Var_Ret()),self.__helper(self.Annual_Mean_Ret()),\\\n",
        "                  self.__helper(self.Annual_Median_Ret()),self.__helper(self.Annual_Std()),self.__helper(self.Annual_Var()),\\\n",
        "                  self.__helper(self.Min_Ret()),self.__helper(self.Max_Ret()),self.__helper(self.Range_Ret()),self.__helper_2(self.Min_Price()),\\\n",
        "                  self.__helper_2(self.Max_Price()),self.__helper_2(self.Range_Price()),self.__helper(self.quarter_tile()),self.__helper(self.half_tile()),\\\n",
        "                  self.__helper(self.Tquarter_tile()),self.__helper(self.interquatile()),self.__helper_4(self.kurt()),\\\n",
        "                  self.__helper_4(self.skewness()),self.get_count(),self.__helper_4(self.CoV()),self.__helper_4(self.Market_corr())]\n",
        "    }\n",
        "    frame_data = pd.DataFrame(dict_data)\n",
        "    return frame_data"
      ],
      "execution_count": null,
      "outputs": []
    },
    {
      "cell_type": "code",
      "metadata": {
        "id": "KlOzWxw7uD9w",
        "colab_type": "code",
        "colab": {}
      },
      "source": [
        "##allow user to input start&end date and interval\n",
        "def Usr_input():\n",
        "  #initialize dates\n",
        "  previousday = dt.date.today()-dt.timedelta(days=1)# get the date of previous day\n",
        "  Default_end = previousday.strftime(\"%Y-%m-%d\") # change the format of the default datetime \n",
        "  years_ago = dt.date.today()-dt.timedelta(days=5 * 365)\n",
        "  Default_start = years_ago.strftime(\"%Y-%m-%d\")\n",
        "\n",
        "  # request user input\n",
        "  # set default values if users does not enter a value\n",
        "  Start = input('Enter start date(' + 'Default = 5 Years ago, ' + Default_start + ')-->') or Default_start\n",
        "  End = input('Enter end date(Default = Yesterday, ' + Default_end + ')-->') or Default_end\n",
        "  T_interval = input('Enter date interval(1d,1wk,1mo Default = 1mo)-->') or '1mo'\n",
        "  \n",
        "  print(\"\")\n",
        "  return Start, End, T_interval\n",
        "\n",
        "##allow user input the stock name\n",
        "def Stock_input():\n",
        "  Stock = []\n",
        "  Stock.append(input('Please enter ticker '+str(1)+'(default be AAPL)-->') or 'AAPL') # use or operation the set default input\n",
        "  Stock.append(input('Please enter ticker '+str(2)+'(default be MSFT)-->') or 'MSFT')\n",
        "  return Stock\n",
        "\n",
        "##return the summary of stock report\n",
        "def get_all_summary():\n",
        "\n",
        "  stocks=Stock_input()\n",
        "\n",
        "  (macro_start, macro_end, macro_T_interval) = Usr_input()\n",
        "\n",
        "##get report from SNP market report\n",
        "  Market_ind = Analyze_Stock('^GSPC',macro_start,macro_end,macro_T_interval)\n",
        "  M_summary = Market_ind.Get_summary()\n",
        "\n",
        "  summary_append = []\n",
        "  summary_append.append(M_summary)\n",
        "##append stock report to it\n",
        "  for i in range(2):\n",
        "    test = Analyze_Stock(stocks[i],macro_start,macro_end,macro_T_interval)\n",
        "    summary = test.Get_summary()\n",
        "    summary_append.append(summary[test.stock])\n",
        "\n",
        "  summary_append = pd.concat(summary_append,axis=1)\n",
        "  return summary_append,stocks,macro_start, macro_end, macro_T_interval"
      ],
      "execution_count": null,
      "outputs": []
    },
    {
      "cell_type": "code",
      "metadata": {
        "id": "NEwXgeG13QSw",
        "colab_type": "code",
        "colab": {
          "base_uri": "https://localhost:8080/",
          "height": 877
        },
        "outputId": "e1a72efd-32ac-4dce-fd1a-dc2cbea8f111"
      },
      "source": [
        "#Generate summary measure report\n",
        "#ask for user input\n",
        "(Total_summary,stocks,macro_start, macro_end, macro_T_interval) = get_all_summary()\n",
        "\n",
        "##insert sp500 to stocks\n",
        "stocks.insert(0,'^GSPC')\n",
        "\n",
        "print(\"\")\n",
        "print('             Numerical Summary Measures of Rate of Returns')\n",
        "print(' ')\n",
        "print(tabulate(Total_summary, showindex=False, headers=Total_summary.columns,tablefmt=\"github\"))\n",
        "\n",
        "##download file to local"
      ],
      "execution_count": null,
      "outputs": [
        {
          "output_type": "stream",
          "text": [
            "Please enter ticker 1(default be AAPL)-->\n",
            "Please enter ticker 2(default be MSFT)-->\n",
            "Enter start date(Default = 5 Years ago, 2015-07-11)-->\n",
            "Enter end date(Default = Yesterday, 2020-07-08)-->\n",
            "Enter date interval(1d,1wk,1mo Default = 1mo)-->\n",
            "\n",
            "[*********************100%***********************]  1 of 1 completed\n",
            "[*********************100%***********************]  1 of 1 completed\n",
            "[*********************100%***********************]  1 of 1 completed\n",
            "[*********************100%***********************]  1 of 1 completed\n",
            "[*********************100%***********************]  1 of 1 completed\n",
            "[*********************100%***********************]  1 of 1 completed\n",
            "[*********************100%***********************]  1 of 1 completed\n",
            "[*********************100%***********************]  1 of 1 completed\n",
            "[*********************100%***********************]  1 of 1 completed\n",
            "\n",
            "             Numerical Summary Measures of Rate of Returns\n",
            " \n",
            "| Measures                  | ^GSPC      | AAPL       | MSFT       |\n",
            "|---------------------------|------------|------------|------------|\n",
            "| Start Date                | 2015-07-11 | 2015-07-11 | 2015-07-11 |\n",
            "| End Date                  | 2020-07-08 | 2020-07-08 | 2020-07-08 |\n",
            "| Frequency                 | 1mo        | 1mo        | 1mo        |\n",
            "| Mean Return               | 0.880%     | 2.506%     | 2.990%     |\n",
            "| Median Return             | 1.423%     | 3.651%     | 2.791%     |\n",
            "| Standard deviation        | 4.134%     | 7.972%     | 5.344%     |\n",
            "| Variance                  | 0.171%     | 0.635%     | 0.286%     |\n",
            "| Annual Mean Return        | 11.735%    | 23.215%    | 36.481%    |\n",
            "| Median Annual Return      | 14.296%    | 21.709%    | 33.074%    |\n",
            "| Annual Standard Deviation | 5.668%     | 20.841%    | 12.106%    |\n",
            "| Annual Variance           | 0.321%     | 4.343%     | 1.466%     |\n",
            "| Minimum Return            | 2.154%     | 0.756%     | 23.472%    |\n",
            "| Maximum Return            | 16.192%    | 48.685%    | 56.304%    |\n",
            "| Range Return              | 14.038%    | 47.929%    | 32.833%    |\n",
            "| Minimum Price             | 1920.03    | 87.63      | 39.39      |\n",
            "| Maximum Price             | 3230.78    | 381.37     | 212.83     |\n",
            "| Range Price               | 1310.75    | 293.74     | 173.44     |\n",
            "| Quatile 25%               | -0.122%    | -1.913%    | 0.189%     |\n",
            "| Quatile 50%               | 1.423%     | 3.651%     | 2.791%     |\n",
            "| Quatile 75%               | 2.986%     | 7.832%     | 5.698%     |\n",
            "| Interquartile             | 3.109%     | 9.745%     | 5.509%     |\n",
            "| Kurtosis                  | -1.166     | 0.6198     | -0.1965    |\n",
            "| Skewness                  | -0.1045    | 1.075      | 0.8242     |\n",
            "| Count                     | 61         | 61         | 61         |\n",
            "| Coefficient of Variation  | 0.03254    | 0.05465    | 0.02354    |\n",
            "| Market corr with S&P 500  | 1.0        | 0.8849     | 0.9017     |\n"
          ],
          "name": "stdout"
        }
      ]
    },
    {
      "cell_type": "code",
      "metadata": {
        "id": "SkzGkxXTqKbJ",
        "colab_type": "code",
        "colab": {
          "base_uri": "https://localhost:8080/",
          "height": 17
        },
        "outputId": "9d63d690-fbee-4be7-8971-9c171ad7b772"
      },
      "source": [
        "Total_summary.to_csv('Chapter4_Summary.csv') \n",
        "files.download('Chapter4_Summary.csv')"
      ],
      "execution_count": null,
      "outputs": [
        {
          "output_type": "display_data",
          "data": {
            "application/javascript": [
              "\n",
              "    async function download(id, filename, size) {\n",
              "      if (!google.colab.kernel.accessAllowed) {\n",
              "        return;\n",
              "      }\n",
              "      const div = document.createElement('div');\n",
              "      const label = document.createElement('label');\n",
              "      label.textContent = `Downloading \"${filename}\": `;\n",
              "      div.appendChild(label);\n",
              "      const progress = document.createElement('progress');\n",
              "      progress.max = size;\n",
              "      div.appendChild(progress);\n",
              "      document.body.appendChild(div);\n",
              "\n",
              "      const buffers = [];\n",
              "      let downloaded = 0;\n",
              "\n",
              "      const channel = await google.colab.kernel.comms.open(id);\n",
              "      // Send a message to notify the kernel that we're ready.\n",
              "      channel.send({})\n",
              "\n",
              "      for await (const message of channel.messages) {\n",
              "        // Send a message to notify the kernel that we're ready.\n",
              "        channel.send({})\n",
              "        if (message.buffers) {\n",
              "          for (const buffer of message.buffers) {\n",
              "            buffers.push(buffer);\n",
              "            downloaded += buffer.byteLength;\n",
              "            progress.value = downloaded;\n",
              "          }\n",
              "        }\n",
              "      }\n",
              "      const blob = new Blob(buffers, {type: 'application/binary'});\n",
              "      const a = document.createElement('a');\n",
              "      a.href = window.URL.createObjectURL(blob);\n",
              "      a.download = filename;\n",
              "      div.appendChild(a);\n",
              "      a.click();\n",
              "      div.remove();\n",
              "    }\n",
              "  "
            ],
            "text/plain": [
              "<IPython.core.display.Javascript object>"
            ]
          },
          "metadata": {
            "tags": []
          }
        },
        {
          "output_type": "display_data",
          "data": {
            "application/javascript": [
              "download(\"download_2f7a5c9b-57c0-4b20-b530-6942d770a8eb\", \"Chapter4_Summary.csv\", 1035)"
            ],
            "text/plain": [
              "<IPython.core.display.Javascript object>"
            ]
          },
          "metadata": {
            "tags": []
          }
        }
      ]
    },
    {
      "cell_type": "code",
      "metadata": {
        "id": "BPwhger2hsc_",
        "colab_type": "code",
        "colab": {
          "base_uri": "https://localhost:8080/",
          "height": 1000
        },
        "outputId": "b5bb930f-6455-4f9e-c5c8-b65cc0df65e0"
      },
      "source": [
        "#print dataset\n",
        "pd.set_option('display.max_rows', None)\n",
        "data = yf.download(stocks,start=macro_start,End=macro_end,interval = macro_T_interval)['Adj Close'].dropna()\n",
        "data = data[[stocks[0],stocks[1],stocks[2]]]#change arrangement of columns\n",
        "data.columns = [stocks[0],stocks[1],stocks[2]] #display short names for index\n",
        "print(\"\")\n",
        "print(tabulate(data, showindex=True, headers=data.columns,tablefmt=\"rst\"))\n",
        "\n",
        "##download file to local"
      ],
      "execution_count": null,
      "outputs": [
        {
          "output_type": "stream",
          "text": [
            "[*********************100%***********************]  3 of 3 completed\n",
            "\n",
            "===================  =======  ========  ========\n",
            "..                     ^GSPC      AAPL      MSFT\n",
            "===================  =======  ========  ========\n",
            "2015-08-01 00:00:00  1972.18  104.068    39.3866\n",
            "2015-09-01 00:00:00  1920.03  102.114    40.3205\n",
            "2015-10-01 00:00:00  2079.36  110.631    47.9546\n",
            "2015-11-01 00:00:00  2080.41  109.52     49.5124\n",
            "2015-12-01 00:00:00  2043.94   97.8647   50.8825\n",
            "2016-01-01 00:00:00  1940.24   90.5012   50.5248\n",
            "2016-02-01 00:00:00  1932.23   89.8969   46.6637\n",
            "2016-03-01 00:00:00  2059.74  101.883    51.0169\n",
            "2016-04-01 00:00:00  2065.3    87.627    46.0658\n",
            "2016-05-01 00:00:00  2096.95   93.348    48.957\n",
            "2016-06-01 00:00:00  2098.86   89.9098   47.5972\n",
            "2016-07-01 00:00:00  2173.6    98.0074   52.7225\n",
            "2016-08-01 00:00:00  2170.95   99.7849   53.448\n",
            "2016-09-01 00:00:00  2168.27  106.897    53.9122\n",
            "2016-10-01 00:00:00  2126.15  107.36     56.0837\n",
            "2016-11-01 00:00:00  2198.81  104.505    56.4019\n",
            "2016-12-01 00:00:00  2238.83  110.079    58.5544\n",
            "2017-01-01 00:00:00  2278.87  115.335    60.9196\n",
            "2017-02-01 00:00:00  2363.64  130.199    60.2883\n",
            "2017-03-01 00:00:00  2362.72  137.131    62.436\n",
            "2017-04-01 00:00:00  2384.2   137.121    64.9009\n",
            "2017-05-01 00:00:00  2411.8   145.817    66.2091\n",
            "2017-06-01 00:00:00  2423.41  138.042    65.721\n",
            "2017-07-01 00:00:00  2470.3   142.556    69.3155\n",
            "2017-08-01 00:00:00  2471.65  157.192    71.2891\n",
            "2017-09-01 00:00:00  2519.36  148.303    71.4006\n",
            "2017-10-01 00:00:00  2575.26  162.659    79.7301\n",
            "2017-11-01 00:00:00  2584.84  165.363    80.6791\n",
            "2017-12-01 00:00:00  2673.61  163.428    82.404\n",
            "2018-01-01 00:00:00  2823.81  161.689    91.5268\n",
            "2018-02-01 00:00:00  2713.83  172.013    90.3323\n",
            "2018-03-01 00:00:00  2640.87  162.688    88.337\n",
            "2018-04-01 00:00:00  2648.05  160.244    90.5147\n",
            "2018-05-01 00:00:00  2705.27  181.199    95.6637\n",
            "2018-06-01 00:00:00  2718.37  180.184    95.8548\n",
            "2018-07-01 00:00:00  2816.29  185.226   103.116\n",
            "2018-08-01 00:00:00  2901.52  221.573   109.191\n",
            "2018-09-01 00:00:00  2913.98  220.504   111.602\n",
            "2018-10-01 00:00:00  2711.74  213.783   104.225\n",
            "2018-11-01 00:00:00  2760.17  174.438   108.206\n",
            "2018-12-01 00:00:00  2506.85  154.619    99.5402\n",
            "2019-01-01 00:00:00  2704.1   163.146   102.343\n",
            "2019-02-01 00:00:00  2784.49  169.724   109.791\n",
            "2019-03-01 00:00:00  2834.4   186.99    116.077\n",
            "2019-04-01 00:00:00  2945.83  197.543   128.537\n",
            "2019-05-01 00:00:00  2752.06  172.342   121.726\n",
            "2019-06-01 00:00:00  2941.76  195.586   132.332\n",
            "2019-07-01 00:00:00  2980.38  210.527   134.614\n",
            "2019-08-01 00:00:00  2926.46  206.278   136.184\n",
            "2019-09-01 00:00:00  2976.74  222.169   137.797\n",
            "2019-10-01 00:00:00  3037.56  246.76    142.099\n",
            "2019-11-01 00:00:00  3140.98  265.102   150.038\n",
            "2019-12-01 00:00:00  3230.78  292.164   156.834\n",
            "2020-01-01 00:00:00  3225.52  307.944   169.295\n",
            "2020-02-01 00:00:00  2954.22  271.977   161.12\n",
            "2020-03-01 00:00:00  2584.59  253.604   157.272\n",
            "2020-04-01 00:00:00  2912.43  293.007   178.712\n",
            "2020-05-01 00:00:00  3044.31  317.082   182.741\n",
            "2020-06-01 00:00:00  3100.29  364.8     203.51\n",
            "2020-07-01 00:00:00  3169.94  381.37    212.83\n",
            "2020-07-08 00:00:00  3169.94  381.37    212.83\n",
            "===================  =======  ========  ========\n"
          ],
          "name": "stdout"
        }
      ]
    },
    {
      "cell_type": "code",
      "metadata": {
        "id": "YELoxl_4qO5f",
        "colab_type": "code",
        "colab": {
          "base_uri": "https://localhost:8080/",
          "height": 17
        },
        "outputId": "c3dffe7b-0445-4c74-fb74-862a8c490170"
      },
      "source": [
        "data.to_csv('Chapter4_Summary_data.csv') \n",
        "files.download('Chapter4_Summary_data.csv')"
      ],
      "execution_count": null,
      "outputs": [
        {
          "output_type": "display_data",
          "data": {
            "application/javascript": [
              "\n",
              "    async function download(id, filename, size) {\n",
              "      if (!google.colab.kernel.accessAllowed) {\n",
              "        return;\n",
              "      }\n",
              "      const div = document.createElement('div');\n",
              "      const label = document.createElement('label');\n",
              "      label.textContent = `Downloading \"${filename}\": `;\n",
              "      div.appendChild(label);\n",
              "      const progress = document.createElement('progress');\n",
              "      progress.max = size;\n",
              "      div.appendChild(progress);\n",
              "      document.body.appendChild(div);\n",
              "\n",
              "      const buffers = [];\n",
              "      let downloaded = 0;\n",
              "\n",
              "      const channel = await google.colab.kernel.comms.open(id);\n",
              "      // Send a message to notify the kernel that we're ready.\n",
              "      channel.send({})\n",
              "\n",
              "      for await (const message of channel.messages) {\n",
              "        // Send a message to notify the kernel that we're ready.\n",
              "        channel.send({})\n",
              "        if (message.buffers) {\n",
              "          for (const buffer of message.buffers) {\n",
              "            buffers.push(buffer);\n",
              "            downloaded += buffer.byteLength;\n",
              "            progress.value = downloaded;\n",
              "          }\n",
              "        }\n",
              "      }\n",
              "      const blob = new Blob(buffers, {type: 'application/binary'});\n",
              "      const a = document.createElement('a');\n",
              "      a.href = window.URL.createObjectURL(blob);\n",
              "      a.download = filename;\n",
              "      div.appendChild(a);\n",
              "      a.click();\n",
              "      div.remove();\n",
              "    }\n",
              "  "
            ],
            "text/plain": [
              "<IPython.core.display.Javascript object>"
            ]
          },
          "metadata": {
            "tags": []
          }
        },
        {
          "output_type": "display_data",
          "data": {
            "application/javascript": [
              "download(\"download_6544e102-5d63-4657-8d7e-acd3b099df0e\", \"Summary_data.csv\", 3971)"
            ],
            "text/plain": [
              "<IPython.core.display.Javascript object>"
            ]
          },
          "metadata": {
            "tags": []
          }
        }
      ]
    },
    {
      "cell_type": "code",
      "metadata": {
        "id": "6nDnqTYVkKR6",
        "colab_type": "code",
        "colab": {
          "base_uri": "https://localhost:8080/",
          "height": 54
        },
        "outputId": "10d276d0-cf51-4689-aaab-8b67cee68803"
      },
      "source": [
        "a = Analyze_Stock('AAPL','2010-11-23','2012-11-23','1d')"
      ],
      "execution_count": null,
      "outputs": [
        {
          "output_type": "stream",
          "text": [
            "[*********************100%***********************]  1 of 1 completed\n",
            "[*********************100%***********************]  1 of 1 completed\n"
          ],
          "name": "stdout"
        }
      ]
    }
  ]
}