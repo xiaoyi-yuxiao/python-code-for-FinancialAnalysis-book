{
  "nbformat": 4,
  "nbformat_minor": 0,
  "metadata": {
    "colab": {
      "name": "Chapter11.ipynb",
      "provenance": [],
      "collapsed_sections": [],
      "include_colab_link": true
    },
    "kernelspec": {
      "name": "python3",
      "display_name": "Python 3"
    }
  },
  "cells": [
    {
      "cell_type": "markdown",
      "metadata": {
        "id": "view-in-github",
        "colab_type": "text"
      },
      "source": [
        "<a href=\"https://colab.research.google.com/github/xiaoyi-yuxiao/python-code-for-FinancialAnalysis-book/blob/master/Chapter11.ipynb\" target=\"_parent\"><img src=\"https://colab.research.google.com/assets/colab-badge.svg\" alt=\"Open In Colab\"/></a>"
      ]
    },
    {
      "cell_type": "code",
      "metadata": {
        "id": "gwBQ1RwJHuzR",
        "colab_type": "code",
        "colab": {}
      },
      "source": [
        "try:\n",
        "    # For Python 3.0 and later\n",
        "    from urllib.request import urlopen\n",
        "except ImportError:\n",
        "    # Fall back to Python 2's urllib2\n",
        "    from urllib2 import urlopen\n",
        "\n",
        "import json\n",
        "import pandas as pd\n",
        "import matplotlib.pyplot as plt\n",
        "import numpy as np\n",
        "from scipy import stats\n",
        "from tabulate import tabulate\n",
        "\n",
        "ApiKey = '6f687ccb520121389797f851cf764bf7'"
      ],
      "execution_count": null,
      "outputs": []
    },
    {
      "cell_type": "code",
      "metadata": {
        "id": "87UDIjFlH0l-",
        "colab_type": "code",
        "colab": {}
      },
      "source": [
        "def usr_input():\n",
        "  ticker_1 = input('Enter 1st ticker:(defalut AAPL) ') or 'AAPL'\n",
        "  ticker_2 = input('Enter 2nd ticker:(defalut MSFT) ') or 'MSFT'\n",
        "  return ticker_1,ticker_2"
      ],
      "execution_count": null,
      "outputs": []
    },
    {
      "cell_type": "code",
      "metadata": {
        "id": "d7D1RpjAH3Nc",
        "colab_type": "code",
        "colab": {}
      },
      "source": [
        "def get_jsonparsed_data(url):\n",
        "\n",
        "    response = urlopen(url)\n",
        "    data = response.read().decode(\"utf-8\")\n",
        "    return json.loads(data)"
      ],
      "execution_count": null,
      "outputs": []
    },
    {
      "cell_type": "code",
      "metadata": {
        "id": "k5vGTYJDH5tE",
        "colab_type": "code",
        "colab": {}
      },
      "source": [
        "def get_dictdata(ticker):\n",
        "\n",
        "  url = ('https://financialmodelingprep.com/api/v3/income-statement/'+ticker+'?apikey=' + ApiKey)\n",
        "  Data = get_jsonparsed_data(url)\n",
        "  eps = []\n",
        "  date = []\n",
        "  links = []\n",
        "  for element in range(len(Data)):\n",
        "    eps.append(Data[element]['eps'])\n",
        "    date.append(Data[element]['date'])\n",
        "    links.append(Data[element]['finalLink'])\n",
        "\n",
        "  dictdata = {ticker+' Date':date,ticker+' EPS':eps,ticker+ ' Link':links}\n",
        "\n",
        "\n",
        "  return dictdata"
      ],
      "execution_count": null,
      "outputs": []
    },
    {
      "cell_type": "code",
      "metadata": {
        "id": "uhUfT0fTH8vI",
        "colab_type": "code",
        "colab": {
          "base_uri": "https://localhost:8080/",
          "height": 51
        },
        "outputId": "e0db8d05-a04b-4be5-d962-517eadaaea19"
      },
      "source": [
        "ticker_1,ticker_2 = usr_input()"
      ],
      "execution_count": null,
      "outputs": [
        {
          "output_type": "stream",
          "text": [
            "Enter 1st ticker:(defalut AAPL) \n",
            "Enter 2nd ticker:(defalut MSFT) \n"
          ],
          "name": "stdout"
        }
      ]
    },
    {
      "cell_type": "code",
      "metadata": {
        "id": "anCI7KhKH_zq",
        "colab_type": "code",
        "colab": {
          "base_uri": "https://localhost:8080/",
          "height": 1000
        },
        "outputId": "201a5e85-17a6-4a5e-8562-b80cc836c455"
      },
      "source": [
        "pd.set_option('display.max_rows', None, 'display.max_columns', None)\n",
        "pd.set_option('max_colwidth', 1000)\n",
        "test1 = get_dictdata(ticker_1)\n",
        "test2 = get_dictdata(ticker_2)\n",
        "framedata1 = pd.DataFrame(test1)\n",
        "framedata2 = pd.DataFrame(test2)\n",
        "print(framedata1)\n",
        "print('')\n",
        "print(framedata2)"
      ],
      "execution_count": null,
      "outputs": [
        {
          "output_type": "stream",
          "text": [
            "     AAPL Date  AAPL EPS  \\\n",
            "0   2019-09-28     11.97   \n",
            "1   2018-09-29     12.01   \n",
            "2   2017-09-30      9.27   \n",
            "3   2016-09-24      8.35   \n",
            "4   2015-09-26      9.28   \n",
            "5   2014-09-27      6.49   \n",
            "6   2013-09-28     40.03   \n",
            "7   2012-09-29     44.64   \n",
            "8   2011-09-24     28.05   \n",
            "9   2010-09-25     15.41   \n",
            "10  2009-09-26      6.39   \n",
            "11  2008-09-27      5.48   \n",
            "12  2007-09-29      4.04   \n",
            "13  2006-09-30      1.65   \n",
            "14  2005-09-24      1.65   \n",
            "15  2004-09-25      0.74   \n",
            "16  2003-09-27      0.19   \n",
            "17  2002-09-28      0.18   \n",
            "18  2001-09-29     -0.11   \n",
            "\n",
            "                                                                                 AAPL Link  \n",
            "0   https://www.sec.gov/Archives/edgar/data/320193/000032019319000119/a10-k20199282019.htm  \n",
            "1   https://www.sec.gov/Archives/edgar/data/320193/000032019318000145/a10-k20189292018.htm  \n",
            "2   https://www.sec.gov/Archives/edgar/data/320193/000032019317000070/a10-k20179302017.htm  \n",
            "3   https://www.sec.gov/Archives/edgar/data/320193/000162828016020309/a201610-k9242016.htm  \n",
            "4         https://www.sec.gov/Archives/edgar/data/320193/000119312515356351/d17062d10k.htm  \n",
            "5        https://www.sec.gov/Archives/edgar/data/320193/000119312514383437/d783162d10k.htm  \n",
            "6        https://www.sec.gov/Archives/edgar/data/320193/000119312513416534/d590790d10k.htm  \n",
            "7        https://www.sec.gov/Archives/edgar/data/320193/000119312512444068/d411355d10k.htm  \n",
            "8        https://www.sec.gov/Archives/edgar/data/320193/000119312511282113/d220209d10k.htm  \n",
            "9               https://www.sec.gov/Archives/edgar/data/320193/000119312510238044/d10k.htm  \n",
            "10              https://www.sec.gov/Archives/edgar/data/320193/000119312509214859/d10k.htm  \n",
            "11              https://www.sec.gov/Archives/edgar/data/320193/000119312508224958/d10k.htm  \n",
            "12     https://www.sec.gov/Archives/edgar/data/320193/000104746907009340/a2181030z10-k.htm  \n",
            "13    https://www.sec.gov/Archives/edgar/data/320193/000110465906084288/a06-25759_210k.htm  \n",
            "14    https://www.sec.gov/Archives/edgar/data/320193/000110465905058421/a05-20674_110k.htm  \n",
            "15     https://www.sec.gov/Archives/edgar/data/320193/000104746904035975/a2147337z10-k.htm  \n",
            "16     https://www.sec.gov/Archives/edgar/data/320193/000104746903041604/a2124888z10-k.htm  \n",
            "17     https://www.sec.gov/Archives/edgar/data/320193/000104746902007674/a2096490z10-k.htm  \n",
            "18  https://www.sec.gov/Archives/edgar/data/320193/000091205701544436/a2066171z10-k405.htm  \n",
            "\n",
            "     MSFT Date  MSFT EPS  \\\n",
            "0   2019-06-30      5.11   \n",
            "1   2018-06-30      2.15   \n",
            "2   2017-06-30      2.74   \n",
            "3   2016-06-30      2.12   \n",
            "4   2015-06-30      1.49   \n",
            "5   2014-06-30      2.66   \n",
            "6   2013-06-30      2.61   \n",
            "7   2012-06-30      2.02   \n",
            "8   2011-06-30      2.73   \n",
            "9   2010-06-30      2.13   \n",
            "10  2009-06-30      1.63   \n",
            "11  2008-06-30      1.90   \n",
            "12  2007-06-30      1.44   \n",
            "13  2006-06-30      1.21   \n",
            "14  2005-06-30      1.13   \n",
            "15  2004-06-30      0.76   \n",
            "16  2003-06-30      0.93   \n",
            "17  2002-06-30      1.45   \n",
            "\n",
            "                                                                                  MSFT Link  \n",
            "0   https://www.sec.gov/Archives/edgar/data/789019/000156459019027952/msft-10k_20190630.htm  \n",
            "1   https://www.sec.gov/Archives/edgar/data/789019/000156459018019062/msft-10k_20180630.htm  \n",
            "2   https://www.sec.gov/Archives/edgar/data/789019/000156459017014900/msft-10k_20170630.htm  \n",
            "3         https://www.sec.gov/Archives/edgar/data/789019/000119312516662209/d187868d10k.htm  \n",
            "4         https://www.sec.gov/Archives/edgar/data/789019/000119312515272806/d918813d10k.htm  \n",
            "5         https://www.sec.gov/Archives/edgar/data/789019/000119312514289961/d722626d10k.htm  \n",
            "6         https://www.sec.gov/Archives/edgar/data/789019/000119312513310206/d527745d10k.htm  \n",
            "7         https://www.sec.gov/Archives/edgar/data/789019/000119312512316848/d347676d10k.htm  \n",
            "8                https://www.sec.gov/Archives/edgar/data/789019/000119312511200680/d10k.htm  \n",
            "9                https://www.sec.gov/Archives/edgar/data/789019/000119312510171791/d10k.htm  \n",
            "10               https://www.sec.gov/Archives/edgar/data/789019/000119312509158735/d10k.htm  \n",
            "11               https://www.sec.gov/Archives/edgar/data/789019/000119312508162768/d10k.htm  \n",
            "12               https://www.sec.gov/Archives/edgar/data/789019/000119312507170817/d10k.htm  \n",
            "13               https://www.sec.gov/Archives/edgar/data/789019/000119312506180008/d10k.htm  \n",
            "14               https://www.sec.gov/Archives/edgar/data/789019/000119312505174825/d10k.htm  \n",
            "15               https://www.sec.gov/Archives/edgar/data/789019/000119312504150689/d10k.htm  \n",
            "16               https://www.sec.gov/Archives/edgar/data/789019/000119312503045632/d10k.htm  \n",
            "17               https://www.sec.gov/Archives/edgar/data/789019/000103221002001351/d10k.htm  \n"
          ],
          "name": "stdout"
        }
      ]
    },
    {
      "cell_type": "code",
      "metadata": {
        "id": "Jpj9StxYIEEM",
        "colab_type": "code",
        "colab": {
          "base_uri": "https://localhost:8080/",
          "height": 289
        },
        "outputId": "46d747ab-6bc2-426a-99be-128de7fc949b"
      },
      "source": [
        "eps_1 = test1[ticker_1+' EPS']\n",
        "eps_2 = test2[ticker_2+' EPS']\n",
        "Y_1 = np.ones((len(eps_1)))\n",
        "Y_2 = np.ones((len(eps_2)))\n",
        "s = max(max(eps_1), max(eps_2))\n",
        "plt.style.use('seaborn-whitegrid')\n",
        "plt.figure(figsize=(20,2))\n",
        "plt.xlim(0,int(s))\n",
        "plt.plot(eps_1, Y_1, 'o', color='black');\n",
        "plt.figure(figsize=(20,2))\n",
        "plt.xlim(0,int(s))\n",
        "plt.plot(eps_2, Y_2, 'o', color='black');\n",
        "\n",
        "#scale for both dot plot needs to be same"
      ],
      "execution_count": null,
      "outputs": [
        {
          "output_type": "display_data",
          "data": {
            "image/png": "[encoded data removed]",
            "text/plain": [
              "<Figure size 1440x144 with 1 Axes>"
            ]
          },
          "metadata": {
            "tags": []
          }
        },
        {
          "output_type": "display_data",
          "data": {
            "image/png": "[encoded data removed]",
            "text/plain": [
              "<Figure size 1440x144 with 1 Axes>"
            ]
          },
          "metadata": {
            "tags": []
          }
        }
      ]
    },
    {
      "cell_type": "code",
      "metadata": {
        "id": "B0jXXNLTIFRT",
        "colab_type": "code",
        "colab": {
          "base_uri": "https://localhost:8080/",
          "height": 619
        },
        "outputId": "52a1fcea-8164-4b50-d24b-4ad2db9c804d"
      },
      "source": [
        "plt.figure(figsize=(20,10))\n",
        "plt.hist(eps_1,bins=60)\n",
        "plt.legend(labels =ticker_1,fontsize=15,  loc=0)\n",
        "plt.hist(eps_2)\n",
        "plt.legend(labels =ticker_2,fontsize=15,  loc=0)\n",
        "plt.xlabel('Date')\n",
        "plt.ylabel('EPS')\n",
        "\n",
        "\n",
        "# i think dot plot looks nicer than histogram\n",
        "# X-axis should be earnings per share\n",
        "# y-axis should be frequency."
      ],
      "execution_count": null,
      "outputs": [
        {
          "output_type": "execute_result",
          "data": {
            "text/plain": [
              "Text(0, 0.5, 'EPS')"
            ]
          },
          "metadata": {
            "tags": []
          },
          "execution_count": 36
        },
        {
          "output_type": "display_data",
          "data": {
            "image/png": "[encoded data removed]",
            "text/plain": [
              "<Figure size 1440x720 with 1 Axes>"
            ]
          },
          "metadata": {
            "tags": []
          }
        }
      ]
    },
    {
      "cell_type": "code",
      "metadata": {
        "id": "ewxiNcWWIJ2_",
        "colab_type": "code",
        "colab": {
          "base_uri": "https://localhost:8080/",
          "height": 185
        },
        "outputId": "94434d50-f4b3-4d85-ad0e-dd6f295ed379"
      },
      "source": [
        "print('Two sample T test result '+ticker_1+' vs '+ticker_2)\n",
        "print('')\n",
        "stat,pval = stats.ttest_ind(eps_1,eps_2)\n",
        "Number_1 = len(eps_1)\n",
        "Number_2 = len(eps_2)\n",
        "mean_1 = np.mean(eps_1)\n",
        "mean_2 = np.mean(eps_2)\n",
        "std_1 = np.std(eps_1)\n",
        "std_2 = np.std(eps_2)\n",
        "metric = {'stock Name':[ticker_1,ticker_2],'N':[Number_1,Number_2],'Mean':[mean_1,mean_2],'standard deviation':[std_1,std_2]}\n",
        "metric = pd.DataFrame(metric)\n",
        "print(tabulate(metric,headers=metric.columns,tablefmt=\"github\",showindex=False))\n",
        "print('')\n",
        "print('T test for hypothesis for equal mean on eps for '+ticker_1+' and '+ticker_2)\n",
        "print('T = 0.05, P = {}, DF = {}, with assumed same std'.format(np.round(pval,4),Number_1+Number_2-2))\n",
        "if pval<0.05:\n",
        "  print('we reject the Null hypothesis because T > P')\n",
        "else:\n",
        "  print('we can not reject the Null hypothesis because T <= P')"
      ],
      "execution_count": null,
      "outputs": [
        {
          "output_type": "stream",
          "text": [
            "Two sample T test result AAPL vs MSFT\n",
            "\n",
            "| stock Name   |   N |     Mean |   standard deviation |\n",
            "|--------------|-----|----------|----------------------|\n",
            "| AAPL         |  19 | 10.8268  |            12.6842   |\n",
            "| MSFT         |  18 |  2.01167 |             0.963173 |\n",
            "\n",
            "T test for hypothesis for equal mean on eps for AAPL and MSFT\n",
            "T = 0.05, P = 0.0071, DF = 35, with assumed same std\n",
            "we reject the Null hypothesis because T > P\n"
          ],
          "name": "stdout"
        }
      ]
    }
  ]
}