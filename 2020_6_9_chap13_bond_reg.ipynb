{
  "nbformat": 4,
  "nbformat_minor": 0,
  "metadata": {
    "colab": {
      "name": "2020_6_9_chap13_bond_reg.ipynb",
      "provenance": [],
      "collapsed_sections": [],
      "include_colab_link": true
    },
    "kernelspec": {
      "name": "python3",
      "display_name": "Python 3"
    }
  },
  "cells": [
    {
      "cell_type": "markdown",
      "metadata": {
        "id": "view-in-github",
        "colab_type": "text"
      },
      "source": [
        "<a href=\"https://colab.research.google.com/github/xiaoyi-yuxiao/python-code-for-FinancialAnalysis-book/blob/master/2020_6_9_chap13_bond_reg.ipynb\" target=\"_parent\"><img src=\"https://colab.research.google.com/assets/colab-badge.svg\" alt=\"Open In Colab\"/></a>"
      ]
    },
    {
      "cell_type": "code",
      "metadata": {
        "id": "JT6GA0a_-GaF",
        "colab_type": "code",
        "colab": {
          "base_uri": "https://localhost:8080/",
          "height": 1000
        },
        "outputId": "a07fef51-160c-43ae-9ed8-23ee3c2dde1d"
      },
      "source": [
        "pip install requests_html"
      ],
      "execution_count": null,
      "outputs": [
        {
          "output_type": "stream",
          "text": [
            "Collecting requests_html\n",
            "  Downloading https://files.pythonhosted.org/packages/24/bc/a4380f09bab3a776182578ce6b2771e57259d0d4dbce178205779abdc347/requests_html-0.10.0-py3-none-any.whl\n",
            "Collecting parse\n",
            "  Downloading https://files.pythonhosted.org/packages/f4/65/220bb4075fddb09d5b3ea2c1c1fa66c1c72be9361ec187aab50fa161e576/parse-1.15.0.tar.gz\n",
            "Collecting fake-useragent\n",
            "  Downloading https://files.pythonhosted.org/packages/d1/79/af647635d6968e2deb57a208d309f6069d31cb138066d7e821e575112a80/fake-useragent-0.1.11.tar.gz\n",
            "Requirement already satisfied: bs4 in /usr/local/lib/python3.6/dist-packages (from requests_html) (0.0.1)\n",
            "Collecting w3lib\n",
            "  Downloading https://files.pythonhosted.org/packages/a3/59/b6b14521090e7f42669cafdb84b0ab89301a42f1f1a82fcf5856661ea3a7/w3lib-1.22.0-py2.py3-none-any.whl\n",
            "Collecting pyquery\n",
            "  Downloading https://files.pythonhosted.org/packages/78/43/95d42e386c61cb639d1a0b94f0c0b9f0b7d6b981ad3c043a836c8b5bc68b/pyquery-1.4.1-py2.py3-none-any.whl\n",
            "Collecting pyppeteer>=0.0.14\n",
            "\u001b[?25l  Downloading https://files.pythonhosted.org/packages/5d/4b/3c2aabdd1b91fa52aa9de6cde33b488b0592b4d48efb0ad9efbf71c49f5b/pyppeteer-0.2.2-py3-none-any.whl (145kB)\n",
            "\u001b[K     |████████████████████████████████| 153kB 7.1MB/s \n",
            "\u001b[?25hRequirement already satisfied: requests in /usr/local/lib/python3.6/dist-packages (from requests_html) (2.23.0)\n",
            "Requirement already satisfied: beautifulsoup4 in /usr/local/lib/python3.6/dist-packages (from bs4->requests_html) (4.6.3)\n",
            "Requirement already satisfied: six>=1.4.1 in /usr/local/lib/python3.6/dist-packages (from w3lib->requests_html) (1.12.0)\n",
            "Collecting cssselect>0.7.9\n",
            "  Downloading https://files.pythonhosted.org/packages/3b/d4/3b5c17f00cce85b9a1e6f91096e1cc8e8ede2e1be8e96b87ce1ed09e92c5/cssselect-1.1.0-py2.py3-none-any.whl\n",
            "Requirement already satisfied: lxml>=2.1 in /usr/local/lib/python3.6/dist-packages (from pyquery->requests_html) (4.2.6)\n",
            "Collecting appdirs<2.0.0,>=1.4.3\n",
            "  Downloading https://files.pythonhosted.org/packages/3b/00/2344469e2084fb287c2e0b57b72910309874c3245463acd6cf5e3db69324/appdirs-1.4.4-py2.py3-none-any.whl\n",
            "Collecting urllib3<2.0.0,>=1.25.8\n",
            "\u001b[?25l  Downloading https://files.pythonhosted.org/packages/e1/e5/df302e8017440f111c11cc41a6b432838672f5a70aa29227bf58149dc72f/urllib3-1.25.9-py2.py3-none-any.whl (126kB)\n",
            "\u001b[K     |████████████████████████████████| 133kB 40.9MB/s \n",
            "\u001b[?25hCollecting tqdm<5.0.0,>=4.42.1\n",
            "\u001b[?25l  Downloading https://files.pythonhosted.org/packages/46/62/7663894f67ac5a41a0d8812d78d9d2a9404124051885af9d77dc526fb399/tqdm-4.47.0-py2.py3-none-any.whl (66kB)\n",
            "\u001b[K     |████████████████████████████████| 71kB 8.7MB/s \n",
            "\u001b[?25hCollecting pyee<8.0.0,>=7.0.1\n",
            "  Downloading https://files.pythonhosted.org/packages/f6/28/1cedd44c27907f1507a28ff2d36fc6cdb981c9deff2fa288bc48a700c7c9/pyee-7.0.2-py2.py3-none-any.whl\n",
            "Collecting websockets<9.0,>=8.1\n",
            "\u001b[?25l  Downloading https://files.pythonhosted.org/packages/bb/d9/856af84843912e2853b1b6e898ac8b802989fcf9ecf8e8445a1da263bf3b/websockets-8.1-cp36-cp36m-manylinux2010_x86_64.whl (78kB)\n",
            "\u001b[K     |████████████████████████████████| 81kB 9.4MB/s \n",
            "\u001b[?25hRequirement already satisfied: certifi>=2017.4.17 in /usr/local/lib/python3.6/dist-packages (from requests->requests_html) (2020.6.20)\n",
            "Requirement already satisfied: chardet<4,>=3.0.2 in /usr/local/lib/python3.6/dist-packages (from requests->requests_html) (3.0.4)\n",
            "Requirement already satisfied: idna<3,>=2.5 in /usr/local/lib/python3.6/dist-packages (from requests->requests_html) (2.10)\n",
            "Building wheels for collected packages: parse, fake-useragent\n",
            "  Building wheel for parse (setup.py) ... \u001b[?25l\u001b[?25hdone\n",
            "  Created wheel for parse: filename=parse-1.15.0-cp36-none-any.whl size=23710 sha256=e5959ba8048c523fffef4f5a87e0bb3cb3217b63e90b37bd83b442c3123f9078\n",
            "  Stored in directory: /root/.cache/pip/wheels/07/ee/c8/eced0759f09fc635398ab1b8e89c38549b28e5db7fd4a53ba5\n",
            "  Building wheel for fake-useragent (setup.py) ... \u001b[?25l\u001b[?25hdone\n",
            "  Created wheel for fake-useragent: filename=fake_useragent-0.1.11-cp36-none-any.whl size=13484 sha256=f07aa9c643b509477cf2c062bae206fb170ef831e800e4b57fbd553309143f31\n",
            "  Stored in directory: /root/.cache/pip/wheels/5e/63/09/d1dc15179f175357d3f5c00cbffbac37f9e8690d80545143ff\n",
            "Successfully built parse fake-useragent\n",
            "\u001b[31mERROR: kaggle 1.5.6 has requirement urllib3<1.25,>=1.21.1, but you'll have urllib3 1.25.9 which is incompatible.\u001b[0m\n",
            "\u001b[31mERROR: datascience 0.10.6 has requirement folium==0.2.1, but you'll have folium 0.8.3 which is incompatible.\u001b[0m\n",
            "Installing collected packages: parse, fake-useragent, w3lib, cssselect, pyquery, appdirs, urllib3, tqdm, pyee, websockets, pyppeteer, requests-html\n",
            "  Found existing installation: urllib3 1.24.3\n",
            "    Uninstalling urllib3-1.24.3:\n",
            "      Successfully uninstalled urllib3-1.24.3\n",
            "  Found existing installation: tqdm 4.41.1\n",
            "    Uninstalling tqdm-4.41.1:\n",
            "      Successfully uninstalled tqdm-4.41.1\n",
            "Successfully installed appdirs-1.4.4 cssselect-1.1.0 fake-useragent-0.1.11 parse-1.15.0 pyee-7.0.2 pyppeteer-0.2.2 pyquery-1.4.1 requests-html-0.10.0 tqdm-4.47.0 urllib3-1.25.9 w3lib-1.22.0 websockets-8.1\n"
          ],
          "name": "stdout"
        },
        {
          "output_type": "display_data",
          "data": {
            "application/vnd.colab-display-data+json": {
              "pip_warning": {
                "packages": [
                  "tqdm",
                  "urllib3"
                ]
              }
            }
          },
          "metadata": {
            "tags": []
          }
        }
      ]
    },
    {
      "cell_type": "code",
      "metadata": {
        "id": "jXCKqnby-3R9",
        "colab_type": "code",
        "colab": {
          "base_uri": "https://localhost:8080/",
          "height": 92
        },
        "outputId": "8308ba05-cda6-4476-b1d1-598eccd5eb38"
      },
      "source": [
        "pip install yahoo_fin"
      ],
      "execution_count": null,
      "outputs": [
        {
          "output_type": "stream",
          "text": [
            "Collecting yahoo_fin\n",
            "  Downloading https://files.pythonhosted.org/packages/d3/5c/6bf0c0147cc94d643e2a2413d0a9b27967e964ee99f88f26db93a0b963b8/yahoo_fin-0.8.6-py3-none-any.whl\n",
            "Installing collected packages: yahoo-fin\n",
            "Successfully installed yahoo-fin-0.8.6\n"
          ],
          "name": "stdout"
        }
      ]
    },
    {
      "cell_type": "code",
      "metadata": {
        "id": "x4pyxeGQ-5oY",
        "colab_type": "code",
        "colab": {
          "base_uri": "https://localhost:8080/",
          "height": 111
        },
        "outputId": "22f6e6ec-f8f7-459b-b7f4-741470053706"
      },
      "source": [
        "pip install requests"
      ],
      "execution_count": null,
      "outputs": [
        {
          "output_type": "stream",
          "text": [
            "Requirement already satisfied: requests in /usr/local/lib/python3.6/dist-packages (2.23.0)\n",
            "Requirement already satisfied: chardet<4,>=3.0.2 in /usr/local/lib/python3.6/dist-packages (from requests) (3.0.4)\n",
            "Requirement already satisfied: urllib3!=1.25.0,!=1.25.1,<1.26,>=1.21.1 in /usr/local/lib/python3.6/dist-packages (from requests) (1.25.9)\n",
            "Requirement already satisfied: idna<3,>=2.5 in /usr/local/lib/python3.6/dist-packages (from requests) (2.10)\n",
            "Requirement already satisfied: certifi>=2017.4.17 in /usr/local/lib/python3.6/dist-packages (from requests) (2020.6.20)\n"
          ],
          "name": "stdout"
        }
      ]
    },
    {
      "cell_type": "code",
      "metadata": {
        "id": "ZIwLUH9h-8e0",
        "colab_type": "code",
        "colab": {
          "base_uri": "https://localhost:8080/",
          "height": 55
        },
        "outputId": "00c2e729-a37b-4fa9-ded5-74f0abe0e8dc"
      },
      "source": [
        "pip install bs4"
      ],
      "execution_count": null,
      "outputs": [
        {
          "output_type": "stream",
          "text": [
            "Requirement already satisfied: bs4 in /usr/local/lib/python3.6/dist-packages (0.0.1)\n",
            "Requirement already satisfied: beautifulsoup4 in /usr/local/lib/python3.6/dist-packages (from bs4) (4.6.3)\n"
          ],
          "name": "stdout"
        }
      ]
    },
    {
      "cell_type": "code",
      "metadata": {
        "id": "LgNPPX8t--oe",
        "colab_type": "code",
        "colab": {
          "base_uri": "https://localhost:8080/",
          "height": 55
        },
        "outputId": "985b8294-21e5-42cf-dd2f-34393a74c81c"
      },
      "source": [
        "from yahoo_fin.stock_info import *\n",
        "import matplotlib.pyplot as plt\n",
        "import numpy as np\n",
        "import pandas as pd\n",
        "from scipy.stats import kurtosis, skew\n",
        "from tabulate import tabulate\n",
        "import datetime as dt#get current date\n",
        "import statsmodels.api as sm\n",
        "from statsmodels.formula.api import ols\n",
        "from statsmodels.stats.anova import anova_lm\n",
        "from yahoo_fin.stock_info import get_quote_table\n",
        "import requests\n",
        "from bs4 import BeautifulSoup\n",
        "import matplotlib.ticker as mtick\n",
        "from tabulate import tabulate\n",
        "from google.colab import files"
      ],
      "execution_count": null,
      "outputs": [
        {
          "output_type": "stream",
          "text": [
            "/usr/local/lib/python3.6/dist-packages/statsmodels/tools/_testing.py:19: FutureWarning: pandas.util.testing is deprecated. Use the functions in the public API at pandas.testing instead.\n",
            "  import pandas.util.testing as tm\n"
          ],
          "name": "stderr"
        }
      ]
    },
    {
      "cell_type": "code",
      "metadata": {
        "id": "b1rYQU7Qb1mo",
        "colab_type": "code",
        "colab": {}
      },
      "source": [
        "def html_beautifulsoup(url):\n",
        "    response = requests.get(url)\n",
        "    html = response.content\n",
        "\n",
        "    #beautifulsoup html will not look like soure\n",
        "    #review beautifulsoup html to use find and findall\n",
        "    soup = BeautifulSoup(html,\"lxml\")\n",
        "    return soup\n",
        "\n",
        "#soup_html: soup html is not same as source html\n",
        "def yahoo_description(soup_html):\n",
        "    element = soup_html.find('h1',class_='D(ib) Fz(16px) Lh(18px)')\n",
        "    return element.text  "
      ],
      "execution_count": null,
      "outputs": []
    },
    {
      "cell_type": "code",
      "metadata": {
        "id": "l3kywoz5_Ckc",
        "colab_type": "code",
        "colab": {}
      },
      "source": [
        "def Usr_input():\n",
        "  Ticker = input('Please enter ticker(Default = JNJ)-->') or 'JNJ'\n",
        "  Ticker_bond = input('Please enter bond ticker(^IRX,^FVX,^TNX,^TYX Default = ^IRX)-->') or '^IRX'\n",
        "  Start = input('Enter start date(Default = 2000-01-01,)-->') or '2000-01-01'\n",
        "  End = input('Enter end date(Default = Yesterday,)-->') or '2005-01-01'\n",
        "  T_interval = input('Enter date interval(1d,1wk,1mo Default = 1mo)-->') or '1mo'\n",
        "  return Ticker,Ticker_bond, Start, End, T_interval"
      ],
      "execution_count": null,
      "outputs": []
    },
    {
      "cell_type": "code",
      "metadata": {
        "id": "PG9KOeNY_MC3",
        "colab_type": "code",
        "colab": {}
      },
      "source": [
        "def calculate_ret(stock_a,stock_M,start,end_t,T_interval):\n",
        "  Stock_price_a = get_data(stock_a,start_date=start,end_date=end_t,index_as_date=True,interval = T_interval)['adjclose'].dropna()\n",
        "  Ret_a = Stock_price_a.pct_change()[1:]\n",
        "  Stock_price_M = get_data(stock_M,start_date=start,end_date=end_t,index_as_date=True,interval = T_interval)['adjclose'].dropna()\n",
        "  Ret_M = Stock_price_M.pct_change()[1:]\n",
        "  Ret = pd.DataFrame([Ret_a,Ret_M])\n",
        "  Ret = Ret.T\n",
        "  Ret.columns = [stock_a,'Bond']\n",
        "  return Ret"
      ],
      "execution_count": null,
      "outputs": []
    },
    {
      "cell_type": "code",
      "metadata": {
        "id": "D7ZFjfYj_Qoq",
        "colab_type": "code",
        "colab": {
          "base_uri": "https://localhost:8080/",
          "height": 111
        },
        "outputId": "cb9055c5-7ec1-4009-896b-bbc2e6d2d8f8"
      },
      "source": [
        "(Ticker,Ticker_bond,macro_start,macro_end,macro_T_interval) = Usr_input()"
      ],
      "execution_count": null,
      "outputs": [
        {
          "output_type": "stream",
          "text": [
            "Please enter ticker(Default = JNJ)-->JNJ\n",
            "Please enter bond ticker(^IRX,^FVX,^TNX,^TYX Default = ^IRX)-->^IRX\n",
            "Enter start date(Default = 2000-01-01,)-->2000-01-01\n",
            "Enter end date(Default = Yesterday,)-->\n",
            "Enter date interval(1d,1wk,1mo Default = 1mo)-->1mo\n"
          ],
          "name": "stdout"
        }
      ]
    },
    {
      "cell_type": "markdown",
      "metadata": {
        "id": "nynKUMyQRkwH",
        "colab_type": "text"
      },
      "source": [
        "Print result summury"
      ]
    },
    {
      "cell_type": "code",
      "metadata": {
        "id": "Byns8Y0JRIkr",
        "colab_type": "code",
        "colab": {
          "base_uri": "https://localhost:8080/",
          "height": 505
        },
        "outputId": "d0f40adc-7d69-473b-d705-7cc1aa5514ee"
      },
      "source": [
        "ret = calculate_ret(Ticker,Ticker_bond,macro_start,macro_end,macro_T_interval)\n",
        "ret_M = ret['Bond']\n",
        "ret_a = ret[Ticker]\n",
        "\n",
        "ret_Mc = sm.add_constant(ret_M)\n",
        "results = sm.OLS(ret_a,ret_Mc).fit()\n",
        "print('                                 inflation Model')\n",
        "print(results.summary())"
      ],
      "execution_count": null,
      "outputs": [
        {
          "output_type": "stream",
          "text": [
            "                                 inflation Model\n",
            "                            OLS Regression Results                            \n",
            "==============================================================================\n",
            "Dep. Variable:                    JNJ   R-squared:                       0.002\n",
            "Model:                            OLS   Adj. R-squared:                 -0.016\n",
            "Method:                 Least Squares   F-statistic:                   0.08861\n",
            "Date:                Wed, 15 Jul 2020   Prob (F-statistic):              0.767\n",
            "Time:                        16:07:11   Log-Likelihood:                 79.643\n",
            "No. Observations:                  59   AIC:                            -155.3\n",
            "Df Residuals:                      57   BIC:                            -151.1\n",
            "Df Model:                           1                                         \n",
            "Covariance Type:            nonrobust                                         \n",
            "==============================================================================\n",
            "                 coef    std err          t      P>|t|      [0.025      0.975]\n",
            "------------------------------------------------------------------------------\n",
            "const          0.0106      0.008      1.265      0.211      -0.006       0.027\n",
            "Bond           0.0291      0.098      0.298      0.767      -0.167       0.225\n",
            "==============================================================================\n",
            "Omnibus:                        2.417   Durbin-Watson:                   1.945\n",
            "Prob(Omnibus):                  0.299   Jarque-Bera (JB):                1.661\n",
            "Skew:                          -0.186   Prob(JB):                        0.436\n",
            "Kurtosis:                       3.733   Cond. No.                         11.8\n",
            "==============================================================================\n",
            "\n",
            "Warnings:\n",
            "[1] Standard Errors assume that the covariance matrix of the errors is correctly specified.\n"
          ],
          "name": "stdout"
        }
      ]
    },
    {
      "cell_type": "markdown",
      "metadata": {
        "id": "E8RkbtZiRqW6",
        "colab_type": "text"
      },
      "source": [
        "Anova test"
      ]
    },
    {
      "cell_type": "code",
      "metadata": {
        "id": "gbrAct4MRi7D",
        "colab_type": "code",
        "colab": {
          "base_uri": "https://localhost:8080/",
          "height": 73
        },
        "outputId": "60777b97-f578-4382-9846-c6426e97a676"
      },
      "source": [
        "model = ols(Ticker+' ~ Bond',ret).fit()\n",
        "anova_table = anova_lm(model)\n",
        "print(anova_table)"
      ],
      "execution_count": null,
      "outputs": [
        {
          "output_type": "stream",
          "text": [
            "            df    sum_sq   mean_sq         F   PR(>F)\n",
            "Bond       1.0  0.000361  0.000361  0.088605  0.76704\n",
            "Residual  57.0  0.232209  0.004074       NaN      NaN\n"
          ],
          "name": "stdout"
        }
      ]
    },
    {
      "cell_type": "markdown",
      "metadata": {
        "id": "GfWpzJQkRyhh",
        "colab_type": "text"
      },
      "source": [
        "Regression plot"
      ]
    },
    {
      "cell_type": "code",
      "metadata": {
        "id": "snV-gQVhRxu5",
        "colab_type": "code",
        "colab": {
          "base_uri": "https://localhost:8080/",
          "height": 512
        },
        "outputId": "9462b777-b988-4652-d21f-bb624d362b40"
      },
      "source": [
        "soup_html = html_beautifulsoup(\"https://finance.yahoo.com/quote/\"  + Ticker)\n",
        "soup_html_ = html_beautifulsoup(\"https://finance.yahoo.com/quote/\"  + Ticker_bond)\n",
        "Ticker_name = yahoo_description(soup_html)\n",
        "bond_name = yahoo_description(soup_html_)\n",
        "\n",
        "plt.figure(figsize=(14,7))\n",
        "plt.gca().yaxis.set_major_formatter(mtick.PercentFormatter())\n",
        "plt.gca().xaxis.set_major_formatter(mtick.PercentFormatter())\n",
        "(a,b) = results.params\n",
        "R_sq = results.rsquared\n",
        "predict = a+np.multiply(ret_M,b)\n",
        "plt.scatter(ret_M*100,predict*100)\n",
        "plt.scatter(ret_M*100,ret_a*100)\n",
        "plt.text(7, 6, 'Y={:.4f}+{:.4f}*X'.format(a,b), fontsize=12)\n",
        "plt.text(7, 4, r'$R^2$ = {:.4f}'.format(R_sq), fontsize=12)\n",
        "plt.title(macro_start+' to '+macro_end,fontsize = 16)\n",
        "plt.suptitle('Regression for '+Ticker_name, fontsize = 18)\n",
        "plt.grid(True)\n",
        "plt.xlabel(bond_name,fontweight='bold')\n",
        "plt.ylabel(Ticker_name,fontweight='bold')"
      ],
      "execution_count": null,
      "outputs": [
        {
          "output_type": "execute_result",
          "data": {
            "text/plain": [
              "Text(0, 0.5, 'JNJ - Johnson & Johnson')"
            ]
          },
          "metadata": {
            "tags": []
          },
          "execution_count": 14
        },
        {
          "output_type": "display_data",
          "data": {
            "image/png": "[encoded data removed]",
            "text/plain": [
              "<Figure size 1008x504 with 1 Axes>"
            ]
          },
          "metadata": {
            "tags": [],
            "needs_background": "light"
          }
        }
      ]
    },
    {
      "cell_type": "markdown",
      "metadata": {
        "id": "0P8ebGTdTlYb",
        "colab_type": "text"
      },
      "source": [
        "Fit and diagnostic for all observation"
      ]
    },
    {
      "cell_type": "code",
      "metadata": {
        "id": "iR56ti7jcI9d",
        "colab_type": "code",
        "colab": {
          "base_uri": "https://localhost:8080/",
          "height": 1000
        },
        "outputId": "07ace8f1-585c-490e-8902-c0f5993a5bd2"
      },
      "source": [
        "pd.set_option('precision', 2)\n",
        "Resid = predict-ret_a\n",
        "std_resid = (Resid-Resid.mean())/Resid.std()\n",
        "SE = np.sqrt(abs(Resid))\n",
        "lower = predict-SE*1.97\n",
        "upper = predict+SE*1.97\n",
        "report = pd.concat([ret_a, predict,SE,lower,upper,Resid,std_resid],axis=1)\n",
        "report.columns = [Ticker_name,'Fit','SE Fit','lower bound of 95CI','upper bound of 95CI','Resid','Std Resid']\n",
        "pd.set_option('display.max_columns', None)\n",
        "print(tabulate(report,headers=report.columns,tablefmt=\"github\"))"
      ],
      "execution_count": null,
      "outputs": [
        {
          "output_type": "stream",
          "text": [
            "|                     |   JNJ - Johnson & Johnson |        Fit |    SE Fit |   lower bound of 95CI |   upper bound of 95CI |        Resid |   Std Resid |\n",
            "|---------------------|---------------------------|------------|-----------|-----------------------|-----------------------|--------------|-------------|\n",
            "| 2000-02-01 00:00:00 |              -0.163398    | 0.0111894  | 0.417837  |            -0.81195   |             0.834328  |  0.174588    |   2.75923   |\n",
            "| 2000-03-01 00:00:00 |              -0.0172503   | 0.0110232  | 0.168147  |            -0.320227  |             0.342274  |  0.0282736   |   0.446843  |\n",
            "| 2000-04-01 00:00:00 |               0.174378    | 0.010254   | 0.405122  |            -0.787836  |             0.808344  | -0.164124    |  -2.59385   |\n",
            "| 2000-05-01 00:00:00 |               0.0848486   | 0.0097858  | 0.273976  |            -0.529947  |             0.549518  | -0.0750628   |  -1.18631   |\n",
            "| 2000-06-01 00:00:00 |               0.146559    | 0.0117239  | 0.367199  |            -0.711658  |             0.735106  | -0.134835    |  -2.13097   |\n",
            "| 2000-07-01 00:00:00 |              -0.0865027   | 0.0122447  | 0.314241  |            -0.60681   |             0.6313    |  0.0987474   |   1.56063   |\n",
            "| 2000-08-01 00:00:00 |              -0.0119206   | 0.0110455  | 0.151546  |            -0.2875    |             0.309591  |  0.0229662   |   0.362963  |\n",
            "| 2000-09-01 00:00:00 |               0.0283654   | 0.0102291  | 0.134671  |            -0.255073  |             0.275531  | -0.0181363   |  -0.286631  |\n",
            "| 2000-10-01 00:00:00 |              -0.0192954   | 0.0111896  | 0.1746    |            -0.332772  |             0.355151  |  0.0304851   |   0.481794  |\n",
            "| 2000-11-01 00:00:00 |               0.0854822   | 0.00994751 | 0.274836  |            -0.531479  |             0.551374  | -0.0755347   |  -1.19377   |\n",
            "| 2000-12-01 00:00:00 |               0.0578135   | 0.00925388 | 0.220362  |            -0.42486   |             0.443368  | -0.0485596   |  -0.767448  |\n",
            "| 2001-01-01 00:00:00 |              -0.113576    | 0.00608821 | 0.345925  |            -0.675383  |             0.68756   |  0.119664    |   1.8912    |\n",
            "| 2001-02-01 00:00:00 |               0.0450978   | 0.00988843 | 0.187642  |            -0.359766  |             0.379542  | -0.0352094   |  -0.556458  |\n",
            "| 2001-03-01 00:00:00 |              -0.095251    | 0.00727944 | 0.320204  |            -0.623522  |             0.638081  |  0.10253     |   1.62042   |\n",
            "| 2001-04-01 00:00:00 |               0.103007    | 0.0081725  | 0.307952  |            -0.598492  |             0.614837  | -0.0948342   |  -1.49878   |\n",
            "| 2001-05-01 00:00:00 |               0.00487144  | 0.00840582 | 0.0594507 |            -0.108712  |             0.125524  |  0.00353438  |   0.0558583 |\n",
            "| 2001-06-01 00:00:00 |               0.0380579   | 0.0107747  | 0.165176  |            -0.314622  |             0.336171  | -0.0272831   |  -0.431189  |\n",
            "| 2001-07-01 00:00:00 |               0.0828664   | 0.0096289  | 0.270624  |            -0.523501  |             0.542759  | -0.0732375   |  -1.15746   |\n",
            "| 2001-08-01 00:00:00 |              -0.0256928   | 0.00925613 | 0.186946  |            -0.359028  |             0.37754   |  0.0349489   |   0.552342  |\n",
            "| 2001-09-01 00:00:00 |               0.0544916   | 0.00191161 | 0.229303  |            -0.449816  |             0.453639  | -0.05258     |  -0.830988  |\n",
            "| 2001-10-01 00:00:00 |               0.0453071   | 0.00693938 | 0.195877  |            -0.378938  |             0.392817  | -0.0383678   |  -0.606374  |\n",
            "| 2001-11-01 00:00:00 |               0.00587089  | 0.0065546  | 0.0261478 |            -0.0449565 |             0.0580657 |  0.000683706 |   0.0108055 |\n",
            "| 2001-12-01 00:00:00 |               0.0176454   | 0.00960053 | 0.0896934 |            -0.167095  |             0.186296  | -0.0080449   |  -0.127144  |\n",
            "| 2002-01-01 00:00:00 |              -0.0269036   | 0.0114819  | 0.195922  |            -0.374485  |             0.397449  |  0.0383855   |   0.606655  |\n",
            "| 2002-02-01 00:00:00 |               0.0589465   | 0.0106103  | 0.219855  |            -0.422504  |             0.443725  | -0.0483362   |  -0.763918  |\n",
            "| 2002-03-01 00:00:00 |               0.0698169   | 0.0109488  | 0.242628  |            -0.467027  |             0.488925  | -0.0588681   |  -0.930367  |\n",
            "| 2002-04-01 00:00:00 |              -0.0167818   | 0.0104429  | 0.164999  |            -0.314606  |             0.335491  |  0.0272247   |   0.430267  |\n",
            "| 2002-05-01 00:00:00 |              -0.039305    | 0.0101895  | 0.222474  |            -0.428083  |             0.448462  |  0.0494945   |   0.782224  |\n",
            "| 2002-06-01 00:00:00 |              -0.145272    | 0.00982479 | 0.393824  |            -0.766008  |             0.785658  |  0.155097    |   2.4512    |\n",
            "| 2002-07-01 00:00:00 |               0.00650621  | 0.0107156  | 0.0648795 |            -0.117097  |             0.138528  |  0.00420935  |   0.0665256 |\n",
            "| 2002-08-01 00:00:00 |               0.0325096   | 0.0102605  | 0.149161  |            -0.283587  |             0.304108  | -0.0222491   |  -0.351631  |\n",
            "| 2002-09-01 00:00:00 |              -0.000575007 | 0.00852185 | 0.0953775 |            -0.179372  |             0.196415  |  0.00909686  |   0.143769  |\n",
            "| 2002-10-01 00:00:00 |               0.086354    | 0.008513   | 0.279     |            -0.541117  |             0.558143  | -0.077841    |  -1.23022   |\n",
            "| 2002-11-01 00:00:00 |              -0.0294466   | 0.00619284 | 0.188784  |            -0.365712  |             0.378098  |  0.0356395   |   0.563256  |\n",
            "| 2002-12-01 00:00:00 |              -0.0548458   | 0.0101258  | 0.254895  |            -0.492018  |             0.51227   |  0.0649716   |   1.02683   |\n",
            "| 2003-01-01 00:00:00 |              -0.00186166  | 0.00977281 | 0.107863  |            -0.202718  |             0.222263  |  0.0116345   |   0.183874  |\n",
            "| 2003-02-01 00:00:00 |              -0.0216375   | 0.011295   | 0.181473  |            -0.346207  |             0.368797  |  0.0329325   |   0.520473  |\n",
            "| 2003-03-01 00:00:00 |               0.107879    | 0.00850416 | 0.315238  |            -0.612514  |             0.629522  | -0.0993748   |  -1.57055   |\n",
            "| 2003-04-01 00:00:00 |              -0.0260927   | 0.0109041  | 0.192345  |            -0.368016  |             0.389824  |  0.0369967   |   0.584706  |\n",
            "| 2003-05-01 00:00:00 |              -0.0356642   | 0.0101872  | 0.214129  |            -0.411648  |             0.432022  |  0.0458514   |   0.724647  |\n",
            "| 2003-06-01 00:00:00 |              -0.0446219   | 0.0039825  | 0.220464  |            -0.430332  |             0.438297  |  0.0486044   |   0.768156  |\n",
            "| 2003-07-01 00:00:00 |               0.00174064  | 0.0137023  | 0.109369  |            -0.201755  |             0.22916   |  0.0119617   |   0.189045  |\n",
            "| 2003-08-01 00:00:00 |              -0.0426721   | 0.0116467  | 0.233064  |            -0.447489  |             0.470782  |  0.0543188   |   0.858468  |\n",
            "| 2003-09-01 00:00:00 |               0.00351179  | 0.00957915 | 0.0778932 |            -0.143871  |             0.163029  |  0.00606736  |   0.0958901 |\n",
            "| 2003-10-01 00:00:00 |               0.0163572   | 0.0107989  | 0.0745538 |            -0.136072  |             0.15767   | -0.00555827  |  -0.0878444 |\n",
            "| 2003-11-01 00:00:00 |              -0.0204653   | 0.00986055 | 0.174143  |            -0.333202  |             0.352923  |  0.0303259   |   0.479278  |\n",
            "| 2003-12-01 00:00:00 |               0.0528899   | 0.0105782  | 0.205698  |            -0.394647  |             0.415803  | -0.0423117   |  -0.668705  |\n",
            "| 2004-01-01 00:00:00 |               0.0340689   | 0.0102893  | 0.154207  |            -0.293498  |             0.314076  | -0.0237797   |  -0.37582   |\n",
            "| 2004-02-01 00:00:00 |               0.009173    | 0.011584   | 0.0491016 |            -0.0851463 |             0.108314  |  0.00241097  |   0.0381036 |\n",
            "| 2004-03-01 00:00:00 |              -0.0550229   | 0.0104846  | 0.255944  |            -0.493726  |             0.514695  |  0.0655076   |   1.0353    |\n",
            "| 2004-04-01 00:00:00 |               0.0652603   | 0.011525   | 0.231809  |            -0.445138  |             0.468188  | -0.0537353   |  -0.849247  |\n",
            "| 2004-05-01 00:00:00 |               0.031094    | 0.0136684  | 0.132006  |            -0.246383  |             0.27372   | -0.0174256   |  -0.275398  |\n",
            "| 2004-06-01 00:00:00 |               0.0050349   | 0.0175566  | 0.111901  |            -0.202887  |             0.238001  |  0.0125217   |   0.197897  |\n",
            "| 2004-07-01 00:00:00 |              -0.00771997  | 0.0130457  | 0.144103  |            -0.270837  |             0.296929  |  0.0207657   |   0.328187  |\n",
            "| 2004-08-01 00:00:00 |               0.0512034   | 0.0138268  | 0.19333   |            -0.367034  |             0.394687  | -0.0373766   |  -0.590709  |\n",
            "| 2004-09-01 00:00:00 |              -0.0255313   | 0.0125784  | 0.195217  |            -0.371999  |             0.397156  |  0.0381098   |   0.602297  |\n",
            "| 2004-10-01 00:00:00 |               0.0363923   | 0.0139669  | 0.149751  |            -0.281043  |             0.308977  | -0.0224254   |  -0.354417  |\n",
            "| 2004-11-01 00:00:00 |               0.0332305   | 0.0155224  | 0.133072  |            -0.24663   |             0.277674  | -0.0177082   |  -0.279865  |\n",
            "| 2004-12-01 00:00:00 |               0.0563608   | 0.0106103  | 0.213894  |            -0.41076   |             0.431981  | -0.0457506   |  -0.723054  |\n"
          ],
          "name": "stdout"
        }
      ]
    },
    {
      "cell_type": "code",
      "metadata": {
        "id": "WNGm-yNLr0mW",
        "colab_type": "code",
        "colab": {
          "base_uri": "https://localhost:8080/",
          "height": 36
        },
        "outputId": "df84b9de-2a55-4ebb-ef53-f400108a59dd"
      },
      "source": [
        "#save report to downloads folder\n",
        "report.to_csv('chapter_13_report.csv') \n",
        "files.download('chapter_13_report.csv')\n",
        "print(\"finish downloading chapter_13 file to 'Downloads folder'\")"
      ],
      "execution_count": null,
      "outputs": [
        {
          "output_type": "display_data",
          "data": {
            "application/javascript": [
              "\n",
              "    async function download(id, filename, size) {\n",
              "      if (!google.colab.kernel.accessAllowed) {\n",
              "        return;\n",
              "      }\n",
              "      const div = document.createElement('div');\n",
              "      const label = document.createElement('label');\n",
              "      label.textContent = `Downloading \"${filename}\": `;\n",
              "      div.appendChild(label);\n",
              "      const progress = document.createElement('progress');\n",
              "      progress.max = size;\n",
              "      div.appendChild(progress);\n",
              "      document.body.appendChild(div);\n",
              "\n",
              "      const buffers = [];\n",
              "      let downloaded = 0;\n",
              "\n",
              "      const channel = await google.colab.kernel.comms.open(id);\n",
              "      // Send a message to notify the kernel that we're ready.\n",
              "      channel.send({})\n",
              "\n",
              "      for await (const message of channel.messages) {\n",
              "        // Send a message to notify the kernel that we're ready.\n",
              "        channel.send({})\n",
              "        if (message.buffers) {\n",
              "          for (const buffer of message.buffers) {\n",
              "            buffers.push(buffer);\n",
              "            downloaded += buffer.byteLength;\n",
              "            progress.value = downloaded;\n",
              "          }\n",
              "        }\n",
              "      }\n",
              "      const blob = new Blob(buffers, {type: 'application/binary'});\n",
              "      const a = document.createElement('a');\n",
              "      a.href = window.URL.createObjectURL(blob);\n",
              "      a.download = filename;\n",
              "      div.appendChild(a);\n",
              "      a.click();\n",
              "      div.remove();\n",
              "    }\n",
              "  "
            ],
            "text/plain": [
              "<IPython.core.display.Javascript object>"
            ]
          },
          "metadata": {
            "tags": []
          }
        },
        {
          "output_type": "display_data",
          "data": {
            "application/javascript": [
              "download(\"download_d59f5078-eeaf-403e-8102-6da683ce1d1f\", \"chapter_13_report.csv\", 9090)"
            ],
            "text/plain": [
              "<IPython.core.display.Javascript object>"
            ]
          },
          "metadata": {
            "tags": []
          }
        },
        {
          "output_type": "stream",
          "text": [
            "finish downloading chapter_13 file to 'Downloads folder'\n"
          ],
          "name": "stdout"
        }
      ]
    }
  ]
}