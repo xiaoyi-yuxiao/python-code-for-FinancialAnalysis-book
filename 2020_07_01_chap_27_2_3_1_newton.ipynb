{
  "nbformat": 4,
  "nbformat_minor": 0,
  "metadata": {
    "colab": {
      "name": "2020_07_01_chap_27.2.3.1_newton.ipynb",
      "provenance": [],
      "collapsed_sections": [],
      "include_colab_link": true
    },
    "kernelspec": {
      "name": "python3",
      "display_name": "Python 3"
    }
  },
  "cells": [
    {
      "cell_type": "markdown",
      "metadata": {
        "id": "view-in-github",
        "colab_type": "text"
      },
      "source": [
        "<a href=\"https://colab.research.google.com/github/xiaoyi-yuxiao/python-code-for-FinancialAnalysis-book/blob/master/2020_07_01_chap_27_2_3_1_newton.ipynb\" target=\"_parent\"><img src=\"https://colab.research.google.com/assets/colab-badge.svg\" alt=\"Open In Colab\"/></a>"
      ]
    },
    {
      "cell_type": "code",
      "metadata": {
        "id": "FGgpHsAGiM2Q",
        "colab_type": "code",
        "colab": {}
      },
      "source": [
        "import numpy as np\n",
        "import math\n",
        "import scipy.stats as si"
      ],
      "execution_count": null,
      "outputs": []
    },
    {
      "cell_type": "code",
      "metadata": {
        "id": "Miyiz1VoGiJe",
        "colab_type": "code",
        "colab": {}
      },
      "source": [
        "def BSCall(S,X,R,Q,T,sigma):\n",
        "\n",
        "  d1 = (math.log(S/X) + (R-Q +0.5*(sigma**2))*T)/(sigma*math.sqrt(T))\n",
        "  d2 = d1 - sigma*math.sqrt(T)\n",
        "  Nd1 = si.norm.cdf(d1)\n",
        "  Nd2 = si.norm.cdf(d2)\n",
        "  BSCall_number = math.exp(-1*Q*T)*S*Nd1 - math.exp(-1*R*T)*X*Nd2\n",
        "\n",
        "  return BSCall_number"
      ],
      "execution_count": null,
      "outputs": []
    },
    {
      "cell_type": "code",
      "metadata": {
        "id": "r8z26KbCWIk8",
        "colab_type": "code",
        "colab": {}
      },
      "source": [
        "def BScallvega(S,X,r,q,T,sigma):\n",
        "  d1 = (math.log(S/X) + (r-q+0.5*sigma**2) * T) / (sigma * math.sqrt(T))\n",
        "  Nd1 = (1/math.sqrt(2*math.pi)) * math.exp(-1 * d1**2/2)\n",
        "  return math.exp(-1*q*T)*S*math.sqrt(T)*Nd1"
      ],
      "execution_count": null,
      "outputs": []
    },
    {
      "cell_type": "code",
      "metadata": {
        "id": "J39pD6_6FCeh",
        "colab_type": "code",
        "colab": {}
      },
      "source": [
        "def BSIVNewton(S, X, r, q, T, callprice, initial):\n",
        "  tol = 0.0001\n",
        "  while True:\n",
        "    ya = BSCall(S, X, r, q, T, initial) - callprice\n",
        "    y_a = BScallvega(S, X, r, q, T, initial)\n",
        "    initial -= ya/y_a\n",
        "    if abs(ya/y_a)>tol:\n",
        "      break\n",
        "  return initial"
      ],
      "execution_count": null,
      "outputs": []
    },
    {
      "cell_type": "code",
      "metadata": {
        "id": "bYFryygsHDnF",
        "colab_type": "code",
        "colab": {
          "base_uri": "https://localhost:8080/",
          "height": 34
        },
        "outputId": "1fa2c749-b3d2-454d-b512-dc72172e4348"
      },
      "source": [
        "BSIVNewton(42,40,0.1,0.1,0.5,5,0.5 )"
      ],
      "execution_count": null,
      "outputs": [
        {
          "output_type": "execute_result",
          "data": {
            "text/plain": [
              "0.3624675967056944"
            ]
          },
          "metadata": {
            "tags": []
          },
          "execution_count": 12
        }
      ]
    }
  ]
}