{
  "nbformat": 4,
  "nbformat_minor": 0,
  "metadata": {
    "colab": {
      "name": "2020_6_5_chap8_sample_dist.ipynb",
      "provenance": [],
      "collapsed_sections": [],
      "include_colab_link": true
    },
    "kernelspec": {
      "name": "python3",
      "display_name": "Python 3"
    }
  },
  "cells": [
    {
      "cell_type": "markdown",
      "metadata": {
        "id": "view-in-github",
        "colab_type": "text"
      },
      "source": [
        "<a href=\"https://colab.research.google.com/github/xiaoyi-yuxiao/python-code-for-FinancialAnalysis-book/blob/master/2020_6_5_chap8_sample_dist.ipynb\" target=\"_parent\"><img src=\"https://colab.research.google.com/assets/colab-badge.svg\" alt=\"Open In Colab\"/></a>"
      ]
    },
    {
      "cell_type": "code",
      "metadata": {
        "id": "6S0T_P7voKXa",
        "colab_type": "code",
        "colab": {}
      },
      "source": [
        "#Jun-20-2020\n",
        "import numpy as np\n",
        "import matplotlib.pyplot as plt\n",
        "from itertools import combinations\n",
        "import pandas as pd\n",
        "from google.colab import files"
      ],
      "execution_count": null,
      "outputs": []
    },
    {
      "cell_type": "code",
      "metadata": {
        "id": "iqXejIsnH9lk",
        "colab_type": "code",
        "colab": {}
      },
      "source": [
        "class Combination:\n",
        "  \n",
        "  def __init__ (self, population):\n",
        "    \n",
        "    self.__population = population\n",
        "    self.__combine = []\n",
        "    self.__mean_result = []\n",
        "    self.__counts=[]\n",
        "\n",
        "  def comb_result(self,size):\n",
        "\n",
        "    self.__combine = combinations(self.__population,int(size)) #Give the result of combination of population\n",
        "    result = list(self.__combine)\n",
        "    self.__mean_result = np.mean(result,axis=1)#calculate the mean of each combination\n",
        "    dict_data = {'Combination':result,'Mean':self.__mean_result.T}\n",
        "    frame_data = pd.DataFrame(dict_data)\n",
        "    return frame_data\n",
        "\n",
        "  def sample_dist_result(self):\n",
        "\n",
        "    values, self.__counts = np.unique(self.__mean_result, return_counts=True) #count the unique mean\n",
        "    self.__counts = np.divide(self.__counts,sum(self.__counts))\n",
        "    formattedList = ['{:.2%}'.format(member) for member in self.__counts]\n",
        "    dict_data = {'Sampling distribution':values,'Probability':formattedList}\n",
        "    frame_data = pd.DataFrame(dict_data)\n",
        "    return frame_data\n",
        "\n",
        "  def Plot_hist(self):\n",
        "\n",
        "    plt.figure(figsize=(10,5))\n",
        "    plt.hist(self.__mean_result,bins=len(self.__counts),rwidth=0.5,density=True)# plot the density histogram\n",
        "    plt.suptitle('Sample Distribution',fontsize=16) \n",
        "    plt.title('Sample mean = {:.2f}, Population mean = {:.2f}'.format(np.mean(self.__population),np.mean(self.__population)))\n",
        "    plt.xlabel('Mean')\n",
        "    plt.ylabel('Probability')"
      ],
      "execution_count": null,
      "outputs": []
    },
    {
      "cell_type": "code",
      "metadata": {
        "id": "yek1Sm_nr93x",
        "colab_type": "code",
        "colab": {
          "base_uri": "https://localhost:8080/",
          "height": 53
        },
        "outputId": "e7fdc1ee-3cc0-4abc-f702-a5866811f501"
      },
      "source": [
        "#request user input\n",
        "population = input(\"Enter a list numbers separated by space. Default '1 2 3 4 5 6'-->\") or '1 2 3 4 5 6'\n",
        "population = population.split()\n",
        "population = [int(i) for i in population] #str to int\n",
        "size = input('Number of values in each sample? Default is 3 -->') or 3 "
      ],
      "execution_count": null,
      "outputs": [
        {
          "output_type": "stream",
          "text": [
            "Enter a list numbers separated by space. Default '1 2 3 4 5 6'-->1 2 3 30 40 50 45 56 67 98 34 65 67 98 34 65 67 34 78 56 98 67 43 45\n",
            "Number of values in each sample? Default is 3 -->5\n"
          ],
          "name": "stdout"
        }
      ]
    },
    {
      "cell_type": "code",
      "metadata": {
        "id": "PFNgwswevjEs",
        "colab_type": "code",
        "colab": {
          "base_uri": "https://localhost:8080/",
          "height": 267
        },
        "outputId": "89306b16-28ad-4d0d-8aa6-590f59c5e40a"
      },
      "source": [
        "#print list of combinations\n",
        "First = Combination(population)\n",
        "frame_data = First.comb_result(size)\n",
        "print(frame_data)"
      ],
      "execution_count": null,
      "outputs": [
        {
          "output_type": "stream",
          "text": [
            "                Combination  Mean\n",
            "0         (1, 2, 3, 30, 40)  15.2\n",
            "1         (1, 2, 3, 30, 50)  17.2\n",
            "2         (1, 2, 3, 30, 45)  16.2\n",
            "3         (1, 2, 3, 30, 56)  18.4\n",
            "4         (1, 2, 3, 30, 67)  20.6\n",
            "...                     ...   ...\n",
            "42499  (78, 56, 98, 67, 45)  68.8\n",
            "42500  (78, 56, 98, 43, 45)  64.0\n",
            "42501  (78, 56, 67, 43, 45)  57.8\n",
            "42502  (78, 98, 67, 43, 45)  66.2\n",
            "42503  (56, 98, 67, 43, 45)  61.8\n",
            "\n",
            "[42504 rows x 2 columns]\n"
          ],
          "name": "stdout"
        }
      ]
    },
    {
      "cell_type": "code",
      "metadata": {
        "id": "OQuGAbzlqsEp",
        "colab_type": "code",
        "colab": {
          "base_uri": "https://localhost:8080/",
          "height": 35
        },
        "outputId": "4148e69d-94f5-48f0-b98a-6f3a05d0c83e"
      },
      "source": [
        "#Save combination list to your download folder\n",
        "frame_data.to_csv('Combination.csv') \n",
        "files.download('Combination.csv')\n",
        "print(\"Finish saving combination list to your download folder\")"
      ],
      "execution_count": null,
      "outputs": [
        {
          "output_type": "stream",
          "text": [
            "Finish saving combination list to your download folder\n"
          ],
          "name": "stdout"
        }
      ]
    },
    {
      "cell_type": "code",
      "metadata": {
        "id": "4zbXLYrPNtYI",
        "colab_type": "code",
        "colab": {
          "base_uri": "https://localhost:8080/",
          "height": 267
        },
        "outputId": "1e842b18-f9eb-4426-f18b-5aee00743768"
      },
      "source": [
        "#print sample distribution\n",
        "frame_data = First.sample_dist_result()\n",
        "print(frame_data)"
      ],
      "execution_count": null,
      "outputs": [
        {
          "output_type": "stream",
          "text": [
            "     Sampling distribution Probability\n",
            "0                     14.0       0.01%\n",
            "1                     14.8       0.01%\n",
            "2                     15.2       0.00%\n",
            "3                     15.8       0.00%\n",
            "4                     16.0       0.01%\n",
            "..                     ...         ...\n",
            "317                   84.8       0.00%\n",
            "318                   85.2       0.02%\n",
            "319                   85.6       0.02%\n",
            "320                   87.4       0.00%\n",
            "321                   87.8       0.01%\n",
            "\n",
            "[322 rows x 2 columns]\n"
          ],
          "name": "stdout"
        }
      ]
    },
    {
      "cell_type": "code",
      "metadata": {
        "id": "s5GzaOFpqu5V",
        "colab_type": "code",
        "colab": {
          "base_uri": "https://localhost:8080/",
          "height": 35
        },
        "outputId": "a8cc58ff-614c-4e3d-d54a-a01ca9303f54"
      },
      "source": [
        "#Save probablity distribution to computer download folder\n",
        "frame_data.to_csv('Sample_dist.csv') \n",
        "files.download('Sample_dist.csv')\n",
        "print(\"Finish saving probablity list to computer 'Download' folder\")"
      ],
      "execution_count": null,
      "outputs": [
        {
          "output_type": "stream",
          "text": [
            "Finish saving probablity list to computer 'Download' folder\n"
          ],
          "name": "stdout"
        }
      ]
    },
    {
      "cell_type": "code",
      "metadata": {
        "id": "cfnSwiC7-Fu4",
        "colab_type": "code",
        "colab": {
          "base_uri": "https://localhost:8080/",
          "height": 370
        },
        "outputId": "a945338e-49fe-4060-fe6c-d39df2840d6b"
      },
      "source": [
        "#graph sample distribution\n",
        "First.Plot_hist()"
      ],
      "execution_count": null,
      "outputs": [
        {
          "output_type": "display_data",
          "data": {
            "image/png": "[encoded data removed]",
            "text/plain": [
              "<Figure size 720x360 with 1 Axes>"
            ]
          },
          "metadata": {
            "tags": [],
            "needs_background": "light"
          }
        }
      ]
    }
  ]
}