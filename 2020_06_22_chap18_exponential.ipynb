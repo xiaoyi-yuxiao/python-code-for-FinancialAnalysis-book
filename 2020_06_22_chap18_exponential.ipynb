{
  "nbformat": 4,
  "nbformat_minor": 0,
  "metadata": {
    "colab": {
      "name": "2020_06_22_chap18_exponential.ipynb",
      "provenance": [],
      "collapsed_sections": [],
      "include_colab_link": true
    },
    "kernelspec": {
      "name": "python3",
      "display_name": "Python 3"
    }
  },
  "cells": [
    {
      "cell_type": "markdown",
      "metadata": {
        "id": "view-in-github",
        "colab_type": "text"
      },
      "source": [
        "<a href=\"https://colab.research.google.com/github/xiaoyi-yuxiao/python-code-for-FinancialAnalysis-book/blob/master/2020_06_22_chap18_exponential.ipynb\" target=\"_parent\"><img src=\"https://colab.research.google.com/assets/colab-badge.svg\" alt=\"Open In Colab\"/></a>"
      ]
    },
    {
      "cell_type": "code",
      "metadata": {
        "id": "BeUQnsXS6WqI",
        "colab_type": "code",
        "colab": {
          "base_uri": "https://localhost:8080/",
          "height": 51
        },
        "outputId": "1f2f3bc0-9e25-4443-a584-910a2b914a5d"
      },
      "source": [
        "try:\n",
        "    # For Python 3.0 and later\n",
        "    from urllib.request import urlopen\n",
        "except ImportError:\n",
        "    # Fall back to Python 2's urllib2\n",
        "    from urllib2 import urlopen\n",
        "\n",
        "import json\n",
        "import pandas as pd\n",
        "import matplotlib.pyplot as plt\n",
        "import numpy as np\n",
        "from scipy import stats\n",
        "from tabulate import tabulate\n",
        "import statsmodels.api as sm\n",
        "from statsmodels.sandbox.regression.predstd import wls_prediction_std\n",
        "import datetime as dt\n",
        "from google.colab import files"
      ],
      "execution_count": null,
      "outputs": [
        {
          "output_type": "stream",
          "text": [
            "/usr/local/lib/python3.6/dist-packages/statsmodels/tools/_testing.py:19: FutureWarning: pandas.util.testing is deprecated. Use the functions in the public API at pandas.testing instead.\n",
            "  import pandas.util.testing as tm\n"
          ],
          "name": "stderr"
        }
      ]
    },
    {
      "cell_type": "code",
      "metadata": {
        "id": "drk2vxjo8PNw",
        "colab_type": "code",
        "colab": {}
      },
      "source": [
        "def usr_input():\n",
        "  ticker_1 = input('Enter 1st ticker:(defalut AAPL) ') or 'AAPL'\n",
        "  return ticker_1"
      ],
      "execution_count": null,
      "outputs": []
    },
    {
      "cell_type": "code",
      "metadata": {
        "id": "boDyPxzy8RPw",
        "colab_type": "code",
        "colab": {}
      },
      "source": [
        "def get_jsonparsed_data(url):\n",
        "\n",
        "    response = urlopen(url)\n",
        "    data = response.read().decode(\"utf-8\")\n",
        "    return json.loads(data)"
      ],
      "execution_count": null,
      "outputs": []
    },
    {
      "cell_type": "code",
      "metadata": {
        "id": "Zw9WkpDMZnej",
        "colab_type": "code",
        "colab": {}
      },
      "source": [
        "apikey='6f687ccb520121389797f851cf764bf7'"
      ],
      "execution_count": null,
      "outputs": []
    },
    {
      "cell_type": "code",
      "metadata": {
        "id": "R5J6KywR8S3r",
        "colab_type": "code",
        "colab": {}
      },
      "source": [
        "def get_dictdata(ticker,alpha,beta):\n",
        "\n",
        "  url = ('https://financialmodelingprep.com/api/v3/income-statement/'+ticker+'?apikey=' + apikey)\n",
        "  Data = get_jsonparsed_data(url)\n",
        "  eps = []\n",
        "  date = []\n",
        "  for element in range(len(Data)):\n",
        "    eps.append(Data[element]['eps'])\n",
        "    date.append(Data[element]['date'])\n",
        "\n",
        "  ##find Y to calculate first T\n",
        "  Y = eps[0:5]\n",
        "  ##make X\n",
        "  X = [1,2,3,4,5]\n",
        "  X = sm.add_constant(X)\n",
        "  ## do ols\n",
        "  model = sm.OLS(Y, X)\n",
        "  results = model.fit()\n",
        "  _,T1 = results.params\n",
        "\n",
        "  T = []\n",
        "  S = []\n",
        "\n",
        "  T.append(T1)\n",
        "  S.append(eps[0])\n",
        "\n",
        "  for ele in range(1,len(eps)):\n",
        "   s = alpha*eps[ele]+(1-alpha)*(S[ele-1]+T[ele-1])\n",
        "   t = beta*(s-S[ele-1])+(1-beta)*T[ele-1]\n",
        "   T.append(t)\n",
        "   S.append(s)\n",
        "\n",
        "\n",
        "  dictdata = {ticker+' EPS':eps,ticker+' S':S,ticker+' T':T}\n",
        "\n",
        "  return dictdata,date"
      ],
      "execution_count": null,
      "outputs": []
    },
    {
      "cell_type": "code",
      "metadata": {
        "id": "FsXXh-bh-RWz",
        "colab_type": "code",
        "colab": {
          "base_uri": "https://localhost:8080/",
          "height": 34
        },
        "outputId": "911868a1-6c77-422c-c09e-eaf00435b9df"
      },
      "source": [
        "ticker = usr_input()\n",
        "test,date = get_dictdata(ticker,0.3,0.2)\n",
        "Index = pd.date_range(start=date[len(date)-1], periods=len(date),freq='Y',closed=None)\n",
        "framedata = pd.DataFrame(test,index=Index)\n",
        "framedata = framedata.sort_index(ascending=False)"
      ],
      "execution_count": null,
      "outputs": [
        {
          "output_type": "stream",
          "text": [
            "Enter 1st ticker:(defalut AAPL) JPM\n"
          ],
          "name": "stdout"
        }
      ]
    },
    {
      "cell_type": "code",
      "metadata": {
        "id": "9-HLVpsoCj9K",
        "colab_type": "code",
        "colab": {
          "base_uri": "https://localhost:8080/",
          "height": 357
        },
        "outputId": "86bcb3b4-1125-4d9f-b40e-ce882a09bbc6"
      },
      "source": [
        "print(tabulate(framedata, showindex=True, headers=framedata.columns,tablefmt=\"github\"))"
      ],
      "execution_count": null,
      "outputs": [
        {
          "output_type": "stream",
          "text": [
            "|                     |   JPM EPS |    JPM S |     JPM T |\n",
            "|---------------------|-----------|----------|-----------|\n",
            "| 2019-12-31 00:00:00 |      0.8  |  1.46086 | -0.224078 |\n",
            "| 2018-12-31 00:00:00 |      3.24 |  1.91152 | -0.167432 |\n",
            "| 2017-12-31 00:00:00 |      1.59 |  1.62348 | -0.281301 |\n",
            "| 2016-12-31 00:00:00 |      2.43 |  1.91626 | -0.278432 |\n",
            "| 2015-12-31 00:00:00 |      3.93 |  2.01855 | -0.322467 |\n",
            "| 2014-12-31 00:00:00 |      4.51 |  1.68566 | -0.486305 |\n",
            "| 2013-12-31 00:00:00 |      0.86 |  1.20362 | -0.728392 |\n",
            "| 2012-12-31 00:00:00 |      2.25 |  2.04983 | -0.698938 |\n",
            "| 2011-12-31 00:00:00 |      3.98 |  2.68014 | -0.716095 |\n",
            "| 2010-12-31 00:00:00 |      4.5  |  2.95057 | -0.827512 |\n",
            "| 2009-12-31 00:00:00 |      5.22 |  3.24684 | -0.960321 |\n",
            "| 2008-12-31 00:00:00 |      4.39 |  3.53065 | -1.12945  |\n",
            "| 2007-12-31 00:00:00 |      5.34 |  4.36547 | -1.20311  |\n",
            "| 2006-12-31 00:00:00 |      6.05 |  5.23445 | -1.28664  |\n",
            "| 2005-12-31 00:00:00 |      6.24 |  6.24147 | -1.35654  |\n",
            "| 2004-12-31 00:00:00 |      6.35 |  7.59852 | -1.35642  |\n",
            "| 2003-12-31 00:00:00 |      9.04 |  9.383   | -1.2494   |\n",
            "| 2002-12-31 00:00:00 |     10.75 | 10.75    | -1.22     |\n"
          ],
          "name": "stdout"
        }
      ]
    },
    {
      "cell_type": "code",
      "metadata": {
        "id": "1jhcvbO5otRi",
        "colab_type": "code",
        "colab": {
          "base_uri": "https://localhost:8080/",
          "height": 51
        },
        "outputId": "b2d72520-fae6-4aa4-f0ca-4e31e236027f"
      },
      "source": [
        "framedata.to_csv('chap18_exponentialreport.csv')\n",
        "print(\"Saving exponentialreport to 'Download' folder\") \n",
        "files.download('chap18_exponentialreport.csv')\n",
        "print(\"Finish saving chap18_exponentialreport to 'Download' folder\")"
      ],
      "execution_count": null,
      "outputs": [
        {
          "output_type": "stream",
          "text": [
            "Saving exponentialreport to 'Download' folder\n"
          ],
          "name": "stdout"
        },
        {
          "output_type": "display_data",
          "data": {
            "application/javascript": [
              "\n",
              "    async function download(id, filename, size) {\n",
              "      if (!google.colab.kernel.accessAllowed) {\n",
              "        return;\n",
              "      }\n",
              "      const div = document.createElement('div');\n",
              "      const label = document.createElement('label');\n",
              "      label.textContent = `Downloading \"${filename}\": `;\n",
              "      div.appendChild(label);\n",
              "      const progress = document.createElement('progress');\n",
              "      progress.max = size;\n",
              "      div.appendChild(progress);\n",
              "      document.body.appendChild(div);\n",
              "\n",
              "      const buffers = [];\n",
              "      let downloaded = 0;\n",
              "\n",
              "      const channel = await google.colab.kernel.comms.open(id);\n",
              "      // Send a message to notify the kernel that we're ready.\n",
              "      channel.send({})\n",
              "\n",
              "      for await (const message of channel.messages) {\n",
              "        // Send a message to notify the kernel that we're ready.\n",
              "        channel.send({})\n",
              "        if (message.buffers) {\n",
              "          for (const buffer of message.buffers) {\n",
              "            buffers.push(buffer);\n",
              "            downloaded += buffer.byteLength;\n",
              "            progress.value = downloaded;\n",
              "          }\n",
              "        }\n",
              "      }\n",
              "      const blob = new Blob(buffers, {type: 'application/binary'});\n",
              "      const a = document.createElement('a');\n",
              "      a.href = window.URL.createObjectURL(blob);\n",
              "      a.download = filename;\n",
              "      div.appendChild(a);\n",
              "      a.click();\n",
              "      div.remove();\n",
              "    }\n",
              "  "
            ],
            "text/plain": [
              "<IPython.core.display.Javascript object>"
            ]
          },
          "metadata": {
            "tags": []
          }
        },
        {
          "output_type": "display_data",
          "data": {
            "application/javascript": [
              "download(\"download_8aca733f-2f69-4ac8-a1c6-acf43be07ff1\", \"chap18_exponentialreport.csv\", 971)"
            ],
            "text/plain": [
              "<IPython.core.display.Javascript object>"
            ]
          },
          "metadata": {
            "tags": []
          }
        },
        {
          "output_type": "stream",
          "text": [
            "Finish saving chap18_exponentialreport to 'Download' folder\n"
          ],
          "name": "stdout"
        }
      ]
    },
    {
      "cell_type": "code",
      "metadata": {
        "id": "7U7hduhgClod",
        "colab_type": "code",
        "colab": {}
      },
      "source": [
        "sinit = framedata[ticker+' EPS'][0]\n",
        "tinit = framedata[ticker+' T'][0]\n",
        "\n",
        "Sfore = [sinit]\n",
        "for ele in range(1,4):\n",
        "  sfore = sinit + ele*tinit\n",
        "  Sfore.append(sfore)\n"
      ],
      "execution_count": null,
      "outputs": []
    },
    {
      "cell_type": "code",
      "metadata": {
        "id": "I4bJPwN_MOE9",
        "colab_type": "code",
        "colab": {}
      },
      "source": [
        "i = pd.date_range(start=date[0], periods=4,freq='Y')\n",
        "frame = pd.DataFrame({'prediction':Sfore},index=i)"
      ],
      "execution_count": null,
      "outputs": []
    },
    {
      "cell_type": "code",
      "metadata": {
        "id": "vqtmieneC7-M",
        "colab_type": "code",
        "colab": {
          "base_uri": "https://localhost:8080/",
          "height": 102
        },
        "outputId": "5d881405-f313-4169-b51a-3406e7308406"
      },
      "source": [
        "print(frame)"
      ],
      "execution_count": null,
      "outputs": [
        {
          "output_type": "stream",
          "text": [
            "            prediction\n",
            "2019-12-31    0.800000\n",
            "2020-12-31    0.575922\n",
            "2021-12-31    0.351845\n",
            "2022-12-31    0.127767\n"
          ],
          "name": "stdout"
        }
      ]
    },
    {
      "cell_type": "code",
      "metadata": {
        "id": "FQqDTfbH7yTN",
        "colab_type": "code",
        "colab": {
          "base_uri": "https://localhost:8080/",
          "height": 715
        },
        "outputId": "71759c1a-e83b-4556-d2f3-94d8317d37a4"
      },
      "source": [
        "plt.figure(figsize=(20,10))\n",
        "plt.plot(framedata[ticker+' EPS'], label = \"Observed EPS\")\n",
        "plt.plot(framedata[ticker+' S'], label = \"Smoothed EPS\")\n",
        "plt.plot(frame,'r--',label = 'Prediction')\n",
        "plt.xticks(rotation=90)# rotate the ylim so that it does not look too tight\n",
        "plt.xlabel('Year',fontsize = 15)\n",
        "plt.ylabel('EPS',fontsize = 15)\n",
        "plt.suptitle(f'   Annual earnings per share of {ticker} with forecasts based on the Holt-Winters Model',fontsize = 24)\n",
        "plt.legend(loc=\"upper left\")"
      ],
      "execution_count": null,
      "outputs": [
        {
          "output_type": "execute_result",
          "data": {
            "text/plain": [
              "<matplotlib.legend.Legend at 0x7f3339344ef0>"
            ]
          },
          "metadata": {
            "tags": []
          },
          "execution_count": 12
        },
        {
          "output_type": "display_data",
          "data": {
            "image/png": "[encoded data removed]",
            "text/plain": [
              "<Figure size 1440x720 with 1 Axes>"
            ]
          },
          "metadata": {
            "tags": [],
            "needs_background": "light"
          }
        }
      ]
    },
    {
      "cell_type": "code",
      "metadata": {
        "id": "zulxbPIGojvV",
        "colab_type": "code",
        "colab": {}
      },
      "source": [
        ""
      ],
      "execution_count": null,
      "outputs": []
    }
  ]
}