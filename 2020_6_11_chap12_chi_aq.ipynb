{
  "nbformat": 4,
  "nbformat_minor": 0,
  "metadata": {
    "colab": {
      "name": "2020_6_11_chap12_chi_aq.ipynb",
      "provenance": [],
      "collapsed_sections": [],
      "include_colab_link": true
    },
    "kernelspec": {
      "name": "python3",
      "display_name": "Python 3"
    }
  },
  "cells": [
    {
      "cell_type": "markdown",
      "metadata": {
        "id": "view-in-github",
        "colab_type": "text"
      },
      "source": [
        "<a href=\"https://colab.research.google.com/github/xiaoyi-yuxiao/python-code-for-FinancialAnalysis-book/blob/master/2020_6_11_chap12_chi_aq.ipynb\" target=\"_parent\"><img src=\"https://colab.research.google.com/assets/colab-badge.svg\" alt=\"Open In Colab\"/></a>"
      ]
    },
    {
      "cell_type": "code",
      "metadata": {
        "id": "U6W1BqXTye2T",
        "colab_type": "code",
        "colab": {}
      },
      "source": [
        "#First ask usr for input of a stock ticker\n",
        "#calculate rate of return\n",
        "#plot the histogram with seperate bins and find the bin value and the count\n",
        "#print the estimated mean and std\n",
        "#ask usr to input a hypothesis test\n",
        "#print out the table 12.23 and 12.24"
      ],
      "execution_count": null,
      "outputs": []
    },
    {
      "cell_type": "code",
      "metadata": {
        "id": "ciOidaLQ1vmS",
        "colab_type": "code",
        "colab": {}
      },
      "source": [
        "pip install requests_html"
      ],
      "execution_count": null,
      "outputs": []
    },
    {
      "cell_type": "code",
      "metadata": {
        "id": "q_CVxXaVZQ_i",
        "colab_type": "code",
        "colab": {}
      },
      "source": [
        "pip install requests"
      ],
      "execution_count": null,
      "outputs": []
    },
    {
      "cell_type": "code",
      "metadata": {
        "id": "d5-m2PTPZS9-",
        "colab_type": "code",
        "colab": {}
      },
      "source": [
        "pip install bs4"
      ],
      "execution_count": null,
      "outputs": []
    },
    {
      "cell_type": "code",
      "metadata": {
        "id": "F0DwU1Pl13-P",
        "colab_type": "code",
        "colab": {}
      },
      "source": [
        "pip install yahoo_fin"
      ],
      "execution_count": null,
      "outputs": []
    },
    {
      "cell_type": "code",
      "metadata": {
        "id": "i3lcLOmL1hOc",
        "colab_type": "code",
        "colab": {}
      },
      "source": [
        "import pandas as pd\n",
        "import numpy as np\n",
        "from yahoo_fin.stock_info import *\n",
        "import matplotlib.pyplot as plt\n",
        "import matplotlib.ticker as mtick\n",
        "from tabulate import tabulate\n",
        "import scipy.stats as st\n",
        "import requests\n",
        "from bs4 import BeautifulSoup\n",
        "import datetime as dt#get current date"
      ],
      "execution_count": null,
      "outputs": []
    },
    {
      "cell_type": "code",
      "metadata": {
        "id": "wk03V1M21luh",
        "colab_type": "code",
        "colab": {}
      },
      "source": [
        "def calculate_ret(ticker,start,end,period):\n",
        "  data = get_data(ticker,start_date=start,end_date=end,index_as_date=True,interval=period)['adjclose'].dropna()\n",
        "  ret = data.pct_change()[1:]\n",
        "  return ret"
      ],
      "execution_count": null,
      "outputs": []
    },
    {
      "cell_type": "code",
      "metadata": {
        "id": "rheelBeN3Agw",
        "colab_type": "code",
        "colab": {}
      },
      "source": [
        "def Plot(hist_ret,stock_name,Start,End):\n",
        "  plt.figure(figsize=(20,10))\n",
        "  plt.gca().xaxis.set_major_formatter(mtick.PercentFormatter())\n",
        "  (count,bins,dum)=plt.hist(hist_ret*100)\n",
        "  plt.suptitle('   hist for '+stock_name,fontsize = 24)\n",
        "  plt.xlabel('Return',fontsize = 15)\n",
        "  plt.ylabel('Frequency',fontsize = 15)\n",
        "\n",
        "  plt.title(Start+' to '+End,fontsize = 16)\n",
        "  bins = np.floor(bins)\n",
        "  tuples = []\n",
        "  for ele in range(len(bins)-1):\n",
        "    tuple_range = (bins[ele],bins[ele+1])\n",
        "    tuples.append(tuple_range) \n",
        "  print('Estimated mean = '+str(round(hist_ret.mean(),4)))\n",
        "  print('Estimated std = '+str(round(hist_ret.std(),4)))\n",
        "  return tuples,count,bins"
      ],
      "execution_count": null,
      "outputs": []
    },
    {
      "cell_type": "code",
      "metadata": {
        "id": "lnYUWXq7ZkHV",
        "colab_type": "code",
        "colab": {}
      },
      "source": [
        "def html_beautifulsoup(url):\n",
        "    response = requests.get(url)\n",
        "    html = response.content\n",
        "\n",
        "    #beautifulsoup html will not look like soure\n",
        "    #review beautifulsoup html to use find and findall\n",
        "    soup = BeautifulSoup(html,\"lxml\")\n",
        "    return soup\n",
        "\n",
        "#soup_html: soup html is not same as source html\n",
        "def yahoo_description(soup_html):\n",
        "    element = soup_html.find('h1',class_='D(ib) Fz(16px) Lh(18px)')\n",
        "    return element.text  "
      ],
      "execution_count": null,
      "outputs": []
    },
    {
      "cell_type": "code",
      "metadata": {
        "id": "ReaFjdknuEOZ",
        "colab_type": "code",
        "colab": {}
      },
      "source": [
        "def usr_input():\n",
        "  previousday = dt.date.today()-dt.timedelta(days=1)# get the date of previous day\n",
        "  Default_end = previousday.strftime(\"%Y-%m-%d\") # change the format of the default datetime \n",
        "  years_ago = dt.date.today()-dt.timedelta(days=1852)\n",
        "  Default_start = years_ago.strftime(\"%Y-%m-%d\")\n",
        "  Ticker = input('Please enter ticker(Default = JNJ)-->') or 'JNJ'\n",
        "  Start = input('Enter start date(' + 'Default = 5 Years ago, ' + Default_start + ')-->') or Default_start\n",
        "  End = input('Enter end date(Default = Yesterday, ' + Default_end + ')-->') or Default_end\n",
        "  T_interval = input('Enter date interval(1d,1wk,1mo Default = 1mo)-->') or '1mo'\n",
        "  print(\"\")\n",
        "\n",
        "  soup_html = html_beautifulsoup(\"https://finance.yahoo.com/quote/\"  + Ticker)\n",
        "  stock_name = yahoo_description(soup_html)\n",
        "\n",
        "  return Ticker,Start,End,T_interval,stock_name"
      ],
      "execution_count": null,
      "outputs": []
    },
    {
      "cell_type": "code",
      "metadata": {
        "id": "oIj6xu7l5y1W",
        "colab_type": "code",
        "colab": {
          "base_uri": "https://localhost:8080/",
          "height": 801
        },
        "outputId": "dad520fe-100b-4b7f-9d23-7680e6d22637"
      },
      "source": [
        "Ticker,Start,End,T_interval,stock_name = usr_input()\n",
        "ret = calculate_ret(Ticker,Start,End,T_interval)\n",
        "tuples,count,bins=Plot(ret,stock_name,Start,End)"
      ],
      "execution_count": null,
      "outputs": [
        {
          "output_type": "stream",
          "text": [
            "Please enter ticker(Default = JNJ)-->JNJ\n",
            "Enter start date(Default = 5 Years ago, 2015-06-20)-->2015-06-20\n",
            "Enter end date(Default = Yesterday, 2020-07-14)-->2020-07-14\n",
            "Enter date interval(1d,1wk,1mo Default = 1mo)-->1mo\n",
            "\n",
            "Estimated mean = 0.0096\n",
            "Estimated std = 0.0469\n"
          ],
          "name": "stdout"
        },
        {
          "output_type": "display_data",
          "data": {
            "image/png": "[encoded data removed]",
            "text/plain": [
              "<Figure size 1440x720 with 1 Axes>"
            ]
          },
          "metadata": {
            "tags": [],
            "needs_background": "light"
          }
        }
      ]
    },
    {
      "cell_type": "markdown",
      "metadata": {
        "id": "gPyG8EVRE513",
        "colab_type": "text"
      },
      "source": [
        "Rate of return data"
      ]
    },
    {
      "cell_type": "code",
      "metadata": {
        "id": "DrurSI-6-zMr",
        "colab_type": "code",
        "colab": {
          "base_uri": "https://localhost:8080/",
          "height": 221
        },
        "outputId": "41b6e754-d929-42c2-cd93-a285cb318ba1"
      },
      "source": [
        "dict_data = pd.Series(count,index=tuples)\n",
        "frame_data = dict_data.to_frame()\n",
        "frame_data.columns = ['frequency']\n",
        "#normalized X\n",
        "normd_X = []\n",
        "for ele in range(len(bins)):\n",
        "  normd_ele = round((bins[ele]/100.0-ret.mean())/ret.std(),2)\n",
        "  normd_X.append(normd_ele)\n",
        "#calculate cdf\n",
        "cdf = np.round(st.norm.cdf(normd_X),4)\n",
        "#shade under cdf\n",
        "shade_cdf = np.diff(cdf)\n",
        "#expected frequency\n",
        "freq = np.multiply(shade_cdf,len(ret))\n",
        "#difference of expected freq and actual freq\n",
        "diff = count - freq\n",
        "#output \n",
        "output = np.divide(pow(diff,2),freq)\n",
        "output[output==np.inf] = 0\n",
        "frame_data.insert(1, \"X\", bins[:-1], True) \n",
        "frame_data.insert(2, \"Z\", normd_X[:-1], True) \n",
        "frame_data.insert(3, \"CDF\", cdf[:-1], True) \n",
        "frame_data.insert(4, \"Area P\", shade_cdf, True) \n",
        "frame_data.insert(5, \"Expect freq\", freq, True) \n",
        "frame_data.insert(6, \"(Fo - Fe)\", diff, True) \n",
        "frame_data.insert(7, \"(Fo - Fe)\\u00b2 /Fe\", output, True) \n",
        "print(tabulate(frame_data,frame_data.columns))"
      ],
      "execution_count": null,
      "outputs": [
        {
          "output_type": "stream",
          "text": [
            "                 frequency    X      Z     CDF    Area P    Expect freq    (Fo - Fe)    (Fo - Fe)² /Fe\n",
            "-------------  -----------  ---  -----  ------  --------  -------------  -----------  ----------------\n",
            "(-12.0, -9.0)            2  -12  -2.76  0.0029    0.0141          0.846        1.154         1.57413\n",
            "(-9.0, -7.0)             2   -9  -2.12  0.017     0.0276          1.656        0.344         0.0714589\n",
            "(-7.0, -4.0)             6   -7  -1.7   0.0446    0.1             6            0             0\n",
            "(-4.0, -2.0)             5   -4  -1.06  0.1446    0.1197          7.182       -2.182         0.662925\n",
            "(-2.0, 1.0)             16   -2  -0.63  0.2643    0.2397         14.382        1.618         0.182028\n",
            "(1.0, 4.0)              18    1   0.01  0.504     0.2382         14.292        3.708         0.962025\n",
            "(4.0, 6.0)               3    4   0.65  0.7422    0.1155          6.93        -3.93          2.2287\n",
            "(6.0, 9.0)               7    6   1.07  0.8577    0.0987          5.922        1.078         0.196232\n",
            "(9.0, 11.0)              0    9   1.71  0.9564    0.0274          1.644       -1.644         1.644\n",
            "(11.0, 14.0)             1   11   2.14  0.9838    0.0135          0.81         0.19          0.0445679\n"
          ],
          "name": "stdout"
        }
      ]
    },
    {
      "cell_type": "markdown",
      "metadata": {
        "id": "41fXMiFitqAW",
        "colab_type": "text"
      },
      "source": [
        "chi_square test"
      ]
    },
    {
      "cell_type": "code",
      "metadata": {
        "id": "ZXEZly4LjFxZ",
        "colab_type": "code",
        "colab": {
          "base_uri": "https://localhost:8080/",
          "height": 68
        },
        "outputId": "bf1cb2be-aeec-49ab-c1b5-cefb3238f74b"
      },
      "source": [
        "chi_stat = np.round(st.chi2.ppf(0.95,df = len(count)-1),4)\n",
        "test_stat = np.round(sum(output),4)\n",
        "result = ''\n",
        "print(\"At 5% level of significance\")\n",
        "\n",
        "if test_stat>chi_stat:\n",
        "  print('We conclude that the return is not normally distributed with mean {:.4f},and variance of {:.4f}'.format(ret.mean(),ret.std()))\n",
        "  print('The statistic '+str(test_stat)+' > then critical value of '+str(chi_stat))\n",
        "else:\n",
        "  print('The statistic '+str(test_stat)+' <= then critical value of '+str(chi_stat))\n",
        "  print('We conclude that the return is normally distributed with mean {:.4f},and variance of {:.4f}'.format(ret.mean(),ret.std()))\n",
        " "
      ],
      "execution_count": null,
      "outputs": [
        {
          "output_type": "stream",
          "text": [
            "At 5% level of significance\n",
            "The statistic 7.5661 <= then critical value of 16.919\n",
            "We conclude that the return is normally distributed with mean 0.0096,and variance of 0.0469\n"
          ],
          "name": "stdout"
        }
      ]
    }
  ]
}