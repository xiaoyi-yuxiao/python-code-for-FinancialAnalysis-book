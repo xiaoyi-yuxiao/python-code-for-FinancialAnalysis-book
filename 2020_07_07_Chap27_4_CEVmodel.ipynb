{
  "nbformat": 4,
  "nbformat_minor": 0,
  "metadata": {
    "colab": {
      "name": "2020_07_07_Chap27.4_CEVmodel.ipynb",
      "provenance": [],
      "collapsed_sections": [],
      "include_colab_link": true
    },
    "kernelspec": {
      "name": "python3",
      "display_name": "Python 3"
    }
  },
  "cells": [
    {
      "cell_type": "markdown",
      "metadata": {
        "id": "view-in-github",
        "colab_type": "text"
      },
      "source": [
        "<a href=\"https://colab.research.google.com/github/xiaoyi-yuxiao/python-code-for-FinancialAnalysis-book/blob/master/2020_07_07_Chap27_4_CEVmodel.ipynb\" target=\"_parent\"><img src=\"https://colab.research.google.com/assets/colab-badge.svg\" alt=\"Open In Colab\"/></a>"
      ]
    },
    {
      "cell_type": "code",
      "metadata": {
        "id": "70tsEYN10csA",
        "colab_type": "code",
        "colab": {}
      },
      "source": [
        "import numpy as np\n",
        "import scipy.stats as stats\n",
        "import math\n",
        "import pandas as pd"
      ],
      "execution_count": null,
      "outputs": []
    },
    {
      "cell_type": "code",
      "metadata": {
        "id": "amdP-cA5jA7H",
        "colab_type": "code",
        "colab": {}
      },
      "source": [
        "def usrinput():\n",
        "  S = float(input(\"Please enter current stock price: \"))\n",
        "  X = float(input(\"Please enter excercise price of option: \"))\n",
        "  r = float(input(\"Please enter risk-free interest rate: \"))\n",
        "  q = float(input(\"Please enter dividend yield:\"))\n",
        "  T = float(input(\"Please enter expiration date of option-current time: \"))\n",
        "  alpha = float(input(\"Please enter alpha: \"))\n",
        "  callprice = float(input(\"Please enter market call price: \"))\n",
        "\n",
        "  return S,X,r,q,T,alpha,callprice"
      ],
      "execution_count": null,
      "outputs": []
    },
    {
      "cell_type": "code",
      "metadata": {
        "id": "XT8RGIzL0tnD",
        "colab_type": "code",
        "colab": {}
      },
      "source": [
        "def CEVCall(S,X,r,q,T,sigma,alpha):\n",
        "\n",
        "  v = (math.exp(2*(r-q)*(alpha-1)*T)-1)*(sigma**2)/(2*(r-q)*(alpha-1))\n",
        "  aa = ((X*math.exp(-(r-q)*T))**(2*(1-alpha))) / (((1-alpha)**2)*v)\n",
        "  bb = 1/(1-alpha)\n",
        "  cc = (S**(2*(1-alpha)))/(((1-alpha)**2)*v)\n",
        "  \n",
        "  if alpha <1:\n",
        "    CEVCall_number = math.exp(-q*T)*S*(1-stats.ncx2.cdf(aa,bb+2,cc))-math.exp(-r*T)*X*stats.ncx2.cdf(cc,bb,aa)\n",
        "  else:\n",
        "    CEVCall_number = math.exp(-q*T)*S*(1-stats.ncx2.cdf(cc,-1*bb,aa))-math.exp(-r*T)*X*stats.ncx2.cdf(aa,2-bb,cc)\n",
        "\n",
        "  return CEVCall_number"
      ],
      "execution_count": null,
      "outputs": []
    },
    {
      "cell_type": "code",
      "metadata": {
        "id": "qiROJEKKR6FY",
        "colab_type": "code",
        "colab": {
          "base_uri": "https://localhost:8080/",
          "height": 34
        },
        "outputId": "fcabeb89-0fef-473a-d736-f47d41806395"
      },
      "source": [
        "CEVCall(42,40,0.1,0.05,0.5,1.924097,0.5)"
      ],
      "execution_count": null,
      "outputs": [
        {
          "output_type": "execute_result",
          "data": {
            "text/plain": [
              "4.999957568540111"
            ]
          },
          "metadata": {
            "tags": []
          },
          "execution_count": 14
        }
      ]
    },
    {
      "cell_type": "code",
      "metadata": {
        "id": "7jFeqwpnm6Dr",
        "colab_type": "code",
        "colab": {}
      },
      "source": [
        "def CEVIVBisection(S,X,r,q,T,alpha,callprice,a,b):\n",
        "\n",
        "  yb = CEVCall(S,X,r,q,T,b,alpha) - callprice\n",
        "  ya = CEVCall(S,X,r,q,T,a,alpha) - callprice\n",
        "\n",
        "  if yb*ya > 0:\n",
        "    raise ValueError\n",
        "  else:\n",
        "    while abs(a-b)> 0.000000001:\n",
        "      c = (a+b)/2\n",
        "      yc = CEVCall(S,X,r,q,T,c,alpha) - callprice\n",
        "      ya = CEVCall(S,X,r,q,T,a,alpha) - callprice\n",
        "\n",
        "      if ya*yc < 0:\n",
        "        b = c\n",
        "      else:\n",
        "        a = c\n",
        "    cevivbi = (a+b)/2\n",
        "\n",
        "  return cevivbi\n"
      ],
      "execution_count": null,
      "outputs": []
    },
    {
      "cell_type": "code",
      "metadata": {
        "id": "F7Y8bSN9C2nx",
        "colab_type": "code",
        "colab": {
          "base_uri": "https://localhost:8080/",
          "height": 134
        },
        "outputId": "7cff6b87-bfd9-45ac-cee1-b395747fc3e6"
      },
      "source": [
        "S,X,r,q,T,alpha,callprice = usrinput()\n",
        "CEVIVBisection_number = CEVIVBisection(S,X,r,q,T,alpha,callprice,0.01,10)"
      ],
      "execution_count": null,
      "outputs": [
        {
          "output_type": "stream",
          "text": [
            "Please enter current stock price: 42\n",
            "Please enter excercise price of option: 40\n",
            "Please enter risk-free interest rate: 0.1\n",
            "Please enter dividend yield:0.05\n",
            "Please enter expiration date of option-current time: 0.5\n",
            "Please enter alpha: 0.5\n",
            "Please enter market call price: 5\n"
          ],
          "name": "stdout"
        }
      ]
    },
    {
      "cell_type": "code",
      "metadata": {
        "id": "eTLxba1n0By1",
        "colab_type": "code",
        "colab": {
          "base_uri": "https://localhost:8080/",
          "height": 168
        },
        "outputId": "7ff96a24-a472-40b8-8996-9ebb9ea46d4c"
      },
      "source": [
        "data = [['Current stock price',S], ['Excercise price of option',X],['risk-free interest rate',r], ['dividend yield',q],['expiration date of option-current time',T],['alpha', alpha],['Call price',callprice],['cevivbisection',CEVIVBisection_number]]\n",
        "df = pd.DataFrame(data)\n",
        "pd.options.display.max_columns = None\n",
        "print(df)"
      ],
      "execution_count": null,
      "outputs": [
        {
          "output_type": "stream",
          "text": [
            "                                        0          1\n",
            "0                     Current stock price  42.000000\n",
            "1               Excercise price of option  40.000000\n",
            "2                 risk-free interest rate   0.100000\n",
            "3                          dividend yield   0.050000\n",
            "4  expiration date of option-current time   0.500000\n",
            "5                                   alpha   0.500000\n",
            "6                              Call price   5.000000\n",
            "7                          cevivbisection   1.924123\n"
          ],
          "name": "stdout"
        }
      ]
    },
    {
      "cell_type": "code",
      "metadata": {
        "id": "YL0t7RowMC_A",
        "colab_type": "code",
        "colab": {}
      },
      "source": [
        ""
      ],
      "execution_count": null,
      "outputs": []
    }
  ]
}