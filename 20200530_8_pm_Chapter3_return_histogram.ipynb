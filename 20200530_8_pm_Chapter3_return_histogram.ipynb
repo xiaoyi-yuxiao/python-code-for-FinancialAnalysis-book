{
  "nbformat": 4,
  "nbformat_minor": 0,
  "metadata": {
    "colab": {
      "name": "20200530_8_pm_Chapter3_return_histogram.ipynb",
      "provenance": [],
      "collapsed_sections": [],
      "include_colab_link": true
    },
    "kernelspec": {
      "name": "python3",
      "display_name": "Python 3"
    }
  },
  "cells": [
    {
      "cell_type": "markdown",
      "metadata": {
        "id": "view-in-github",
        "colab_type": "text"
      },
      "source": [
        "<a href=\"https://colab.research.google.com/github/xiaoyi-yuxiao/python-code-for-FinancialAnalysis-book/blob/master/20200530_8_pm_Chapter3_return_histogram.ipynb\" target=\"_parent\"><img src=\"https://colab.research.google.com/assets/colab-badge.svg\" alt=\"Open In Colab\"/></a>"
      ]
    },
    {
      "cell_type": "code",
      "metadata": {
        "id": "AmLY-6OaS2gm",
        "colab_type": "code",
        "colab": {
          "base_uri": "https://localhost:8080/",
          "height": 241
        },
        "outputId": "97d1fff4-ece9-4406-e27e-bef5e1387044"
      },
      "source": [
        "pip install yfinance"
      ],
      "execution_count": null,
      "outputs": [
        {
          "output_type": "stream",
          "text": [
            "Requirement already satisfied: yfinance in /usr/local/lib/python3.6/dist-packages (0.1.54)\n",
            "Requirement already satisfied: numpy>=1.15 in /usr/local/lib/python3.6/dist-packages (from yfinance) (1.18.5)\n",
            "Requirement already satisfied: pandas>=0.24 in /usr/local/lib/python3.6/dist-packages (from yfinance) (1.0.5)\n",
            "Requirement already satisfied: multitasking>=0.0.7 in /usr/local/lib/python3.6/dist-packages (from yfinance) (0.0.9)\n",
            "Requirement already satisfied: requests>=2.20 in /usr/local/lib/python3.6/dist-packages (from yfinance) (2.23.0)\n",
            "Requirement already satisfied: python-dateutil>=2.6.1 in /usr/local/lib/python3.6/dist-packages (from pandas>=0.24->yfinance) (2.8.1)\n",
            "Requirement already satisfied: pytz>=2017.2 in /usr/local/lib/python3.6/dist-packages (from pandas>=0.24->yfinance) (2018.9)\n",
            "Requirement already satisfied: certifi>=2017.4.17 in /usr/local/lib/python3.6/dist-packages (from requests>=2.20->yfinance) (2020.6.20)\n",
            "Requirement already satisfied: idna<3,>=2.5 in /usr/local/lib/python3.6/dist-packages (from requests>=2.20->yfinance) (2.9)\n",
            "Requirement already satisfied: chardet<4,>=3.0.2 in /usr/local/lib/python3.6/dist-packages (from requests>=2.20->yfinance) (3.0.4)\n",
            "Requirement already satisfied: urllib3!=1.25.0,!=1.25.1,<1.26,>=1.21.1 in /usr/local/lib/python3.6/dist-packages (from requests>=2.20->yfinance) (1.24.3)\n",
            "Requirement already satisfied: six>=1.5 in /usr/local/lib/python3.6/dist-packages (from python-dateutil>=2.6.1->pandas>=0.24->yfinance) (1.12.0)\n"
          ],
          "name": "stdout"
        }
      ]
    },
    {
      "cell_type": "code",
      "metadata": {
        "id": "eTPUcJHtOrJO",
        "colab_type": "code",
        "colab": {
          "base_uri": "https://localhost:8080/",
          "height": 111
        },
        "outputId": "1fc2371e-c460-46e4-e266-e4c28de4dafd"
      },
      "source": [
        "pip install requests"
      ],
      "execution_count": null,
      "outputs": [
        {
          "output_type": "stream",
          "text": [
            "Requirement already satisfied: requests in /usr/local/lib/python3.6/dist-packages (2.23.0)\n",
            "Requirement already satisfied: chardet<4,>=3.0.2 in /usr/local/lib/python3.6/dist-packages (from requests) (3.0.4)\n",
            "Requirement already satisfied: certifi>=2017.4.17 in /usr/local/lib/python3.6/dist-packages (from requests) (2020.6.20)\n",
            "Requirement already satisfied: idna<3,>=2.5 in /usr/local/lib/python3.6/dist-packages (from requests) (2.9)\n",
            "Requirement already satisfied: urllib3!=1.25.0,!=1.25.1,<1.26,>=1.21.1 in /usr/local/lib/python3.6/dist-packages (from requests) (1.24.3)\n"
          ],
          "name": "stdout"
        }
      ]
    },
    {
      "cell_type": "code",
      "metadata": {
        "id": "FAgmY2ZpO9L3",
        "colab_type": "code",
        "colab": {
          "base_uri": "https://localhost:8080/",
          "height": 54
        },
        "outputId": "69501752-2684-4a63-a310-8f7218b6744d"
      },
      "source": [
        "pip install bs4"
      ],
      "execution_count": null,
      "outputs": [
        {
          "output_type": "stream",
          "text": [
            "Requirement already satisfied: bs4 in /usr/local/lib/python3.6/dist-packages (0.0.1)\n",
            "Requirement already satisfied: beautifulsoup4 in /usr/local/lib/python3.6/dist-packages (from bs4) (4.6.3)\n"
          ],
          "name": "stdout"
        }
      ]
    },
    {
      "cell_type": "code",
      "metadata": {
        "id": "9kz-LI6TRD5L",
        "colab_type": "code",
        "cellView": "code",
        "colab": {}
      },
      "source": [
        "import yfinance as yf\n",
        "import matplotlib.pyplot as plt\n",
        "import numpy as np\n",
        "import pandas as pd\n",
        "import datetime as dt#get current date\n",
        "import requests\n",
        "from bs4 import BeautifulSoup\n",
        "from google.colab import files"
      ],
      "execution_count": null,
      "outputs": []
    },
    {
      "cell_type": "code",
      "metadata": {
        "id": "jIY4uDjWEBV0",
        "colab_type": "code",
        "colab": {}
      },
      "source": [
        "#beautifulsoup is used web scrape URL\n",
        "#return html\n",
        "def html_beautifulsoup(url):\n",
        "    response = requests.get(url)\n",
        "    html = response.content\n",
        "\n",
        "    #beautifulsoup html will not look like soure\n",
        "    #review beautifulsoup html to use find and findall\n",
        "    soup = BeautifulSoup(html,\"lxml\")\n",
        "    return soup\n",
        "\n",
        "#soup_html: soup html is not same as source html\n",
        "def yahoo_description(soup_html):\n",
        "    element = soup_html.find('h1',class_='D(ib) Fz(16px) Lh(18px)')\n",
        "    return element.text  "
      ],
      "execution_count": null,
      "outputs": []
    },
    {
      "cell_type": "code",
      "metadata": {
        "id": "zp322523Rqec",
        "colab_type": "code",
        "colab": {}
      },
      "source": [
        "# this function is to fetch the stock info and data and then plot it\n",
        "def graph_return(Ticker, time_interval, start_t, end_t): \n",
        "  Data=yf.download(Ticker,start=start_t,end=end_t,interval = time_interval)\n",
        "  Adjclose=Data['Adj Close']\n",
        "  Dr = Adjclose.dropna()\n",
        "  R=Dr.pct_change()[1:]\n",
        " \n",
        "  soup_html = html_beautifulsoup(\"https://finance.yahoo.com/quote/\"  + Ticker) \n",
        "\n",
        "  fig = plt.figure(figsize=(20,10))\n",
        "\n",
        "  #graph chart\n",
        "  ax1 = fig.add_subplot(111)\n",
        "  (counts, bins, patch)=ax1.hist(R, bins=20)\n",
        "  ax1.set_xlabel('Rate of Return')\n",
        "  ax1.set_ylabel('Frequency')\n",
        "  ax1.legend([Ticker])\n",
        "  ax2 = ax1.twinx()  # set another Y axis with label\n",
        "  pct_counts = counts/sum(counts) # calculate the percent change count\n",
        "  Cum_sum = np.cumsum(pct_counts)# calculate cumulative percent change\n",
        "  ax2.plot(bins[1:],Cum_sum,'r') # set the bins \n",
        "  ax2.set_ylim([0, 1]) #set the scale of the right Y-axis\n",
        "  ax2.set_ylabel('Cumulative %') \n",
        "  plt.title(start_t+' to '+end_t,fontsize=16)#set font here\n",
        "  plt.suptitle(yahoo_description(soup_html),fontsize=18) \n",
        "  print(\"\")\n",
        "  plt.show()\n",
        "\n",
        "  # print data set\n",
        "  Dr = Dr.round(2) # Dr is a series not a dataframe\n",
        "  data = pd.concat([Dr,R],axis=1)\n",
        "  data.columns =['Adjclose','Rate of return']\n",
        "  data = data.sort_values(by='Date', ascending=False)\n",
        "  pd.set_option('display.max_rows', None)\n",
        "  print(\"\")\n",
        "  print(data)\n",
        "\n",
        "data.to_csv('histogram.csv') \n",
        "files.download('histogram.csv')"
      ],
      "execution_count": null,
      "outputs": []
    },
    {
      "cell_type": "code",
      "metadata": {
        "id": "h_JALpilpu4M",
        "colab_type": "code",
        "colab": {
          "base_uri": "https://localhost:8080/",
          "height": 193
        },
        "outputId": "7256a941-a88b-461a-9c6d-71a22c2d9c39"
      },
      "source": [
        "data.to_csv('histogram.csv') \n",
        "files.download('histogram.csv')"
      ],
      "execution_count": null,
      "outputs": [
        {
          "output_type": "error",
          "ename": "NameError",
          "evalue": "ignored",
          "traceback": [
            "\u001b[0;31m---------------------------------------------------------------------------\u001b[0m",
            "\u001b[0;31mNameError\u001b[0m                                 Traceback (most recent call last)",
            "\u001b[0;32m<ipython-input-25-04f646a60c52>\u001b[0m in \u001b[0;36m<module>\u001b[0;34m()\u001b[0m\n\u001b[0;32m----> 1\u001b[0;31m \u001b[0mdata\u001b[0m\u001b[0;34m.\u001b[0m\u001b[0mto_csv\u001b[0m\u001b[0;34m(\u001b[0m\u001b[0;34m'histogram.csv'\u001b[0m\u001b[0;34m)\u001b[0m\u001b[0;34m\u001b[0m\u001b[0;34m\u001b[0m\u001b[0m\n\u001b[0m\u001b[1;32m      2\u001b[0m \u001b[0mfiles\u001b[0m\u001b[0;34m.\u001b[0m\u001b[0mdownload\u001b[0m\u001b[0;34m(\u001b[0m\u001b[0;34m'histogram.csv'\u001b[0m\u001b[0;34m)\u001b[0m\u001b[0;34m\u001b[0m\u001b[0;34m\u001b[0m\u001b[0m\n",
            "\u001b[0;31mNameError\u001b[0m: name 'data' is not defined"
          ]
        }
      ]
    },
    {
      "cell_type": "code",
      "metadata": {
        "id": "UvGocYGeFjUm",
        "colab_type": "code",
        "colab": {
          "base_uri": "https://localhost:8080/",
          "height": 1000
        },
        "outputId": "76d61e51-78dc-4a31-e8b2-da4de6be72d5"
      },
      "source": [
        "#initialize dates\n",
        "previousday = dt.date.today()-dt.timedelta(days=1)# get the date of previous day\n",
        "Default_end = previousday.strftime(\"%Y-%m-%d\") # change the format of the default datetime \n",
        "years_ago = dt.date.today()-dt.timedelta(days=5 * 365)\n",
        "Default_start = years_ago.strftime(\"%Y-%m-%d\")\n",
        "\n",
        "# request user input\n",
        "# set default values if users does not enter a value\n",
        "Ticker = input('Please enter ticker(Default = JNJ)-->') or 'JNJ'\n",
        "Start = input('Enter start date(' + 'Default = 5 Years ago, ' + Default_start + ')-->') or Default_start\n",
        "End = input('Enter end date(Default = Yesterday, ' + Default_end + ')-->') or Default_end\n",
        "T_interval = input('Enter date interval(1d,1wk,1mo Default = 1wk)-->') or '1wk'\n",
        "\n",
        "print(\"\")\n",
        "\n",
        "graph_return(Ticker, T_interval,Start,End)\n",
        "\n",
        "\n",
        "print(\"\")\n",
        "print(\"\")"
      ],
      "execution_count": null,
      "outputs": [
        {
          "output_type": "stream",
          "text": [
            "Please enter ticker(Default = JNJ)-->\n",
            "Enter start date(Default = 5 Years ago, 2015-07-11)-->\n",
            "Enter end date(Default = Yesterday, 2020-07-08)-->\n",
            "Enter date interval(1d,1wk,1mo Default = 1wk)-->\n",
            "\n",
            "[*********************100%***********************]  1 of 1 completed\n",
            "\n"
          ],
          "name": "stdout"
        },
        {
          "output_type": "display_data",
          "data": {
            "image/png": "[encoded data removed]",
            "text/plain": [
              "<Figure size 1440x720 with 2 Axes>"
            ]
          },
          "metadata": {
            "tags": [],
            "needs_background": "light"
          }
        },
        {
          "output_type": "stream",
          "text": [
            "\n",
            "            Adjclose  Rate of return\n",
            "Date                                \n",
            "2020-07-06    142.85        0.013336\n",
            "2020-06-29    140.97        0.022930\n",
            "2020-06-22    137.81       -0.041855\n",
            "2020-06-15    143.83        0.011819\n",
            "2020-06-08    142.15       -0.034963\n",
            "2020-06-01    147.30       -0.009748\n",
            "2020-05-25    148.75        0.037481\n",
            "2020-05-18    143.38       -0.040348\n",
            "2020-05-11    149.40        0.011701\n",
            "2020-05-04    147.68        0.002765\n",
            "2020-04-27    147.27       -0.042425\n",
            "2020-04-20    153.79        0.018682\n",
            "2020-04-13    150.97        0.076400\n",
            "2020-04-06    140.26        0.052620\n",
            "2020-03-30    133.25        0.089396\n",
            "2020-03-23    122.31        0.027275\n",
            "2020-03-16    119.06       -0.107231\n",
            "2020-03-09    133.37       -0.054496\n",
            "2020-03-02    141.05        0.062877\n",
            "2020-02-24    132.71       -0.103048\n",
            "2020-02-17    147.95       -0.001332\n",
            "2020-02-10    148.15       -0.011587\n",
            "2020-02-03    149.89        0.020286\n",
            "2020-01-27    146.91        0.003708\n",
            "2020-01-20    146.37       -0.005698\n",
            "2020-01-13    147.20        0.028333\n",
            "2020-01-06    143.15        0.005406\n",
            "2019-12-30    142.38       -0.010086\n",
            "2019-12-23    143.83       -0.002122\n",
            "2019-12-16    144.14        0.033102\n",
            "2019-12-09    139.52        0.007123\n",
            "2019-12-02    138.53        0.028094\n",
            "2019-11-25    134.74       -0.004201\n",
            "2019-11-18    135.31        0.023195\n",
            "2019-11-11    132.25        0.014587\n",
            "2019-11-04    130.34        0.013720\n",
            "2019-10-28    128.58        0.022205\n",
            "2019-10-21    125.79        0.005090\n",
            "2019-10-14    125.15       -0.027640\n",
            "2019-10-07    128.71       -0.017432\n",
            "2019-09-30    130.99        0.039347\n",
            "2019-09-23    126.03       -0.023167\n",
            "2019-09-16    129.02        0.006652\n",
            "2019-09-09    128.17        0.020045\n",
            "2019-09-02    125.65        0.006316\n",
            "2019-08-26    124.86        0.004932\n",
            "2019-08-19    124.25       -0.027634\n",
            "2019-08-12    127.78       -0.005150\n",
            "2019-08-05    128.44        0.007401\n",
            "2019-07-29    127.50        0.002601\n",
            "2019-07-22    127.17        0.003223\n",
            "2019-07-15    126.76       -0.029710\n",
            "2019-07-08    130.64       -0.044604\n",
            "2019-07-01    136.74        0.009262\n",
            "2019-06-24    135.48       -0.019776\n",
            "2019-06-17    138.22        0.014276\n",
            "2019-06-10    136.27        0.011115\n",
            "2019-06-03    134.77        0.056424\n",
            "2019-05-27    127.58       -0.048993\n",
            "2019-05-20    134.15        0.001731\n",
            "2019-05-13    133.92       -0.003164\n",
            "2019-05-06    134.34       -0.020844\n",
            "2019-04-29    137.20        0.011539\n",
            "2019-04-22    135.64        0.020870\n",
            "2019-04-15    132.86        0.011325\n",
            "2019-04-08    131.37       -0.001469\n",
            "2019-04-01    131.57       -0.025824\n",
            "2019-03-25    135.06        0.021036\n",
            "2019-03-18    132.27       -0.005015\n",
            "2019-03-11    132.94       -0.003332\n",
            "2019-03-04    133.38        0.004522\n",
            "2019-02-25    132.78        0.012811\n",
            "2019-02-18    131.10        0.001613\n",
            "2019-02-11    130.89        0.030060\n",
            "2019-02-04    127.07       -0.013413\n",
            "2019-01-28    128.80        0.046557\n",
            "2019-01-21    123.07       -0.018823\n",
            "2019-01-14    125.43        0.007245\n",
            "2019-01-07    124.53        0.015020\n",
            "2018-12-31    122.69        0.004400\n",
            "2018-12-24    122.15       -0.006402\n",
            "2018-12-17    122.94       -0.036917\n",
            "2018-12-10    127.65       -0.085471\n",
            "2018-12-03    139.58       -0.003702\n",
            "2018-11-26    140.10        0.032834\n",
            "2018-11-19    135.64       -0.025755\n",
            "2018-11-12    139.23        0.004472\n",
            "2018-11-05    138.61        0.033125\n",
            "2018-10-29    134.17        0.027086\n",
            "2018-10-22    130.63       -0.014959\n",
            "2018-10-15    132.61        0.038694\n",
            "2018-10-08    127.67       -0.037599\n",
            "2018-10-01    132.66        0.006731\n",
            "2018-09-24    131.77       -0.032965\n",
            "2018-09-17    136.26        0.024303\n",
            "2018-09-10    133.03        0.015802\n",
            "2018-09-03    130.96        0.026321\n",
            "2018-08-27    127.60       -0.009268\n",
            "2018-08-20    128.80        0.011006\n",
            "2018-08-13    127.39        0.028451\n",
            "2018-08-06    123.87       -0.009094\n",
            "2018-07-30    125.01        0.003041\n",
            "2018-07-23    124.63        0.045292\n",
            "2018-07-16    119.23       -0.000635\n",
            "2018-07-09    119.30        0.001431\n",
            "2018-07-02    119.13        0.036344\n",
            "2018-06-25    114.96       -0.012211\n",
            "2018-06-18    116.38        0.001876\n",
            "2018-06-11    116.16       -0.011688\n",
            "2018-06-04    117.53        0.023091\n",
            "2018-05-28    114.88        0.005675\n",
            "2018-05-21    114.23       -0.022295\n",
            "2018-05-14    116.84       -0.023578\n",
            "2018-05-07    119.66        0.024559\n",
            "2018-04-30    116.79       -0.031808\n",
            "2018-04-23    120.63        0.012711\n",
            "2018-04-16    119.11       -0.030317\n",
            "2018-04-09    122.84        0.019672\n",
            "2018-04-02    120.47       -0.000390\n",
            "2018-03-26    120.51        0.024381\n",
            "2018-03-19    117.64       -0.064183\n",
            "2018-03-12    125.71       -0.000897\n",
            "2018-03-05    125.83        0.045309\n",
            "2018-02-26    120.37       -0.024239\n",
            "2018-02-19    123.36       -0.008486\n",
            "2018-02-12    124.42        0.027947\n",
            "2018-02-05    121.04       -0.059195\n",
            "2018-01-29    128.65       -0.052639\n",
            "2018-01-22    135.80       -0.013775\n",
            "2018-01-15    137.70        0.010977\n",
            "2018-01-08    136.20        0.028579\n",
            "2018-01-01    132.42        0.014243\n",
            "2017-12-25    130.56       -0.002855\n",
            "2017-12-18    130.93       -0.016426\n",
            "2017-12-11    133.12        0.013301\n",
            "2017-12-04    131.37        0.010508\n",
            "2017-11-27    130.00        0.014275\n",
            "2017-11-20    128.17        0.000073\n",
            "2017-11-13    128.17       -0.011178\n",
            "2017-11-06    129.61       -0.003712\n",
            "2017-10-30    130.10       -0.011990\n",
            "2017-10-23    131.68       -0.004354\n",
            "2017-10-16    132.25        0.043759\n",
            "2017-10-09    126.71        0.024096\n",
            "2017-10-02    123.73        0.024690\n",
            "2017-09-25    120.74       -0.010503\n",
            "2017-09-18    122.03       -0.022759\n",
            "2017-09-11    124.87        0.026493\n",
            "2017-09-04    121.65       -0.000382\n",
            "2017-08-28    121.69        0.001394\n",
            "2017-08-21    121.52       -0.007163\n",
            "2017-08-14    122.40       -0.003531\n",
            "2017-08-07    122.83       -0.000601\n",
            "2017-07-31    122.91        0.010087\n",
            "2017-07-24    121.68       -0.025571\n",
            "2017-07-17    124.87        0.020437\n",
            "2017-07-10    122.37        0.000453\n",
            "2017-07-03    122.32        0.001890\n",
            "2017-06-26    122.09       -0.030345\n",
            "2017-06-19    125.91        0.015482\n",
            "2017-06-12    123.99        0.021440\n",
            "2017-06-05    121.38        0.011147\n",
            "2017-05-29    120.05        0.031694\n",
            "2017-05-22    116.36       -0.000630\n",
            "2017-05-15    116.43        0.027176\n",
            "2017-05-08    113.35        0.001053\n",
            "2017-05-01    113.23        0.000324\n",
            "2017-04-24    113.20        0.014044\n",
            "2017-04-17    111.63       -0.025842\n",
            "2017-04-10    114.59        0.000560\n",
            "2017-04-03    114.52        0.002971\n",
            "2017-03-27    114.19       -0.007412\n",
            "2017-03-20    115.04       -0.020147\n",
            "2017-03-13    117.40        0.014658\n",
            "2017-03-06    115.71        0.019549\n",
            "2017-02-27    113.49        0.015311\n",
            "2017-02-20    111.78        0.032559\n",
            "2017-02-13    108.25        0.031413\n",
            "2017-02-06    104.96        0.014079\n",
            "2017-01-30    103.50        0.002293\n",
            "2017-01-23    103.26       -0.006746\n",
            "2017-01-16    103.96       -0.003927\n",
            "2017-01-09    104.37       -0.014617\n",
            "2017-01-02    105.92        0.009461\n",
            "2016-12-26    104.93       -0.006468\n",
            "2016-12-19    105.61        0.000690\n",
            "2016-12-12    105.54        0.032247\n",
            "2016-12-05    102.24        0.002680\n",
            "2016-11-28    101.97       -0.019013\n",
            "2016-11-21    103.94       -0.003826\n",
            "2016-11-14    104.34       -0.026251\n",
            "2016-11-07    107.16        0.029189\n",
            "2016-10-31    104.12       -0.001907\n",
            "2016-10-24    104.32        0.016661\n",
            "2016-10-17    102.61       -0.035046\n",
            "2016-10-10    106.33       -0.014089\n",
            "2016-10-03    107.85        0.009396\n",
            "2016-09-26    106.85       -0.005723\n",
            "2016-09-19    107.46        0.004736\n",
            "2016-09-12    106.96        0.000169\n",
            "2016-09-05    106.94       -0.009135\n",
            "2016-08-29    107.93        0.002352\n",
            "2016-08-22    107.67       -0.000716\n",
            "2016-08-15    107.75       -0.026781\n",
            "2016-08-08    110.71       -0.008210\n",
            "2016-08-01    111.63       -0.007905\n",
            "2016-07-25    112.52        0.001600\n",
            "2016-07-18    112.34        0.016504\n",
            "2016-07-11    110.52        0.001221\n",
            "2016-07-04    110.38        0.012862\n",
            "2016-06-27    108.98        0.048950\n",
            "2016-06-20    103.90        0.001299\n",
            "2016-06-13    103.76       -0.013076\n",
            "2016-06-06    105.14        0.019606\n",
            "2016-05-30    103.11        0.015036\n",
            "2016-05-23    101.59        0.010895\n",
            "2016-05-16    100.49       -0.008102\n",
            "2016-05-09    101.31        0.007273\n",
            "2016-05-02    100.58        0.005889\n",
            "2016-04-25     99.99       -0.010942\n",
            "2016-04-18    101.10        0.028499\n",
            "2016-04-11     98.30        0.009899\n",
            "2016-04-04     97.33       -0.000824\n",
            "2016-03-28     97.41        0.008125\n",
            "2016-03-21     96.63        0.007535\n",
            "2016-03-14     95.91       -0.001950\n",
            "2016-03-07     96.09        0.011362\n",
            "2016-02-29     95.01        0.006807\n",
            "2016-02-22     94.37        0.022913\n",
            "2016-02-15     92.26        0.022982\n",
            "2016-02-08     90.18        0.012731\n",
            "2016-02-01     89.05       -0.037342\n",
            "2016-01-25     92.51        0.079483\n",
            "2016-01-18     85.69       -0.002577\n",
            "2016-01-11     85.92       -0.011818\n",
            "2016-01-04     86.94       -0.044392\n",
            "2015-12-28     90.98       -0.009641\n",
            "2015-12-21     91.87        0.017362\n",
            "2015-12-14     90.30        0.002655\n",
            "2015-12-07     90.06       -0.012336\n",
            "2015-11-30     91.19        0.005666\n",
            "2015-11-23     90.67        0.006291\n",
            "2015-11-16     90.10        0.026031\n",
            "2015-11-09     87.82       -0.020016\n",
            "2015-11-02     89.61        0.008809\n",
            "2015-10-26     88.83        0.007178\n",
            "2015-10-19     88.20        0.021071\n",
            "2015-10-12     86.38        0.030093\n",
            "2015-10-05     83.85        0.015331\n",
            "2015-09-28     82.59        0.032198\n",
            "2015-09-21     80.01       -0.025592\n",
            "2015-09-14     82.11        0.004950\n",
            "2015-09-07     81.71        0.017742\n",
            "2015-08-31     80.28       -0.040559\n",
            "2015-08-24     83.68        0.003537\n",
            "2015-08-17     83.38       -0.032892\n",
            "2015-08-10     86.22       -0.000404\n",
            "2015-08-03     86.25       -0.013572\n",
            "2015-07-27     87.44        0.010691\n",
            "2015-07-20     86.52       -0.009293\n",
            "2015-07-13     87.33        0.005526\n",
            "2015-07-06     86.85             NaN\n",
            "\n",
            "\n"
          ],
          "name": "stdout"
        }
      ]
    }
  ]
}