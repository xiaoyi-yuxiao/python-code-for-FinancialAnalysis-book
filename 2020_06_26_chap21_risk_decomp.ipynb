{
  "nbformat": 4,
  "nbformat_minor": 0,
  "metadata": {
    "colab": {
      "name": "2020_06_26_chap21_risk decomp.ipynb",
      "provenance": [],
      "collapsed_sections": [],
      "include_colab_link": true
    },
    "kernelspec": {
      "name": "python3",
      "display_name": "Python 3"
    }
  },
  "cells": [
    {
      "cell_type": "markdown",
      "metadata": {
        "id": "view-in-github",
        "colab_type": "text"
      },
      "source": [
        "<a href=\"https://colab.research.google.com/github/xiaoyi-yuxiao/python-code-for-FinancialAnalysis-book/blob/master/2020_06_26_chap21_risk_decomp.ipynb\" target=\"_parent\"><img src=\"https://colab.research.google.com/assets/colab-badge.svg\" alt=\"Open In Colab\"/></a>"
      ]
    },
    {
      "cell_type": "code",
      "metadata": {
        "id": "elhaTvMuzfZB",
        "colab_type": "code",
        "colab": {
          "base_uri": "https://localhost:8080/",
          "height": 357
        },
        "outputId": "a4c36c91-b469-4421-b752-01d36227ad38"
      },
      "source": [
        "pip install yfinance"
      ],
      "execution_count": null,
      "outputs": [
        {
          "output_type": "stream",
          "text": [
            "Collecting yfinance\n",
            "  Downloading https://files.pythonhosted.org/packages/c2/31/8b374a12b90def92a4e27d0fc595fc43635f395984e36a075244d98bd265/yfinance-0.1.54.tar.gz\n",
            "Requirement already satisfied: pandas>=0.24 in /usr/local/lib/python3.6/dist-packages (from yfinance) (1.0.5)\n",
            "Requirement already satisfied: numpy>=1.15 in /usr/local/lib/python3.6/dist-packages (from yfinance) (1.18.5)\n",
            "Requirement already satisfied: requests>=2.20 in /usr/local/lib/python3.6/dist-packages (from yfinance) (2.23.0)\n",
            "Requirement already satisfied: multitasking>=0.0.7 in /usr/local/lib/python3.6/dist-packages (from yfinance) (0.0.9)\n",
            "Requirement already satisfied: python-dateutil>=2.6.1 in /usr/local/lib/python3.6/dist-packages (from pandas>=0.24->yfinance) (2.8.1)\n",
            "Requirement already satisfied: pytz>=2017.2 in /usr/local/lib/python3.6/dist-packages (from pandas>=0.24->yfinance) (2018.9)\n",
            "Requirement already satisfied: urllib3!=1.25.0,!=1.25.1,<1.26,>=1.21.1 in /usr/local/lib/python3.6/dist-packages (from requests>=2.20->yfinance) (1.24.3)\n",
            "Requirement already satisfied: certifi>=2017.4.17 in /usr/local/lib/python3.6/dist-packages (from requests>=2.20->yfinance) (2020.4.5.2)\n",
            "Requirement already satisfied: chardet<4,>=3.0.2 in /usr/local/lib/python3.6/dist-packages (from requests>=2.20->yfinance) (3.0.4)\n",
            "Requirement already satisfied: idna<3,>=2.5 in /usr/local/lib/python3.6/dist-packages (from requests>=2.20->yfinance) (2.9)\n",
            "Requirement already satisfied: six>=1.5 in /usr/local/lib/python3.6/dist-packages (from python-dateutil>=2.6.1->pandas>=0.24->yfinance) (1.12.0)\n",
            "Building wheels for collected packages: yfinance\n",
            "  Building wheel for yfinance (setup.py) ... \u001b[?25l\u001b[?25hdone\n",
            "  Created wheel for yfinance: filename=yfinance-0.1.54-py2.py3-none-any.whl size=22409 sha256=6eb90d0287b8501a3e03f2533b607069167daa7490236bbcfe60e2dc2a493a5c\n",
            "  Stored in directory: /root/.cache/pip/wheels/f9/e3/5b/ec24dd2984b12d61e0abf26289746c2436a0e7844f26f2515c\n",
            "Successfully built yfinance\n",
            "Installing collected packages: yfinance\n",
            "Successfully installed yfinance-0.1.54\n"
          ],
          "name": "stdout"
        }
      ]
    },
    {
      "cell_type": "code",
      "metadata": {
        "id": "wV4tsmwU0G2L",
        "colab_type": "code",
        "colab": {
          "base_uri": "https://localhost:8080/",
          "height": 102
        },
        "outputId": "cfcb0ee5-4bcf-464d-da8d-0157f5f5c3e8"
      },
      "source": [
        "pip install requests"
      ],
      "execution_count": null,
      "outputs": [
        {
          "output_type": "stream",
          "text": [
            "Requirement already satisfied: requests in /usr/local/lib/python3.6/dist-packages (2.23.0)\n",
            "Requirement already satisfied: certifi>=2017.4.17 in /usr/local/lib/python3.6/dist-packages (from requests) (2020.4.5.2)\n",
            "Requirement already satisfied: urllib3!=1.25.0,!=1.25.1,<1.26,>=1.21.1 in /usr/local/lib/python3.6/dist-packages (from requests) (1.24.3)\n",
            "Requirement already satisfied: idna<3,>=2.5 in /usr/local/lib/python3.6/dist-packages (from requests) (2.9)\n",
            "Requirement already satisfied: chardet<4,>=3.0.2 in /usr/local/lib/python3.6/dist-packages (from requests) (3.0.4)\n"
          ],
          "name": "stdout"
        }
      ]
    },
    {
      "cell_type": "code",
      "metadata": {
        "id": "P4VJWuJK0Jnf",
        "colab_type": "code",
        "colab": {
          "base_uri": "https://localhost:8080/",
          "height": 51
        },
        "outputId": "0623a4b7-1498-4621-df8c-5f168864a782"
      },
      "source": [
        "pip install bs4"
      ],
      "execution_count": null,
      "outputs": [
        {
          "output_type": "stream",
          "text": [
            "Requirement already satisfied: bs4 in /usr/local/lib/python3.6/dist-packages (0.0.1)\n",
            "Requirement already satisfied: beautifulsoup4 in /usr/local/lib/python3.6/dist-packages (from bs4) (4.6.3)\n"
          ],
          "name": "stdout"
        }
      ]
    },
    {
      "cell_type": "code",
      "metadata": {
        "id": "RHuOyyOl0PXB",
        "colab_type": "code",
        "colab": {
          "base_uri": "https://localhost:8080/",
          "height": 71
        },
        "outputId": "ebf8b057-105c-427b-d8a0-923adad4644b"
      },
      "source": [
        "import yfinance as yf\n",
        "import matplotlib.pyplot as plt\n",
        "import numpy as np\n",
        "import pandas as pd\n",
        "from scipy.stats import kurtosis, skew\n",
        "from tabulate import tabulate\n",
        "import datetime as dt#get current date\n",
        "import statsmodels.api as sm\n",
        "from statsmodels.formula.api import ols\n",
        "from statsmodels.stats.anova import anova_lm\n",
        "import requests\n",
        "from bs4 import BeautifulSoup\n",
        "import matplotlib.ticker as mtick"
      ],
      "execution_count": null,
      "outputs": [
        {
          "output_type": "stream",
          "text": [
            "/usr/local/lib/python3.6/dist-packages/statsmodels/tools/_testing.py:19: FutureWarning: pandas.util.testing is deprecated. Use the functions in the public API at pandas.testing instead.\n",
            "  import pandas.util.testing as tm\n"
          ],
          "name": "stderr"
        }
      ]
    },
    {
      "cell_type": "code",
      "metadata": {
        "id": "3wnRfn8H0SIC",
        "colab_type": "code",
        "colab": {}
      },
      "source": [
        "def stock_return(Ticker,Start_T, End_T, T_interval):\n",
        "  if T_interval == '1y':\n",
        "    Stock_price = yf.download(Ticker,start=Start_T,end=End_T,interval = '1mo')['Adj Close'].dropna()\n",
        "    Stock_price_year = []\n",
        "    date_year = pd.date_range(start=Start_T,end=End_T, freq='Y')\n",
        "    for i in range(len(Stock_price)):\n",
        "      if i % 12 == 0:\n",
        "        Stock_price_year.append(Stock_price[i])\n",
        "    s1 = pd.Series(date_year,name='Date')\n",
        "    s2=  pd.Series(Stock_price_year[:len(date_year)],name='year_stock_price')\n",
        "    Ret_y = s2.pct_change()[1:].dropna()\n",
        "    Ret_y_d = pd.concat([s1, Ret_y],axis=1).dropna()\n",
        "    Ret_y_d = Ret_y_d.set_index('Date')\n",
        "    return(Ret_y_d)\n",
        "  else:\n",
        "    Stock_price = yf.download(Ticker,start=Start_T,end=End_T,interval = T_interval)['Adj Close'].dropna()\n",
        "    Ret = Stock_price.pct_change()[1:].dropna()\n",
        "    return Ret"
      ],
      "execution_count": null,
      "outputs": []
    },
    {
      "cell_type": "code",
      "metadata": {
        "id": "wQLmWoSR0UfM",
        "colab_type": "code",
        "colab": {
          "base_uri": "https://localhost:8080/",
          "height": 1000
        },
        "outputId": "3eabc6c1-85bc-49d2-9963-778746ae8cd8"
      },
      "source": [
        "\n",
        "previousday = dt.date.today()-dt.timedelta(days=1)# get the date of previous day\n",
        "Default_end = previousday.strftime(\"%Y-%m-%d\") # change the format of the default datetime \n",
        "years_ago = dt.date.today()-dt.timedelta(days=1852)\n",
        "Default_start = years_ago.strftime(\"%Y-%m-%d\")\n",
        "\n",
        "Ticker = input('Please enter ticker(Default = JNJ)-->') or 'JNJ'\n",
        "Start = input('Enter start date(' + 'Default = 5 Years ago, ' + Default_start + ')-->') or Default_start\n",
        "End = input('Enter end date(Default = Yesterday, ' + Default_end + ')-->') or Default_end\n",
        "T_interval = input('Enter date interval(1m,2m,5m,15m,30m,60m,90m,1h,1d,5d,1wk,1mo,3mo Default = 1mo)-->') or '1mo'\n",
        "\n",
        "Ret = stock_return(Ticker,Start, End, T_interval)\n",
        "Ret1 = stock_return('SNP',Start, End, T_interval)\n",
        "#Ret.sort_index(ascending=True)\n",
        "#Ret1.sort_index(ascending=True)\n",
        "if T_interval != '1y':\n",
        "  Ret.to_frame()\n",
        "  Ret1.to_frame()\n",
        "Retcon = pd.concat([Ret,Ret1], axis = 1)\n",
        "Retcon.columns = [Ticker, 'SNP']\n",
        "print(Retcon)"
      ],
      "execution_count": null,
      "outputs": [
        {
          "output_type": "stream",
          "text": [
            "Please enter ticker(Default = JNJ)-->\n",
            "Enter start date(Default = 5 Years ago, 2015-06-01)-->\n",
            "Enter end date(Default = Yesterday, 2020-06-25)-->\n",
            "Enter date interval(1m,2m,5m,15m,30m,60m,90m,1h,1d,5d,1wk,1mo,3mo Default = 1mo)-->\n",
            "[*********************100%***********************]  1 of 1 completed\n",
            "[*********************100%***********************]  1 of 1 completed\n",
            "                 JNJ       SNP\n",
            "Date                          \n",
            "2015-07-01  0.028217 -0.103668\n",
            "2015-08-01 -0.062169 -0.104374\n",
            "2015-09-01  0.000895 -0.013064\n",
            "2015-10-01  0.082271  0.130728\n",
            "2015-11-01  0.002078 -0.141509\n",
            "2015-12-01  0.022098 -0.030705\n",
            "2016-01-01  0.016745 -0.061187\n",
            "2016-02-01  0.007373  0.009945\n",
            "2016-03-01  0.035872  0.145595\n",
            "2016-04-01  0.035860  0.086263\n",
            "2016-05-01  0.005443 -0.035609\n",
            "2016-06-01  0.084090  0.054945\n",
            "2016-07-01  0.032399  0.010779\n",
            "2016-08-01 -0.047034 -0.006127\n",
            "2016-09-01 -0.003535  0.034748\n",
            "2016-10-01 -0.018116 -0.003189\n",
            "2016-11-01 -0.040434 -0.003038\n",
            "2016-12-01  0.042283 -0.005956\n",
            "2017-01-01 -0.017012  0.115229\n",
            "2017-02-01  0.079117 -0.030859\n",
            "2017-03-01  0.025891  0.050793\n",
            "2017-04-01 -0.008671 -0.001718\n",
            "2017-05-01  0.038714  0.008848\n",
            "2017-06-01  0.038341 -0.042514\n",
            "2017-07-01  0.003251 -0.030662\n",
            "2017-08-01 -0.002637  0.038094\n",
            "2017-09-01 -0.011581 -0.011482\n",
            "2017-10-01  0.072302 -0.008890\n",
            "2017-11-01 -0.000574 -0.020913\n",
            "2017-12-01  0.008940  0.017614\n",
            "2018-01-01 -0.010950  0.183726\n",
            "2018-02-01 -0.060135 -0.089234\n",
            "2018-03-01 -0.007002  0.118584\n",
            "2018-04-01 -0.012954  0.102396\n",
            "2018-05-01 -0.054313 -0.000923\n",
            "2018-06-01  0.021902 -0.016141\n",
            "2018-07-01  0.092138  0.067231\n",
            "2018-08-01  0.016375  0.035774\n",
            "2018-09-01  0.032674  0.011379\n",
            "2018-10-01  0.013172 -0.177642\n",
            "2018-11-01  0.049361  0.058021\n",
            "2018-12-01 -0.115917 -0.172721\n",
            "2019-01-01  0.031228  0.182011\n",
            "2019-02-01  0.026751  0.028161\n",
            "2019-03-01  0.029838 -0.073427\n",
            "2019-04-01  0.010087 -0.034717\n",
            "2019-05-01 -0.071175 -0.138520\n",
            "2019-06-01  0.069257  0.091217\n",
            "2019-07-01 -0.065049 -0.059091\n",
            "2019-08-01 -0.014284 -0.093502\n",
            "2019-09-01  0.015499  0.009111\n",
            "2019-10-01  0.020560 -0.010136\n",
            "2019-11-01  0.041276 -0.011329\n",
            "2019-12-01  0.068300  0.076992\n",
            "2020-01-01  0.020566 -0.128346\n",
            "2020-02-01 -0.096661 -0.016975\n",
            "2020-03-01 -0.018693 -0.055103\n",
            "2020-04-01  0.144208  0.020123\n",
            "2020-05-01 -0.008598 -0.043277\n",
            "2020-06-01 -0.054533 -0.091942\n"
          ],
          "name": "stdout"
        }
      ]
    },
    {
      "cell_type": "code",
      "metadata": {
        "id": "JdK4uKW70WVV",
        "colab_type": "code",
        "colab": {
          "base_uri": "https://localhost:8080/",
          "height": 425
        },
        "outputId": "9935afa1-d44a-4fd6-d0b3-9235aeb915b6"
      },
      "source": [
        "ret_M = stock_return('SNP', Start,End,T_interval)\n",
        "ret_a = stock_return(Ticker, Start,End, T_interval)\n",
        "ret_M_arr = np.asarray(ret_M)\n",
        "ret_a_arr = np.asarray(ret_a)\n",
        "ret_Mc = sm.add_constant(ret_M_arr)\n",
        "results = sm.OLS(ret_a_arr,ret_Mc).fit()\n",
        "print('                                 Market Model')\n",
        "print(results.summary2())"
      ],
      "execution_count": null,
      "outputs": [
        {
          "output_type": "stream",
          "text": [
            "[*********************100%***********************]  1 of 1 completed\n",
            "[*********************100%***********************]  1 of 1 completed\n",
            "                                 Market Model\n",
            "                 Results: Ordinary least squares\n",
            "==================================================================\n",
            "Model:              OLS              Adj. R-squared:     0.149    \n",
            "Dependent Variable: y                AIC:                -204.2033\n",
            "Date:               2020-06-26 13:29 BIC:                -200.0146\n",
            "No. Observations:   60               Log-Likelihood:     104.10   \n",
            "Df Model:           1                F-statistic:        11.31    \n",
            "Df Residuals:       58               Prob (F-statistic): 0.00137  \n",
            "R-squared:          0.163            Scale:              0.0018846\n",
            "---------------------------------------------------------------------\n",
            "          Coef.     Std.Err.      t       P>|t|      [0.025    0.975]\n",
            "---------------------------------------------------------------------\n",
            "const     0.0101      0.0056    1.8019    0.0768    -0.0011    0.0213\n",
            "x1        0.2388      0.0710    3.3625    0.0014     0.0966    0.3809\n",
            "------------------------------------------------------------------\n",
            "Omnibus:               0.885        Durbin-Watson:           1.928\n",
            "Prob(Omnibus):         0.642        Jarque-Bera (JB):        0.329\n",
            "Skew:                  0.104        Prob(JB):                0.848\n",
            "Kurtosis:              3.297        Condition No.:           13   \n",
            "==================================================================\n",
            "\n"
          ],
          "name": "stdout"
        }
      ]
    },
    {
      "cell_type": "code",
      "metadata": {
        "id": "OWf91ZEQ0fEj",
        "colab_type": "code",
        "colab": {
          "base_uri": "https://localhost:8080/",
          "height": 68
        },
        "outputId": "eb316771-3b3c-4f9d-b99f-030bcea6d965"
      },
      "source": [
        "model = ols(Ticker+' ~ SNP',Retcon).fit()\n",
        "anova_table = anova_lm(model)\n",
        "print(anova_table)"
      ],
      "execution_count": null,
      "outputs": [
        {
          "output_type": "stream",
          "text": [
            "            df    sum_sq   mean_sq          F    PR(>F)\n",
            "SNP        1.0  0.021308  0.021308  11.306478  0.001373\n",
            "Residual  58.0  0.109308  0.001885        NaN       NaN\n"
          ],
          "name": "stdout"
        }
      ]
    },
    {
      "cell_type": "code",
      "metadata": {
        "id": "r-KtN_3O0hVz",
        "colab_type": "code",
        "colab": {
          "base_uri": "https://localhost:8080/",
          "height": 85
        },
        "outputId": "4f8db3ac-06b7-4c40-a283-d89e7225a60f"
      },
      "source": [
        "total_risk = round((anova_table['sum_sq'][0]+anova_table['sum_sq'][1])/(anova_table['df'][0]+anova_table['df'][1]),5)\n",
        "systematic_risk = round((anova_table['sum_sq'][0])/(anova_table['df'][0]+anova_table['df'][1]),5)\n",
        "unsystematic_risk = round((anova_table['sum_sq'][1])/(anova_table['df'][0]+anova_table['df'][1]),5)\n",
        "print('By using the rate of return for ' + str(Ticker) + ' and the market rate of return to estimate the market model \\nWe obtain total risk as ' + str(total_risk)+'\\nSystematic risk as '+ str(systematic_risk) + '\\nUnsystematic risk as '+ str(unsystematic_risk))"
      ],
      "execution_count": null,
      "outputs": [
        {
          "output_type": "stream",
          "text": [
            "By using the rate of return for JNJ and the market rate of return to estimate the market model \n",
            "We obtain total risk as 0.00221\n",
            "Systematic risk as 0.00036\n",
            "Unsystematic risk as 0.00185\n"
          ],
          "name": "stdout"
        }
      ]
    }
  ]
}